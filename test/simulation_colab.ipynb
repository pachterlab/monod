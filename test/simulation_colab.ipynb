{
  "cells": [
    {
      "cell_type": "markdown",
      "metadata": {
        "id": "view-in-github",
        "colab_type": "text"
      },
      "source": [
        "<a href=\"https://colab.research.google.com/github/pachterlab/monod/blob/anndata/test/simulation_colab.ipynb\" target=\"_parent\"><img src=\"https://colab.research.google.com/assets/colab-badge.svg\" alt=\"Open In Colab\"/></a>"
      ]
    },
    {
      "cell_type": "markdown",
      "metadata": {
        "id": "t0jj305u1LB0"
      },
      "source": [
        "# *Monod* test"
      ]
    },
    {
      "cell_type": "markdown",
      "metadata": {
        "id": "clys0amiJQ4V"
      },
      "source": [
        "In the current notebook, we test *Monod* on simulations."
      ]
    },
    {
      "cell_type": "markdown",
      "metadata": {
        "id": "ctrAiiMB1dWK"
      },
      "source": [
        "## Import prerequisites"
      ]
    },
    {
      "cell_type": "markdown",
      "metadata": {
        "id": "fbqxrHZX1PIB"
      },
      "source": [
        "### Install monod"
      ]
    },
    {
      "cell_type": "code",
      "execution_count": 2,
      "metadata": {
        "colab": {
          "base_uri": "https://localhost:8080/"
        },
        "id": "1AQA8mxjqbvX",
        "outputId": "07995037-0b63-41ef-e792-b67f085c81c2"
      },
      "outputs": [
        {
          "output_type": "stream",
          "name": "stdout",
          "text": [
            "Cloning into 'monod'...\n",
            "remote: Enumerating objects: 1141, done.\u001b[K\n",
            "remote: Counting objects: 100% (570/570), done.\u001b[K\n",
            "remote: Compressing objects: 100% (202/202), done.\u001b[K\n",
            "remote: Total 1141 (delta 445), reused 435 (delta 366), pack-reused 571 (from 1)\u001b[K\n",
            "Receiving objects: 100% (1141/1141), 25.13 MiB | 3.54 MiB/s, done.\n",
            "Resolving deltas: 100% (656/656), done.\n"
          ]
        }
      ],
      "source": [
        "!git clone -b anndata --single-branch https://github.com/pachterlab/monod.git"
      ]
    },
    {
      "cell_type": "code",
      "source": [
        "!git clone https://github.com/pachterlab/monod_examples.git"
      ],
      "metadata": {
        "colab": {
          "base_uri": "https://localhost:8080/"
        },
        "id": "7qyXOlcURX3X",
        "outputId": "40ea9483-17c5-4d38-decb-8e87ad29766e"
      },
      "execution_count": 3,
      "outputs": [
        {
          "output_type": "stream",
          "name": "stdout",
          "text": [
            "Cloning into 'monod_examples'...\n",
            "remote: Enumerating objects: 1492, done.\u001b[K\n",
            "remote: Counting objects: 100% (433/433), done.\u001b[K\n",
            "remote: Compressing objects: 100% (243/243), done.\u001b[K\n",
            "remote: Total 1492 (delta 192), reused 399 (delta 181), pack-reused 1059 (from 1)\u001b[K\n",
            "Receiving objects: 100% (1492/1492), 1.07 GiB | 29.92 MiB/s, done.\n",
            "Resolving deltas: 100% (536/536), done.\n",
            "Updating files: 100% (92/92), done.\n"
          ]
        }
      ]
    },
    {
      "cell_type": "markdown",
      "metadata": {
        "id": "hfprorcN13LY"
      },
      "source": [
        "### Import packages"
      ]
    },
    {
      "cell_type": "markdown",
      "metadata": {
        "id": "q1XTsobSlp--"
      },
      "source": [
        "Let's make sure that the version is correct."
      ]
    },
    {
      "cell_type": "code",
      "execution_count": 4,
      "metadata": {
        "colab": {
          "base_uri": "https://localhost:8080/"
        },
        "id": "92hE3qk21Tvc",
        "outputId": "bd30d1ca-a6a6-46fb-d33a-6f04230bdf7b"
      },
      "outputs": [
        {
          "output_type": "stream",
          "name": "stdout",
          "text": [
            "Collecting scanpy\n",
            "  Downloading scanpy-1.10.2-py3-none-any.whl.metadata (9.3 kB)\n",
            "Collecting loompy\n",
            "  Downloading loompy-3.0.7.tar.gz (4.8 MB)\n",
            "\u001b[2K     \u001b[90m━━━━━━━━━━━━━━━━━━━━━━━━━━━━━━━━━━━━━━━━\u001b[0m \u001b[32m4.8/4.8 MB\u001b[0m \u001b[31m7.5 MB/s\u001b[0m eta \u001b[36m0:00:00\u001b[0m\n",
            "\u001b[?25h  Preparing metadata (setup.py) ... \u001b[?25l\u001b[?25hdone\n",
            "Collecting numdifftools\n",
            "  Downloading numdifftools-0.9.41-py2.py3-none-any.whl.metadata (39 kB)\n",
            "Collecting anndata>=0.8 (from scanpy)\n",
            "  Downloading anndata-0.10.9-py3-none-any.whl.metadata (6.9 kB)\n",
            "Requirement already satisfied: h5py>=3.1 in /usr/local/lib/python3.10/dist-packages (from scanpy) (3.11.0)\n",
            "Requirement already satisfied: joblib in /usr/local/lib/python3.10/dist-packages (from scanpy) (1.4.2)\n",
            "Collecting legacy-api-wrap>=1.4 (from scanpy)\n",
            "  Downloading legacy_api_wrap-1.4-py3-none-any.whl.metadata (1.8 kB)\n",
            "Requirement already satisfied: matplotlib>=3.6 in /usr/local/lib/python3.10/dist-packages (from scanpy) (3.7.1)\n",
            "Requirement already satisfied: natsort in /usr/local/lib/python3.10/dist-packages (from scanpy) (8.4.0)\n",
            "Requirement already satisfied: networkx>=2.7 in /usr/local/lib/python3.10/dist-packages (from scanpy) (3.3)\n",
            "Requirement already satisfied: numba>=0.56 in /usr/local/lib/python3.10/dist-packages (from scanpy) (0.60.0)\n",
            "Requirement already satisfied: numpy<2,>=1.23 in /usr/local/lib/python3.10/dist-packages (from scanpy) (1.26.4)\n",
            "Requirement already satisfied: packaging>=21.3 in /usr/local/lib/python3.10/dist-packages (from scanpy) (24.1)\n",
            "Requirement already satisfied: pandas>=1.5 in /usr/local/lib/python3.10/dist-packages (from scanpy) (2.1.4)\n",
            "Requirement already satisfied: patsy in /usr/local/lib/python3.10/dist-packages (from scanpy) (0.5.6)\n",
            "Collecting pynndescent>=0.5 (from scanpy)\n",
            "  Downloading pynndescent-0.5.13-py3-none-any.whl.metadata (6.8 kB)\n",
            "Requirement already satisfied: scikit-learn>=0.24 in /usr/local/lib/python3.10/dist-packages (from scanpy) (1.3.2)\n",
            "Requirement already satisfied: scipy>=1.8 in /usr/local/lib/python3.10/dist-packages (from scanpy) (1.13.1)\n",
            "Requirement already satisfied: seaborn>=0.13 in /usr/local/lib/python3.10/dist-packages (from scanpy) (0.13.1)\n",
            "Collecting session-info (from scanpy)\n",
            "  Downloading session_info-1.0.0.tar.gz (24 kB)\n",
            "  Preparing metadata (setup.py) ... \u001b[?25l\u001b[?25hdone\n",
            "Requirement already satisfied: statsmodels>=0.13 in /usr/local/lib/python3.10/dist-packages (from scanpy) (0.14.2)\n",
            "Requirement already satisfied: tqdm in /usr/local/lib/python3.10/dist-packages (from scanpy) (4.66.5)\n",
            "Collecting umap-learn!=0.5.0,>=0.5 (from scanpy)\n",
            "  Downloading umap_learn-0.5.6-py3-none-any.whl.metadata (21 kB)\n",
            "Requirement already satisfied: setuptools in /usr/local/lib/python3.10/dist-packages (from loompy) (71.0.4)\n",
            "Requirement already satisfied: click in /usr/local/lib/python3.10/dist-packages (from loompy) (8.1.7)\n",
            "Collecting numpy-groupies (from loompy)\n",
            "  Downloading numpy_groupies-0.11.2-py3-none-any.whl.metadata (18 kB)\n",
            "Collecting array-api-compat!=1.5,>1.4 (from anndata>=0.8->scanpy)\n",
            "  Downloading array_api_compat-1.8-py3-none-any.whl.metadata (1.5 kB)\n",
            "Requirement already satisfied: exceptiongroup in /usr/local/lib/python3.10/dist-packages (from anndata>=0.8->scanpy) (1.2.2)\n",
            "Requirement already satisfied: contourpy>=1.0.1 in /usr/local/lib/python3.10/dist-packages (from matplotlib>=3.6->scanpy) (1.3.0)\n",
            "Requirement already satisfied: cycler>=0.10 in /usr/local/lib/python3.10/dist-packages (from matplotlib>=3.6->scanpy) (0.12.1)\n",
            "Requirement already satisfied: fonttools>=4.22.0 in /usr/local/lib/python3.10/dist-packages (from matplotlib>=3.6->scanpy) (4.53.1)\n",
            "Requirement already satisfied: kiwisolver>=1.0.1 in /usr/local/lib/python3.10/dist-packages (from matplotlib>=3.6->scanpy) (1.4.7)\n",
            "Requirement already satisfied: pillow>=6.2.0 in /usr/local/lib/python3.10/dist-packages (from matplotlib>=3.6->scanpy) (9.4.0)\n",
            "Requirement already satisfied: pyparsing>=2.3.1 in /usr/local/lib/python3.10/dist-packages (from matplotlib>=3.6->scanpy) (3.1.4)\n",
            "Requirement already satisfied: python-dateutil>=2.7 in /usr/local/lib/python3.10/dist-packages (from matplotlib>=3.6->scanpy) (2.8.2)\n",
            "Requirement already satisfied: llvmlite<0.44,>=0.43.0dev0 in /usr/local/lib/python3.10/dist-packages (from numba>=0.56->scanpy) (0.43.0)\n",
            "Requirement already satisfied: pytz>=2020.1 in /usr/local/lib/python3.10/dist-packages (from pandas>=1.5->scanpy) (2024.2)\n",
            "Requirement already satisfied: tzdata>=2022.1 in /usr/local/lib/python3.10/dist-packages (from pandas>=1.5->scanpy) (2024.1)\n",
            "Requirement already satisfied: threadpoolctl>=2.0.0 in /usr/local/lib/python3.10/dist-packages (from scikit-learn>=0.24->scanpy) (3.5.0)\n",
            "Requirement already satisfied: six in /usr/local/lib/python3.10/dist-packages (from patsy->scanpy) (1.16.0)\n",
            "Collecting stdlib_list (from session-info->scanpy)\n",
            "  Downloading stdlib_list-0.10.0-py3-none-any.whl.metadata (3.3 kB)\n",
            "Downloading scanpy-1.10.2-py3-none-any.whl (2.1 MB)\n",
            "\u001b[2K   \u001b[90m━━━━━━━━━━━━━━━━━━━━━━━━━━━━━━━━━━━━━━━━\u001b[0m \u001b[32m2.1/2.1 MB\u001b[0m \u001b[31m7.2 MB/s\u001b[0m eta \u001b[36m0:00:00\u001b[0m\n",
            "\u001b[?25hDownloading numdifftools-0.9.41-py2.py3-none-any.whl (100 kB)\n",
            "\u001b[2K   \u001b[90m━━━━━━━━━━━━━━━━━━━━━━━━━━━━━━━━━━━━━━━━\u001b[0m \u001b[32m100.2/100.2 kB\u001b[0m \u001b[31m4.1 MB/s\u001b[0m eta \u001b[36m0:00:00\u001b[0m\n",
            "\u001b[?25hDownloading anndata-0.10.9-py3-none-any.whl (128 kB)\n",
            "\u001b[2K   \u001b[90m━━━━━━━━━━━━━━━━━━━━━━━━━━━━━━━━━━━━━━━━\u001b[0m \u001b[32m129.0/129.0 kB\u001b[0m \u001b[31m4.7 MB/s\u001b[0m eta \u001b[36m0:00:00\u001b[0m\n",
            "\u001b[?25hDownloading legacy_api_wrap-1.4-py3-none-any.whl (15 kB)\n",
            "Downloading pynndescent-0.5.13-py3-none-any.whl (56 kB)\n",
            "\u001b[2K   \u001b[90m━━━━━━━━━━━━━━━━━━━━━━━━━━━━━━━━━━━━━━━━\u001b[0m \u001b[32m56.9/56.9 kB\u001b[0m \u001b[31m798.0 kB/s\u001b[0m eta \u001b[36m0:00:00\u001b[0m\n",
            "\u001b[?25hDownloading umap_learn-0.5.6-py3-none-any.whl (85 kB)\n",
            "\u001b[2K   \u001b[90m━━━━━━━━━━━━━━━━━━━━━━━━━━━━━━━━━━━━━━━━\u001b[0m \u001b[32m85.7/85.7 kB\u001b[0m \u001b[31m3.1 MB/s\u001b[0m eta \u001b[36m0:00:00\u001b[0m\n",
            "\u001b[?25hDownloading numpy_groupies-0.11.2-py3-none-any.whl (40 kB)\n",
            "\u001b[2K   \u001b[90m━━━━━━━━━━━━━━━━━━━━━━━━━━━━━━━━━━━━━━━━\u001b[0m \u001b[32m40.6/40.6 kB\u001b[0m \u001b[31m2.3 MB/s\u001b[0m eta \u001b[36m0:00:00\u001b[0m\n",
            "\u001b[?25hDownloading array_api_compat-1.8-py3-none-any.whl (38 kB)\n",
            "Downloading stdlib_list-0.10.0-py3-none-any.whl (79 kB)\n",
            "\u001b[2K   \u001b[90m━━━━━━━━━━━━━━━━━━━━━━━━━━━━━━━━━━━━━━━━\u001b[0m \u001b[32m79.8/79.8 kB\u001b[0m \u001b[31m2.8 MB/s\u001b[0m eta \u001b[36m0:00:00\u001b[0m\n",
            "\u001b[?25hBuilding wheels for collected packages: loompy, session-info\n",
            "  Building wheel for loompy (setup.py) ... \u001b[?25l\u001b[?25hdone\n",
            "  Created wheel for loompy: filename=loompy-3.0.7-py3-none-any.whl size=52019 sha256=a7d936ad1630399fbf2f7632ef6f649abdd46141eee55de74bcf97d28b902c7e\n",
            "  Stored in directory: /root/.cache/pip/wheels/2c/22/1f/792a4621bb631e538bf1c21feae9bbaa6b19fd6d6ab382d1fd\n",
            "  Building wheel for session-info (setup.py) ... \u001b[?25l\u001b[?25hdone\n",
            "  Created wheel for session-info: filename=session_info-1.0.0-py3-none-any.whl size=8023 sha256=488821a537c20f9b83317b9cf5914bcb01df147e873073a89a3b09fc18c52fb9\n",
            "  Stored in directory: /root/.cache/pip/wheels/6a/aa/b9/eb5d4031476ec10802795b97ccf937b9bd998d68a9b268765a\n",
            "Successfully built loompy session-info\n",
            "Installing collected packages: array-api-compat, stdlib_list, numpy-groupies, legacy-api-wrap, session-info, numdifftools, loompy, pynndescent, anndata, umap-learn, scanpy\n",
            "Successfully installed anndata-0.10.9 array-api-compat-1.8 legacy-api-wrap-1.4 loompy-3.0.7 numdifftools-0.9.41 numpy-groupies-0.11.2 pynndescent-0.5.13 scanpy-1.10.2 session-info-1.0.0 stdlib_list-0.10.0 umap-learn-0.5.6\n"
          ]
        }
      ],
      "source": [
        "!pip install scanpy loompy numdifftools"
      ]
    },
    {
      "cell_type": "code",
      "execution_count": 5,
      "metadata": {
        "id": "Ea8T9j62lo7D"
      },
      "outputs": [],
      "source": [
        "import sys\n",
        "sys.path.insert(0, 'monod/src/monod')\n",
        "\n",
        "import extract_data, cme_toolbox, inference, analysis, mminference"
      ]
    },
    {
      "cell_type": "code",
      "execution_count": 6,
      "metadata": {
        "id": "L8Ax0d2vrdwY"
      },
      "outputs": [],
      "source": [
        "import matplotlib.pyplot as plt\n",
        "import numpy as np\n",
        "import scipy\n",
        "import anndata as ad\n",
        "from IPython.display import display, Markdown\n",
        "import scanpy as sc\n",
        "import random"
      ]
    },
    {
      "cell_type": "code",
      "execution_count": 7,
      "metadata": {
        "id": "XX4tQ2TS0yHB"
      },
      "outputs": [],
      "source": [
        "import logging, sys\n",
        "logging.basicConfig(stream=sys.stdout)\n",
        "log = logging.getLogger()\n",
        "log.setLevel(logging.INFO)\n",
        "import warnings\n",
        "warnings.filterwarnings(\"ignore\") #warning suppression within script is not respected by colab\n",
        "warnings.simplefilter('ignore')"
      ]
    },
    {
      "cell_type": "markdown",
      "metadata": {
        "id": "lTXr7lE21S2z"
      },
      "source": [
        "## Generate data"
      ]
    },
    {
      "cell_type": "markdown",
      "source": [
        "### Functions"
      ],
      "metadata": {
        "id": "MkokEiLAPIXH"
      }
    },
    {
      "cell_type": "code",
      "execution_count": 8,
      "metadata": {
        "id": "_Es6dkf3YNof"
      },
      "outputs": [],
      "source": [
        "class BurstModel():\n",
        "    \"\"\"\n",
        "    Given parameters for bursty transcription, splicing, deg generate P(U,S) for set of (U,S) counts\n",
        "    \"\"\"\n",
        "    def __init__(self,quad_method='fixed_quad',fixed_quad_T=10,quad_order=60,quad_vec_T=np.inf):\n",
        "        self.quad_method = quad_method\n",
        "        self.fixed_quad_T = fixed_quad_T\n",
        "        self.quad_order = quad_order\n",
        "        self.quad_vec_T = quad_vec_T\n",
        "\n",
        "    def burst_intfun(self, x, g, b, beta, gamma):\n",
        "        if np.isclose(beta, gamma):\n",
        "            c_1 = g[0]\n",
        "            c_2 = x * beta * g[1]\n",
        "        else:\n",
        "            f = beta / (beta - gamma)\n",
        "            c_2 = g[1] * f\n",
        "            c_1 = g[0] - c_2\n",
        "\n",
        "        U = b * (np.exp(-beta * x) * c_1 + np.exp(-gamma * x) * c_2)\n",
        "        return U / (1 - U)\n",
        "\n",
        "    def eval_model_pgf(self, p_, g):\n",
        "        p = 10**p_\n",
        "        b, beta, gamma = p\n",
        "\n",
        "        fun = lambda x: self.burst_intfun(x, g, b, beta, gamma)\n",
        "        if self.quad_method == \"quad_vec\":\n",
        "            T = self.quad_vec_T * (1 / beta + 1 / gamma + 1)\n",
        "            gf = scipy.integrate.quad_vec(fun, 0, T)[0]\n",
        "        elif self.quad_method == \"fixed_quad\":\n",
        "            T = self.fixed_quad_T * (1 / beta + 1 / gamma + 1)\n",
        "            gf = scipy.integrate.fixed_quad(fun, 0, T, n=self.quad_order)[0]\n",
        "        else:\n",
        "            raise ValueError(\"Please use one of the specified quadrature methods.\")\n",
        "        return gf  # this is the log-generating function\n",
        "\n",
        "    def get_Pss(self, log10p, limits):\n",
        "        u = []\n",
        "        mx = np.copy(limits)\n",
        "        mx[-1] = mx[-1] // 2 + 1\n",
        "        for i in range(len(mx)):\n",
        "            l = np.arange(mx[i])\n",
        "            u_ = np.exp(-2j * np.pi * l / limits[i]) - 1\n",
        "            u.append(u_)\n",
        "        g = np.meshgrid(*[u_ for u_ in u], indexing=\"ij\")\n",
        "        for i in range(len(mx)):\n",
        "            g[i] = g[i].flatten()\n",
        "        g = np.asarray(g)[:, :, None]\n",
        "\n",
        "        gf = self.eval_model_pgf(log10p, g)\n",
        "        gf = np.exp(gf)\n",
        "        gf = gf.reshape(tuple(mx))\n",
        "\n",
        "        Pss = scipy.fft.irfftn(gf, s=tuple(limits))\n",
        "        Pss = np.abs(Pss) / np.sum(np.abs(Pss))\n",
        "        Pss = Pss.squeeze()\n",
        "        return Pss\n",
        "\n",
        "    def sample(self, log10p, num_data_points):\n",
        "        \"\"\"\n",
        "        Given parmaters, sample (U,S) counts\n",
        "        N = U (nascent/unspliced)\n",
        "        M = S (mature/spliced)\n",
        "        \"\"\"\n",
        "        b, beta, gamma = 10 ** log10p\n",
        "        max_mean = b*np.asarray([1/beta,1/gamma])\n",
        "        max_std = np.sqrt(max_mean*(1+np.asarray([1+b, 1+b*beta/(beta+gamma)])))\n",
        "        mx = np.maximum((max_mean + 10*max_std).astype(int),15)\n",
        "\n",
        "        Pss = self.get_Pss(log10p,mx)\n",
        "\n",
        "        p_flat = Pss.flatten()\n",
        "        x_N, x_M = np.arange(mx[0]), np.arange(mx[1])\n",
        "        X_N, X_M = np.meshgrid(x_N, x_M, indexing='ij')    # get grid of possible values\n",
        "        x_choices = np.arange(np.prod(mx))                 # represent each grid point as a point in a 1D vector\n",
        "\n",
        "        samples = np.random.choice(x_choices, size=num_data_points, replace=True, p=p_flat)\n",
        "        d_N, d_M = X_N.flatten()[samples], X_M.flatten()[samples]\n",
        "        return d_N, d_M"
      ]
    },
    {
      "cell_type": "code",
      "source": [
        "def seq(Y, lam, gene_length=1):\n",
        "    \"\"\"\n",
        "    Y: a list of two 2d arrays for nascent and mature counts\n",
        "    \"\"\"\n",
        "    Y_N, Y_M = Y\n",
        "    lam_N, lam_M = lam\n",
        "    n, p = Y_N.shape\n",
        "    if len(gene_length) == p:\n",
        "        X_N = np.random.poisson(Y_N*lam_N*gene_length[None,:])\n",
        "    else:\n",
        "        X_N = np.random.poisson(Y_N*lam_N)\n",
        "    X_M = np.random.poisson(Y_M*lam_M)\n",
        "    return X_N, X_M"
      ],
      "metadata": {
        "id": "X7YUU9vp9ari"
      },
      "execution_count": 9,
      "outputs": []
    },
    {
      "cell_type": "markdown",
      "source": [
        "### Simulate"
      ],
      "metadata": {
        "id": "xWreCV1bPLqu"
      }
    },
    {
      "cell_type": "code",
      "source": [
        "n_cells = 1000\n",
        "n_genes = 1000\n",
        "params = np.zeros((n_genes,3)) # log10 p\n",
        "Y_N = np.zeros((n_cells,n_genes))\n",
        "Y_M = np.zeros((n_cells,n_genes))\n",
        "\n",
        "for g in range(n_genes):\n",
        "    params[g,0] = 0.5+np.random.randn()*0.05 #int(np.random.uniform(8,12)) #b\n",
        "    params[g,1] = np.random.normal(1,0.1)  #beta\n",
        "    params[g,2] = np.random.normal(0,0.1) #gamma\n",
        "    log10p = np.asarray(params[g])\n",
        "    burst_model = BurstModel()\n",
        "    Y_N[:,g], Y_M[:,g] = burst_model.sample(log10p, n_cells)"
      ],
      "metadata": {
        "id": "OicDN6NZGYhR"
      },
      "execution_count": 10,
      "outputs": []
    },
    {
      "cell_type": "code",
      "source": [
        "# Open the file\n",
        "gene_names = []\n",
        "gene_length = []\n",
        "with open('/content/monod_examples/polyA_ref/gg_200524_mouse_genome_polyA_cum_1', 'r') as f:\n",
        "    # Iterate through each line in the file\n",
        "    for line in f:\n",
        "        # Split the line into parts (assuming space or tab separated values)\n",
        "        gene_length.append(line.split()[1])\n",
        "        gene_names.append(line.split()[0])"
      ],
      "metadata": {
        "id": "lT4AK7C_Fnn6"
      },
      "execution_count": 11,
      "outputs": []
    },
    {
      "cell_type": "code",
      "source": [
        "X_N, X_M = seq([Y_N,Y_M], lam=(10**(-5),0.1), gene_length=np.array(gene_length[:n_genes],dtype=int))"
      ],
      "metadata": {
        "id": "oaNKeQUvFO9t"
      },
      "execution_count": 12,
      "outputs": []
    },
    {
      "cell_type": "code",
      "source": [
        "# Create an AnnData object with the spliced data as the main matrix (X)\n",
        "adata = ad.AnnData(X=X_M)\n",
        "adata.layers['unspliced'] = X_N\n",
        "adata.layers['spliced'] = X_M\n",
        "adata.var_names = gene_names[:n_genes]\n",
        "adata.var"
      ],
      "metadata": {
        "id": "ANbS58G8SqWH",
        "colab": {
          "base_uri": "https://localhost:8080/",
          "height": 406
        },
        "outputId": "ce60d675-105a-4076-d546-1264841e9f04"
      },
      "execution_count": 13,
      "outputs": [
        {
          "output_type": "execute_result",
          "data": {
            "text/plain": [
              "Empty DataFrame\n",
              "Columns: []\n",
              "Index: [Gnai3, Cdc45, H19, Pbsn, Scml2, Klf6, Narf, Apoh, Cav2, Wnt3, Zfy2, Xpo6, Fer, Wnt9a, Tbx2, Ngfr, Cox5a, Scmh1, Tbx4, Brat1, Slfn4, Fgf6, Tfe3, Pih1d2, Btbd17, Sdhd, Ins2, Gpr107, Nalcn, Slc22a18, Th, Itgb2l, Ccnd2, Scnn1g, Fgf23, Igsf5, Gna12, Dlat, Axin2, Pemt, Ckmt1, Tpd52l1, Scpep1, Rnf17, Cdh1, Wap, Rtca, Mnt, Itgb2, Trappc10, Comt, Fap, Dgke, Gmpr, Egfl6, Drp2, Mx1, Tbrg4, Ccm2, Alox12, Gcg, Tspan32, Lhx2, Bcl6b, Hddc2, Glra1, Dbt, Clec2g, Ndufa9, Trim25, Lck, Rem1, Clec10a, Arvcf, Cdh4, Mcts1, Mid2, Tssk3, Dazap2, Tmprss2, Hoxb6, Raf1, Haao, Rab5b, Tubgcp3, Pparg, Zfp385a, Loxl3, Pdgfb, Car4, Gabra2, Adora3, Kat2b, Tcl1b5, Acvr1b, Myo18a, Acvrl1, Clcn4, Sox9, Sult5a1, ...]\n",
              "\n",
              "[1000 rows x 0 columns]"
            ],
            "text/html": [
              "\n",
              "  <div id=\"df-834e8e4a-eb37-4405-bcf4-c2b7d85e9905\" class=\"colab-df-container\">\n",
              "    <div>\n",
              "<style scoped>\n",
              "    .dataframe tbody tr th:only-of-type {\n",
              "        vertical-align: middle;\n",
              "    }\n",
              "\n",
              "    .dataframe tbody tr th {\n",
              "        vertical-align: top;\n",
              "    }\n",
              "\n",
              "    .dataframe thead th {\n",
              "        text-align: right;\n",
              "    }\n",
              "</style>\n",
              "<table border=\"1\" class=\"dataframe\">\n",
              "  <thead>\n",
              "    <tr style=\"text-align: right;\">\n",
              "      <th></th>\n",
              "    </tr>\n",
              "  </thead>\n",
              "  <tbody>\n",
              "    <tr>\n",
              "      <th>Gnai3</th>\n",
              "    </tr>\n",
              "    <tr>\n",
              "      <th>Cdc45</th>\n",
              "    </tr>\n",
              "    <tr>\n",
              "      <th>H19</th>\n",
              "    </tr>\n",
              "    <tr>\n",
              "      <th>Pbsn</th>\n",
              "    </tr>\n",
              "    <tr>\n",
              "      <th>Scml2</th>\n",
              "    </tr>\n",
              "    <tr>\n",
              "      <th>...</th>\n",
              "    </tr>\n",
              "    <tr>\n",
              "      <th>Pex5</th>\n",
              "    </tr>\n",
              "    <tr>\n",
              "      <th>Slc25a18</th>\n",
              "    </tr>\n",
              "    <tr>\n",
              "      <th>Cdt1</th>\n",
              "    </tr>\n",
              "    <tr>\n",
              "      <th>Mc5r</th>\n",
              "    </tr>\n",
              "    <tr>\n",
              "      <th>Brd8</th>\n",
              "    </tr>\n",
              "  </tbody>\n",
              "</table>\n",
              "<p>1000 rows × 0 columns</p>\n",
              "</div>\n",
              "    <div class=\"colab-df-buttons\">\n",
              "\n",
              "  <div class=\"colab-df-container\">\n",
              "    <button class=\"colab-df-convert\" onclick=\"convertToInteractive('df-834e8e4a-eb37-4405-bcf4-c2b7d85e9905')\"\n",
              "            title=\"Convert this dataframe to an interactive table.\"\n",
              "            style=\"display:none;\">\n",
              "\n",
              "  <svg xmlns=\"http://www.w3.org/2000/svg\" height=\"24px\" viewBox=\"0 -960 960 960\">\n",
              "    <path d=\"M120-120v-720h720v720H120Zm60-500h600v-160H180v160Zm220 220h160v-160H400v160Zm0 220h160v-160H400v160ZM180-400h160v-160H180v160Zm440 0h160v-160H620v160ZM180-180h160v-160H180v160Zm440 0h160v-160H620v160Z\"/>\n",
              "  </svg>\n",
              "    </button>\n",
              "\n",
              "  <style>\n",
              "    .colab-df-container {\n",
              "      display:flex;\n",
              "      gap: 12px;\n",
              "    }\n",
              "\n",
              "    .colab-df-convert {\n",
              "      background-color: #E8F0FE;\n",
              "      border: none;\n",
              "      border-radius: 50%;\n",
              "      cursor: pointer;\n",
              "      display: none;\n",
              "      fill: #1967D2;\n",
              "      height: 32px;\n",
              "      padding: 0 0 0 0;\n",
              "      width: 32px;\n",
              "    }\n",
              "\n",
              "    .colab-df-convert:hover {\n",
              "      background-color: #E2EBFA;\n",
              "      box-shadow: 0px 1px 2px rgba(60, 64, 67, 0.3), 0px 1px 3px 1px rgba(60, 64, 67, 0.15);\n",
              "      fill: #174EA6;\n",
              "    }\n",
              "\n",
              "    .colab-df-buttons div {\n",
              "      margin-bottom: 4px;\n",
              "    }\n",
              "\n",
              "    [theme=dark] .colab-df-convert {\n",
              "      background-color: #3B4455;\n",
              "      fill: #D2E3FC;\n",
              "    }\n",
              "\n",
              "    [theme=dark] .colab-df-convert:hover {\n",
              "      background-color: #434B5C;\n",
              "      box-shadow: 0px 1px 3px 1px rgba(0, 0, 0, 0.15);\n",
              "      filter: drop-shadow(0px 1px 2px rgba(0, 0, 0, 0.3));\n",
              "      fill: #FFFFFF;\n",
              "    }\n",
              "  </style>\n",
              "\n",
              "    <script>\n",
              "      const buttonEl =\n",
              "        document.querySelector('#df-834e8e4a-eb37-4405-bcf4-c2b7d85e9905 button.colab-df-convert');\n",
              "      buttonEl.style.display =\n",
              "        google.colab.kernel.accessAllowed ? 'block' : 'none';\n",
              "\n",
              "      async function convertToInteractive(key) {\n",
              "        const element = document.querySelector('#df-834e8e4a-eb37-4405-bcf4-c2b7d85e9905');\n",
              "        const dataTable =\n",
              "          await google.colab.kernel.invokeFunction('convertToInteractive',\n",
              "                                                    [key], {});\n",
              "        if (!dataTable) return;\n",
              "\n",
              "        const docLinkHtml = 'Like what you see? Visit the ' +\n",
              "          '<a target=\"_blank\" href=https://colab.research.google.com/notebooks/data_table.ipynb>data table notebook</a>'\n",
              "          + ' to learn more about interactive tables.';\n",
              "        element.innerHTML = '';\n",
              "        dataTable['output_type'] = 'display_data';\n",
              "        await google.colab.output.renderOutput(dataTable, element);\n",
              "        const docLink = document.createElement('div');\n",
              "        docLink.innerHTML = docLinkHtml;\n",
              "        element.appendChild(docLink);\n",
              "      }\n",
              "    </script>\n",
              "  </div>\n",
              "\n",
              "\n",
              "<div id=\"df-07c99dc6-c4f4-432f-bfbf-cfe18ca62ca6\">\n",
              "  <button class=\"colab-df-quickchart\" onclick=\"quickchart('df-07c99dc6-c4f4-432f-bfbf-cfe18ca62ca6')\"\n",
              "            title=\"Suggest charts\"\n",
              "            style=\"display:none;\">\n",
              "\n",
              "<svg xmlns=\"http://www.w3.org/2000/svg\" height=\"24px\"viewBox=\"0 0 24 24\"\n",
              "     width=\"24px\">\n",
              "    <g>\n",
              "        <path d=\"M19 3H5c-1.1 0-2 .9-2 2v14c0 1.1.9 2 2 2h14c1.1 0 2-.9 2-2V5c0-1.1-.9-2-2-2zM9 17H7v-7h2v7zm4 0h-2V7h2v10zm4 0h-2v-4h2v4z\"/>\n",
              "    </g>\n",
              "</svg>\n",
              "  </button>\n",
              "\n",
              "<style>\n",
              "  .colab-df-quickchart {\n",
              "      --bg-color: #E8F0FE;\n",
              "      --fill-color: #1967D2;\n",
              "      --hover-bg-color: #E2EBFA;\n",
              "      --hover-fill-color: #174EA6;\n",
              "      --disabled-fill-color: #AAA;\n",
              "      --disabled-bg-color: #DDD;\n",
              "  }\n",
              "\n",
              "  [theme=dark] .colab-df-quickchart {\n",
              "      --bg-color: #3B4455;\n",
              "      --fill-color: #D2E3FC;\n",
              "      --hover-bg-color: #434B5C;\n",
              "      --hover-fill-color: #FFFFFF;\n",
              "      --disabled-bg-color: #3B4455;\n",
              "      --disabled-fill-color: #666;\n",
              "  }\n",
              "\n",
              "  .colab-df-quickchart {\n",
              "    background-color: var(--bg-color);\n",
              "    border: none;\n",
              "    border-radius: 50%;\n",
              "    cursor: pointer;\n",
              "    display: none;\n",
              "    fill: var(--fill-color);\n",
              "    height: 32px;\n",
              "    padding: 0;\n",
              "    width: 32px;\n",
              "  }\n",
              "\n",
              "  .colab-df-quickchart:hover {\n",
              "    background-color: var(--hover-bg-color);\n",
              "    box-shadow: 0 1px 2px rgba(60, 64, 67, 0.3), 0 1px 3px 1px rgba(60, 64, 67, 0.15);\n",
              "    fill: var(--button-hover-fill-color);\n",
              "  }\n",
              "\n",
              "  .colab-df-quickchart-complete:disabled,\n",
              "  .colab-df-quickchart-complete:disabled:hover {\n",
              "    background-color: var(--disabled-bg-color);\n",
              "    fill: var(--disabled-fill-color);\n",
              "    box-shadow: none;\n",
              "  }\n",
              "\n",
              "  .colab-df-spinner {\n",
              "    border: 2px solid var(--fill-color);\n",
              "    border-color: transparent;\n",
              "    border-bottom-color: var(--fill-color);\n",
              "    animation:\n",
              "      spin 1s steps(1) infinite;\n",
              "  }\n",
              "\n",
              "  @keyframes spin {\n",
              "    0% {\n",
              "      border-color: transparent;\n",
              "      border-bottom-color: var(--fill-color);\n",
              "      border-left-color: var(--fill-color);\n",
              "    }\n",
              "    20% {\n",
              "      border-color: transparent;\n",
              "      border-left-color: var(--fill-color);\n",
              "      border-top-color: var(--fill-color);\n",
              "    }\n",
              "    30% {\n",
              "      border-color: transparent;\n",
              "      border-left-color: var(--fill-color);\n",
              "      border-top-color: var(--fill-color);\n",
              "      border-right-color: var(--fill-color);\n",
              "    }\n",
              "    40% {\n",
              "      border-color: transparent;\n",
              "      border-right-color: var(--fill-color);\n",
              "      border-top-color: var(--fill-color);\n",
              "    }\n",
              "    60% {\n",
              "      border-color: transparent;\n",
              "      border-right-color: var(--fill-color);\n",
              "    }\n",
              "    80% {\n",
              "      border-color: transparent;\n",
              "      border-right-color: var(--fill-color);\n",
              "      border-bottom-color: var(--fill-color);\n",
              "    }\n",
              "    90% {\n",
              "      border-color: transparent;\n",
              "      border-bottom-color: var(--fill-color);\n",
              "    }\n",
              "  }\n",
              "</style>\n",
              "\n",
              "  <script>\n",
              "    async function quickchart(key) {\n",
              "      const quickchartButtonEl =\n",
              "        document.querySelector('#' + key + ' button');\n",
              "      quickchartButtonEl.disabled = true;  // To prevent multiple clicks.\n",
              "      quickchartButtonEl.classList.add('colab-df-spinner');\n",
              "      try {\n",
              "        const charts = await google.colab.kernel.invokeFunction(\n",
              "            'suggestCharts', [key], {});\n",
              "      } catch (error) {\n",
              "        console.error('Error during call to suggestCharts:', error);\n",
              "      }\n",
              "      quickchartButtonEl.classList.remove('colab-df-spinner');\n",
              "      quickchartButtonEl.classList.add('colab-df-quickchart-complete');\n",
              "    }\n",
              "    (() => {\n",
              "      let quickchartButtonEl =\n",
              "        document.querySelector('#df-07c99dc6-c4f4-432f-bfbf-cfe18ca62ca6 button');\n",
              "      quickchartButtonEl.style.display =\n",
              "        google.colab.kernel.accessAllowed ? 'block' : 'none';\n",
              "    })();\n",
              "  </script>\n",
              "</div>\n",
              "\n",
              "    </div>\n",
              "  </div>\n"
            ],
            "application/vnd.google.colaboratory.intrinsic+json": {
              "type": "dataframe",
              "summary": "{\n  \"name\": \"adata\",\n  \"rows\": 1000,\n  \"fields\": []\n}"
            }
          },
          "metadata": {},
          "execution_count": 13
        }
      ]
    },
    {
      "cell_type": "markdown",
      "metadata": {
        "id": "jFxsDNUU0yHB"
      },
      "source": [
        "## Set up model and perform inference."
      ]
    },
    {
      "cell_type": "code",
      "execution_count": 14,
      "metadata": {
        "id": "VO8lAhMP0yHB",
        "outputId": "3d490309-e59d-4197-8e6c-93d24dcaa6f7",
        "colab": {
          "base_uri": "https://localhost:8080/"
        }
      },
      "outputs": [
        {
          "output_type": "stream",
          "name": "stderr",
          "text": [
            "INFO:root:Directory sim created.\n",
            "INFO:root:Beginning data extraction.\n",
            "INFO:root:Dataset: sim\n"
          ]
        },
        {
          "output_type": "stream",
          "name": "stdout",
          "text": [
            "The expected modalities for this model are: ['unspliced', 'spliced']\n",
            "If your anndata layers have different names, please give a modality dictionary of the form: modality_name_dict  = {'spliced':your_spliced_layer_name, 'unspliced':your_unspliced_layer_name} \n"
          ]
        },
        {
          "output_type": "stream",
          "name": "stderr",
          "text": [
            "INFO:root:Added lengths\n",
            "INFO:root:1000 cells detected.\n",
            "WARNING:root:274 random genes selected: cannot satisfy query of 1000 genes.\n",
            "INFO:root:Total of 274 genes selected.\n"
          ]
        },
        {
          "output_type": "stream",
          "name": "stdout",
          "text": [
            "274 genes retained after expression filter.\n",
            "['unspliced', 'spliced'] previous ordering\n",
            "['unspliced', 'spliced'] ordered for histogram\n"
          ]
        },
        {
          "output_type": "stream",
          "name": "stderr",
          "text": [
            "INFO:root:Data extracted\n",
            "INFO:root:Search data created.\n",
            "INFO:root:Directory sim/Bursty_Poisson_6x7 created.\n",
            "INFO:root:Global inference parameters stored to sim/Bursty_Poisson_6x7/parameters.pr.\n",
            "INFO:root:Global inference parameters set.\n",
            "INFO:root:Starting parallelized grid scan.\n"
          ]
        },
        {
          "output_type": "stream",
          "name": "stdout",
          "text": [
            "LayersView with keys: unspliced, spliced\n",
            "['unspliced', 'spliced']\n"
          ]
        },
        {
          "output_type": "stream",
          "name": "stderr",
          "text": [
            "100%|██████████| 42/42 [07:42<00:00, 11.02s/it]\n",
            "INFO:root:Parallelized grid scan complete.\n",
            "INFO:root:All grid point data cleaned from disk.\n",
            "INFO:root:Directory sim/Bursty_Poisson_6x7/analysis_figures created.\n",
            "INFO:root:Grid scan results stored to sim/Bursty_Poisson_6x7/grid_scan_results.res.\n",
            "INFO:root:Runtime: 463.0 seconds.\n",
            "INFO:root:Grid points fit.\n",
            "INFO:root:Optimal parameters found.\n",
            "INFO:root:Optimal parameters saved.\n"
          ]
        },
        {
          "output_type": "stream",
          "name": "stdout",
          "text": [
            "Layers with keys: unspliced, spliced\n",
            "['unspliced', 'spliced']\n"
          ]
        },
        {
          "output_type": "stream",
          "name": "stderr",
          "text": [
            "INFO:root:AIC values calculated.\n",
            "INFO:root:Computing local Hessian.\n",
            "INFO:root:Starting non-parallelized Hessian computation.\n",
            "INFO:root:Non-parallelized Hessian computation complete.\n",
            "INFO:root:Standard error of the MLE computation complete. Runtime: 55.1 seconds.\n",
            "INFO:root:Uncertainties per gene calculated.\n"
          ]
        }
      ],
      "source": [
        "# Define model.\n",
        "fitmodel = cme_toolbox.CMEModel('Bursty','Poisson')\n",
        "transcriptome_filepath = './monod_examples/polyA_ref/gg_200524_mouse_genome_polyA_cum_1'\n",
        "\n",
        "# Perform inference. Below is the default.\n",
        "lb = [-1.0, -1.8, -1.8 ]\n",
        "ub = [4.2, 2.5, 3.5]\n",
        "samp_lb, samp_ub = [-8, -3],[-5, 0]\n",
        "grid = [6,7]\n",
        "\n",
        "adata = inference.perform_inference(adata, fitmodel, n_genes=n_genes, seed=5,\n",
        "            phys_lb=lb, phys_ub=ub, gridsize=grid, samp_lb=samp_lb, samp_ub=samp_ub,\n",
        "            gradient_params = {'max_iterations':15,'init_pattern':'moments','num_restarts':1},\n",
        "            transcriptome_filepath=transcriptome_filepath, poisson_average_log_length=5,\n",
        "            dataset_string='sim', viz=False, num_cores=2)"
      ]
    },
    {
      "cell_type": "markdown",
      "metadata": {
        "id": "X1bD4sCP0yHC"
      },
      "source": [
        "## Check parameters"
      ]
    },
    {
      "cell_type": "code",
      "source": [
        "adata.uns['search_result'].samp_optimum"
      ],
      "metadata": {
        "colab": {
          "base_uri": "https://localhost:8080/"
        },
        "id": "FEfBEbsOJvWj",
        "outputId": "173ef0cf-8c05-4827-d566-4bf4a2aae794"
      },
      "execution_count": 15,
      "outputs": [
        {
          "output_type": "stream",
          "name": "stderr",
          "text": [
            "/usr/local/lib/python3.10/dist-packages/ipykernel/ipkernel.py:283: DeprecationWarning: `should_run_async` will not call `transform_cell` automatically in the future. Please pass the result to `transformed_cell` argument and any exception that happen during thetransform in `preprocessing_exc_tuple` in IPython 7.17 and above.\n",
            "  and should_run_async(code)\n"
          ]
        },
        {
          "output_type": "execute_result",
          "data": {
            "text/plain": [
              "(-5.0, -1.0)"
            ]
          },
          "metadata": {},
          "execution_count": 15
        }
      ]
    },
    {
      "cell_type": "code",
      "execution_count": 16,
      "metadata": {
        "id": "jK-UzcQv0yHC",
        "outputId": "23d43e6f-6eab-4d75-b908-8579b46dbc3c",
        "colab": {
          "base_uri": "https://localhost:8080/",
          "height": 424
        }
      },
      "outputs": [
        {
          "output_type": "display_data",
          "data": {
            "text/plain": [
              "          param_$\\log_{10} b$  param_$\\log_{10} \\beta$  \\\n",
              "Gnai3                0.424644                 0.911928   \n",
              "Cdc45                0.547534                 0.923616   \n",
              "Scml2                0.408059                 0.921709   \n",
              "Apoh                 0.314468                 1.026446   \n",
              "Wnt3                 0.449470                 1.022385   \n",
              "...                       ...                      ...   \n",
              "Eif2ak4              0.482124                 0.912920   \n",
              "Sod2                 0.515411                 0.967665   \n",
              "Col5a3               0.525074                 0.918432   \n",
              "Abca13               0.530161                 1.026939   \n",
              "Slc25a18             0.387599                 0.706483   \n",
              "\n",
              "          param_$\\log_{10} \\gamma$  \n",
              "Gnai3                    -0.242587  \n",
              "Cdc45                     0.078786  \n",
              "Scml2                    -0.362866  \n",
              "Apoh                     -0.138186  \n",
              "Wnt3                      0.043403  \n",
              "...                            ...  \n",
              "Eif2ak4                  -0.124972  \n",
              "Sod2                     -0.124060  \n",
              "Col5a3                    0.011837  \n",
              "Abca13                    0.167257  \n",
              "Slc25a18                 -0.098813  \n",
              "\n",
              "[274 rows x 3 columns]"
            ],
            "text/html": [
              "\n",
              "  <div id=\"df-095a578b-11e3-4179-b578-9a89c05bd000\" class=\"colab-df-container\">\n",
              "    <div>\n",
              "<style scoped>\n",
              "    .dataframe tbody tr th:only-of-type {\n",
              "        vertical-align: middle;\n",
              "    }\n",
              "\n",
              "    .dataframe tbody tr th {\n",
              "        vertical-align: top;\n",
              "    }\n",
              "\n",
              "    .dataframe thead th {\n",
              "        text-align: right;\n",
              "    }\n",
              "</style>\n",
              "<table border=\"1\" class=\"dataframe\">\n",
              "  <thead>\n",
              "    <tr style=\"text-align: right;\">\n",
              "      <th></th>\n",
              "      <th>param_$\\log_{10} b$</th>\n",
              "      <th>param_$\\log_{10} \\beta$</th>\n",
              "      <th>param_$\\log_{10} \\gamma$</th>\n",
              "    </tr>\n",
              "  </thead>\n",
              "  <tbody>\n",
              "    <tr>\n",
              "      <th>Gnai3</th>\n",
              "      <td>0.424644</td>\n",
              "      <td>0.911928</td>\n",
              "      <td>-0.242587</td>\n",
              "    </tr>\n",
              "    <tr>\n",
              "      <th>Cdc45</th>\n",
              "      <td>0.547534</td>\n",
              "      <td>0.923616</td>\n",
              "      <td>0.078786</td>\n",
              "    </tr>\n",
              "    <tr>\n",
              "      <th>Scml2</th>\n",
              "      <td>0.408059</td>\n",
              "      <td>0.921709</td>\n",
              "      <td>-0.362866</td>\n",
              "    </tr>\n",
              "    <tr>\n",
              "      <th>Apoh</th>\n",
              "      <td>0.314468</td>\n",
              "      <td>1.026446</td>\n",
              "      <td>-0.138186</td>\n",
              "    </tr>\n",
              "    <tr>\n",
              "      <th>Wnt3</th>\n",
              "      <td>0.449470</td>\n",
              "      <td>1.022385</td>\n",
              "      <td>0.043403</td>\n",
              "    </tr>\n",
              "    <tr>\n",
              "      <th>...</th>\n",
              "      <td>...</td>\n",
              "      <td>...</td>\n",
              "      <td>...</td>\n",
              "    </tr>\n",
              "    <tr>\n",
              "      <th>Eif2ak4</th>\n",
              "      <td>0.482124</td>\n",
              "      <td>0.912920</td>\n",
              "      <td>-0.124972</td>\n",
              "    </tr>\n",
              "    <tr>\n",
              "      <th>Sod2</th>\n",
              "      <td>0.515411</td>\n",
              "      <td>0.967665</td>\n",
              "      <td>-0.124060</td>\n",
              "    </tr>\n",
              "    <tr>\n",
              "      <th>Col5a3</th>\n",
              "      <td>0.525074</td>\n",
              "      <td>0.918432</td>\n",
              "      <td>0.011837</td>\n",
              "    </tr>\n",
              "    <tr>\n",
              "      <th>Abca13</th>\n",
              "      <td>0.530161</td>\n",
              "      <td>1.026939</td>\n",
              "      <td>0.167257</td>\n",
              "    </tr>\n",
              "    <tr>\n",
              "      <th>Slc25a18</th>\n",
              "      <td>0.387599</td>\n",
              "      <td>0.706483</td>\n",
              "      <td>-0.098813</td>\n",
              "    </tr>\n",
              "  </tbody>\n",
              "</table>\n",
              "<p>274 rows × 3 columns</p>\n",
              "</div>\n",
              "    <div class=\"colab-df-buttons\">\n",
              "\n",
              "  <div class=\"colab-df-container\">\n",
              "    <button class=\"colab-df-convert\" onclick=\"convertToInteractive('df-095a578b-11e3-4179-b578-9a89c05bd000')\"\n",
              "            title=\"Convert this dataframe to an interactive table.\"\n",
              "            style=\"display:none;\">\n",
              "\n",
              "  <svg xmlns=\"http://www.w3.org/2000/svg\" height=\"24px\" viewBox=\"0 -960 960 960\">\n",
              "    <path d=\"M120-120v-720h720v720H120Zm60-500h600v-160H180v160Zm220 220h160v-160H400v160Zm0 220h160v-160H400v160ZM180-400h160v-160H180v160Zm440 0h160v-160H620v160ZM180-180h160v-160H180v160Zm440 0h160v-160H620v160Z\"/>\n",
              "  </svg>\n",
              "    </button>\n",
              "\n",
              "  <style>\n",
              "    .colab-df-container {\n",
              "      display:flex;\n",
              "      gap: 12px;\n",
              "    }\n",
              "\n",
              "    .colab-df-convert {\n",
              "      background-color: #E8F0FE;\n",
              "      border: none;\n",
              "      border-radius: 50%;\n",
              "      cursor: pointer;\n",
              "      display: none;\n",
              "      fill: #1967D2;\n",
              "      height: 32px;\n",
              "      padding: 0 0 0 0;\n",
              "      width: 32px;\n",
              "    }\n",
              "\n",
              "    .colab-df-convert:hover {\n",
              "      background-color: #E2EBFA;\n",
              "      box-shadow: 0px 1px 2px rgba(60, 64, 67, 0.3), 0px 1px 3px 1px rgba(60, 64, 67, 0.15);\n",
              "      fill: #174EA6;\n",
              "    }\n",
              "\n",
              "    .colab-df-buttons div {\n",
              "      margin-bottom: 4px;\n",
              "    }\n",
              "\n",
              "    [theme=dark] .colab-df-convert {\n",
              "      background-color: #3B4455;\n",
              "      fill: #D2E3FC;\n",
              "    }\n",
              "\n",
              "    [theme=dark] .colab-df-convert:hover {\n",
              "      background-color: #434B5C;\n",
              "      box-shadow: 0px 1px 3px 1px rgba(0, 0, 0, 0.15);\n",
              "      filter: drop-shadow(0px 1px 2px rgba(0, 0, 0, 0.3));\n",
              "      fill: #FFFFFF;\n",
              "    }\n",
              "  </style>\n",
              "\n",
              "    <script>\n",
              "      const buttonEl =\n",
              "        document.querySelector('#df-095a578b-11e3-4179-b578-9a89c05bd000 button.colab-df-convert');\n",
              "      buttonEl.style.display =\n",
              "        google.colab.kernel.accessAllowed ? 'block' : 'none';\n",
              "\n",
              "      async function convertToInteractive(key) {\n",
              "        const element = document.querySelector('#df-095a578b-11e3-4179-b578-9a89c05bd000');\n",
              "        const dataTable =\n",
              "          await google.colab.kernel.invokeFunction('convertToInteractive',\n",
              "                                                    [key], {});\n",
              "        if (!dataTable) return;\n",
              "\n",
              "        const docLinkHtml = 'Like what you see? Visit the ' +\n",
              "          '<a target=\"_blank\" href=https://colab.research.google.com/notebooks/data_table.ipynb>data table notebook</a>'\n",
              "          + ' to learn more about interactive tables.';\n",
              "        element.innerHTML = '';\n",
              "        dataTable['output_type'] = 'display_data';\n",
              "        await google.colab.output.renderOutput(dataTable, element);\n",
              "        const docLink = document.createElement('div');\n",
              "        docLink.innerHTML = docLinkHtml;\n",
              "        element.appendChild(docLink);\n",
              "      }\n",
              "    </script>\n",
              "  </div>\n",
              "\n",
              "\n",
              "<div id=\"df-16ead19f-a704-4d18-a8c9-7213249764fd\">\n",
              "  <button class=\"colab-df-quickchart\" onclick=\"quickchart('df-16ead19f-a704-4d18-a8c9-7213249764fd')\"\n",
              "            title=\"Suggest charts\"\n",
              "            style=\"display:none;\">\n",
              "\n",
              "<svg xmlns=\"http://www.w3.org/2000/svg\" height=\"24px\"viewBox=\"0 0 24 24\"\n",
              "     width=\"24px\">\n",
              "    <g>\n",
              "        <path d=\"M19 3H5c-1.1 0-2 .9-2 2v14c0 1.1.9 2 2 2h14c1.1 0 2-.9 2-2V5c0-1.1-.9-2-2-2zM9 17H7v-7h2v7zm4 0h-2V7h2v10zm4 0h-2v-4h2v4z\"/>\n",
              "    </g>\n",
              "</svg>\n",
              "  </button>\n",
              "\n",
              "<style>\n",
              "  .colab-df-quickchart {\n",
              "      --bg-color: #E8F0FE;\n",
              "      --fill-color: #1967D2;\n",
              "      --hover-bg-color: #E2EBFA;\n",
              "      --hover-fill-color: #174EA6;\n",
              "      --disabled-fill-color: #AAA;\n",
              "      --disabled-bg-color: #DDD;\n",
              "  }\n",
              "\n",
              "  [theme=dark] .colab-df-quickchart {\n",
              "      --bg-color: #3B4455;\n",
              "      --fill-color: #D2E3FC;\n",
              "      --hover-bg-color: #434B5C;\n",
              "      --hover-fill-color: #FFFFFF;\n",
              "      --disabled-bg-color: #3B4455;\n",
              "      --disabled-fill-color: #666;\n",
              "  }\n",
              "\n",
              "  .colab-df-quickchart {\n",
              "    background-color: var(--bg-color);\n",
              "    border: none;\n",
              "    border-radius: 50%;\n",
              "    cursor: pointer;\n",
              "    display: none;\n",
              "    fill: var(--fill-color);\n",
              "    height: 32px;\n",
              "    padding: 0;\n",
              "    width: 32px;\n",
              "  }\n",
              "\n",
              "  .colab-df-quickchart:hover {\n",
              "    background-color: var(--hover-bg-color);\n",
              "    box-shadow: 0 1px 2px rgba(60, 64, 67, 0.3), 0 1px 3px 1px rgba(60, 64, 67, 0.15);\n",
              "    fill: var(--button-hover-fill-color);\n",
              "  }\n",
              "\n",
              "  .colab-df-quickchart-complete:disabled,\n",
              "  .colab-df-quickchart-complete:disabled:hover {\n",
              "    background-color: var(--disabled-bg-color);\n",
              "    fill: var(--disabled-fill-color);\n",
              "    box-shadow: none;\n",
              "  }\n",
              "\n",
              "  .colab-df-spinner {\n",
              "    border: 2px solid var(--fill-color);\n",
              "    border-color: transparent;\n",
              "    border-bottom-color: var(--fill-color);\n",
              "    animation:\n",
              "      spin 1s steps(1) infinite;\n",
              "  }\n",
              "\n",
              "  @keyframes spin {\n",
              "    0% {\n",
              "      border-color: transparent;\n",
              "      border-bottom-color: var(--fill-color);\n",
              "      border-left-color: var(--fill-color);\n",
              "    }\n",
              "    20% {\n",
              "      border-color: transparent;\n",
              "      border-left-color: var(--fill-color);\n",
              "      border-top-color: var(--fill-color);\n",
              "    }\n",
              "    30% {\n",
              "      border-color: transparent;\n",
              "      border-left-color: var(--fill-color);\n",
              "      border-top-color: var(--fill-color);\n",
              "      border-right-color: var(--fill-color);\n",
              "    }\n",
              "    40% {\n",
              "      border-color: transparent;\n",
              "      border-right-color: var(--fill-color);\n",
              "      border-top-color: var(--fill-color);\n",
              "    }\n",
              "    60% {\n",
              "      border-color: transparent;\n",
              "      border-right-color: var(--fill-color);\n",
              "    }\n",
              "    80% {\n",
              "      border-color: transparent;\n",
              "      border-right-color: var(--fill-color);\n",
              "      border-bottom-color: var(--fill-color);\n",
              "    }\n",
              "    90% {\n",
              "      border-color: transparent;\n",
              "      border-bottom-color: var(--fill-color);\n",
              "    }\n",
              "  }\n",
              "</style>\n",
              "\n",
              "  <script>\n",
              "    async function quickchart(key) {\n",
              "      const quickchartButtonEl =\n",
              "        document.querySelector('#' + key + ' button');\n",
              "      quickchartButtonEl.disabled = true;  // To prevent multiple clicks.\n",
              "      quickchartButtonEl.classList.add('colab-df-spinner');\n",
              "      try {\n",
              "        const charts = await google.colab.kernel.invokeFunction(\n",
              "            'suggestCharts', [key], {});\n",
              "      } catch (error) {\n",
              "        console.error('Error during call to suggestCharts:', error);\n",
              "      }\n",
              "      quickchartButtonEl.classList.remove('colab-df-spinner');\n",
              "      quickchartButtonEl.classList.add('colab-df-quickchart-complete');\n",
              "    }\n",
              "    (() => {\n",
              "      let quickchartButtonEl =\n",
              "        document.querySelector('#df-16ead19f-a704-4d18-a8c9-7213249764fd button');\n",
              "      quickchartButtonEl.style.display =\n",
              "        google.colab.kernel.accessAllowed ? 'block' : 'none';\n",
              "    })();\n",
              "  </script>\n",
              "</div>\n",
              "\n",
              "    </div>\n",
              "  </div>\n"
            ],
            "application/vnd.google.colaboratory.intrinsic+json": {
              "type": "dataframe",
              "summary": "{\n  \"name\": \"display(adata\",\n  \"rows\": 274,\n  \"fields\": [\n    {\n      \"column\": \"param_$\\\\log_{10} b$\",\n      \"properties\": {\n        \"dtype\": \"number\",\n        \"std\": 0.08707218508327444,\n        \"min\": 0.22599539292656146,\n        \"max\": 0.769261537433795,\n        \"num_unique_values\": 274,\n        \"samples\": [\n          0.589840208903662,\n          0.5709772278660458,\n          0.588579289250542\n        ],\n        \"semantic_type\": \"\",\n        \"description\": \"\"\n      }\n    },\n    {\n      \"column\": \"param_$\\\\log_{10} \\\\beta$\",\n      \"properties\": {\n        \"dtype\": \"number\",\n        \"std\": 0.12509099566755227,\n        \"min\": 0.627718376996291,\n        \"max\": 1.3923830370011319,\n        \"num_unique_values\": 274,\n        \"samples\": [\n          1.0200600468105518,\n          1.0553474575065283,\n          0.9151516091767927\n        ],\n        \"semantic_type\": \"\",\n        \"description\": \"\"\n      }\n    },\n    {\n      \"column\": \"param_$\\\\log_{10} \\\\gamma$\",\n      \"properties\": {\n        \"dtype\": \"number\",\n        \"std\": 0.13806933757061823,\n        \"min\": -0.3659983361809852,\n        \"max\": 0.41243450301212753,\n        \"num_unique_values\": 274,\n        \"samples\": [\n          -0.1016584076120669,\n          0.12759276340089873,\n          0.27801534362946917\n        ],\n        \"semantic_type\": \"\",\n        \"description\": \"\"\n      }\n    }\n  ]\n}"
            }
          },
          "metadata": {}
        }
      ],
      "source": [
        "# Optimum biological parameters.\n",
        "display(adata.var[[i for i in adata.var.keys() if 'param' in i]])"
      ]
    },
    {
      "cell_type": "code",
      "source": [
        "# Check if each of the genes in idx is in adata.var_names\n",
        "idx = [gene in adata.var_names for gene in gene_names[:n_genes]]\n",
        "param = params[idx]"
      ],
      "metadata": {
        "colab": {
          "base_uri": "https://localhost:8080/"
        },
        "id": "CocTGkX2PZGP",
        "outputId": "cd30801d-2645-46e5-83d8-17fe7ed2f0f5"
      },
      "execution_count": 17,
      "outputs": [
        {
          "output_type": "stream",
          "name": "stderr",
          "text": [
            "/usr/local/lib/python3.10/dist-packages/ipykernel/ipkernel.py:283: DeprecationWarning: `should_run_async` will not call `transform_cell` automatically in the future. Please pass the result to `transformed_cell` argument and any exception that happen during thetransform in `preprocessing_exc_tuple` in IPython 7.17 and above.\n",
            "  and should_run_async(code)\n"
          ]
        }
      ]
    },
    {
      "cell_type": "code",
      "source": [
        "# Filter columns in adata.var containing 'param'\n",
        "param_cols = [col for col in adata.var.keys() if 'param' in col]\n",
        "param_hat = adata.var[param_cols]\n",
        "\n",
        "fig, ax = plt.subplots(1,3,figsize=(20, 5),tight_layout=True)\n",
        "for i in range(3):\n",
        "  ax[i].scatter(param[:,i], param_hat.iloc[:,i], alpha=0.6)\n",
        "  ax[i].plot(param[:,i],param[:,i],zorder=0)\n",
        "\n",
        "fig.supxlabel('True')\n",
        "fig.supylabel('Inferred')\n",
        "fig.suptitle('Scatter plot of true aram vs inferred param')"
      ],
      "metadata": {
        "colab": {
          "base_uri": "https://localhost:8080/",
          "height": 441
        },
        "id": "IPuwckdsPU6M",
        "outputId": "d3a72a53-be65-4407-ecf9-c7bc7d9747c4"
      },
      "execution_count": 18,
      "outputs": [
        {
          "output_type": "execute_result",
          "data": {
            "text/plain": [
              "Text(0.5, 0.98, 'Scatter plot of true aram vs inferred param')"
            ]
          },
          "metadata": {},
          "execution_count": 18
        },
        {
          "output_type": "stream",
          "name": "stderr",
          "text": [
            "<frozen importlib._bootstrap>:914: ImportWarning: _PyDrive2ImportHook.find_spec() not found; falling back to find_module()\n",
            "<frozen importlib._bootstrap>:914: ImportWarning: _PyDriveImportHook.find_spec() not found; falling back to find_module()\n",
            "<frozen importlib._bootstrap>:914: ImportWarning: _GenerativeAIImportHook.find_spec() not found; falling back to find_module()\n",
            "<frozen importlib._bootstrap>:914: ImportWarning: _OpenCVImportHook.find_spec() not found; falling back to find_module()\n",
            "<frozen importlib._bootstrap>:914: ImportWarning: APICoreClientInfoImportHook.find_spec() not found; falling back to find_module()\n",
            "<frozen importlib._bootstrap>:914: ImportWarning: _BokehImportHook.find_spec() not found; falling back to find_module()\n",
            "<frozen importlib._bootstrap>:914: ImportWarning: _AltairImportHook.find_spec() not found; falling back to find_module()\n"
          ]
        },
        {
          "output_type": "display_data",
          "data": {
            "text/plain": [
              "<Figure size 2000x500 with 3 Axes>"
            ],
            "image/png": "[encoded data removed]"
          },
          "metadata": {}
        }
      ]
    }
  ],
  "metadata": {
    "colab": {
      "provenance": [],
      "toc_visible": true,
      "include_colab_link": true
    },
    "kernelspec": {
      "display_name": "Python 3 (ipykernel)",
      "language": "python",
      "name": "python3"
    },
    "language_info": {
      "codemirror_mode": {
        "name": "ipython",
        "version": 3
      },
      "file_extension": ".py",
      "mimetype": "text/x-python",
      "name": "python",
      "nbconvert_exporter": "python",
      "pygments_lexer": "ipython3",
      "version": "3.12.2"
    }
  },
  "nbformat": 4,
  "nbformat_minor": 0
}