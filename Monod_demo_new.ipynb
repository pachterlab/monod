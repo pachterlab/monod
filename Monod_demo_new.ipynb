{
 "cells": [
  {
   "cell_type": "markdown",
   "metadata": {
    "colab_type": "text",
    "id": "view-in-github"
   },
   "source": [
    "<a href=\"https://colab.research.google.com/github/pachterlab/monod_examples/blob/main/Monod_demo.ipynb\" target=\"_parent\"><img src=\"https://colab.research.google.com/assets/colab-badge.svg\" alt=\"Open In Colab\"/></a>"
   ]
  },
  {
   "cell_type": "markdown",
   "metadata": {
    "id": "t0jj305u1LB0"
   },
   "source": [
    "# *Monod* on Colab"
   ]
  },
  {
   "cell_type": "markdown",
   "metadata": {
    "id": "clys0amiJQ4V"
   },
   "source": [
    "In the current notebook, we apply *Monod* to identify differentially regulated genes between GABAergic and glutamatergic cell types in a single Allen dataset. "
   ]
  },
  {
   "cell_type": "markdown",
   "metadata": {
    "id": "A_tyjLWZJMT9"
   },
   "source": [
    "# Inference pipeline"
   ]
  },
  {
   "cell_type": "markdown",
   "metadata": {
    "id": "fbqxrHZX1PIB"
   },
   "source": [
    "## Install prerequisites"
   ]
  },
  {
   "cell_type": "code",
   "execution_count": 153,
   "metadata": {
    "colab": {
     "base_uri": "https://localhost:8080/"
    },
    "id": "1AQA8mxjqbvX",
    "outputId": "eff6e961-b5b6-460a-a494-2c1a34679da4"
   },
   "outputs": [],
   "source": [
    "# # %%capture\n",
    "# # !pip install -i https://test.pypi.org/simple/ -U --extra-index-url https://pypi.org/simple   monod  \n",
    "# # !pip install -i https://pypi.org/simple/  monod  \n",
    "# !pip install monod"
   ]
  },
  {
   "cell_type": "markdown",
   "metadata": {
    "id": "q1XTsobSlp--"
   },
   "source": [
    "Let's make sure that the version is correct."
   ]
  },
  {
   "cell_type": "code",
   "execution_count": 154,
   "metadata": {
    "colab": {
     "base_uri": "https://localhost:8080/"
    },
    "id": "Ea8T9j62lo7D",
    "outputId": "7bf50f59-ea00-44cf-ffbc-697dd1d09145"
   },
   "outputs": [],
   "source": [
    "# !pip show monod"
   ]
  },
  {
   "cell_type": "markdown",
   "metadata": {
    "id": "lTXr7lE21S2z"
   },
   "source": [
    "## Import data"
   ]
  },
  {
   "cell_type": "code",
   "execution_count": 155,
   "metadata": {
    "colab": {
     "base_uri": "https://localhost:8080/"
    },
    "id": "_Es6dkf3YNof",
    "outputId": "8c897032-1bb6-41ac-91ee-7888e7d2591d"
   },
   "outputs": [],
   "source": [
    "# ! git clone https://github.com/pachterlab/monod_examples.git"
   ]
  },
  {
   "cell_type": "code",
   "execution_count": 156,
   "metadata": {
    "id": "XLckDGwtYWkf"
   },
   "outputs": [],
   "source": [
    "# !rm -r sample_data"
   ]
  },
  {
   "cell_type": "code",
   "execution_count": 157,
   "metadata": {
    "id": "iLdPbyL3YST0"
   },
   "outputs": [],
   "source": [
    "# !mv monod_examples/* ."
   ]
  },
  {
   "cell_type": "code",
   "execution_count": 158,
   "metadata": {
    "id": "vDBCR9yRX3Vw"
   },
   "outputs": [],
   "source": [
    "# !rm -r monod_examples"
   ]
  },
  {
   "cell_type": "code",
   "execution_count": 159,
   "metadata": {
    "id": "ctgV1Bw_zFBl"
   },
   "outputs": [],
   "source": [
    "# !mv sample_data/* ."
   ]
  },
  {
   "cell_type": "code",
   "execution_count": 160,
   "metadata": {
    "id": "fJZon2F8X89h"
   },
   "outputs": [],
   "source": [
    "# !rmdir sample_data"
   ]
  },
  {
   "cell_type": "code",
   "execution_count": 161,
   "metadata": {
    "colab": {
     "base_uri": "https://localhost:8080/"
    },
    "id": "UeCQkeQdJNmE",
    "outputId": "db485cf3-eec2-46b6-b6d9-2736f881df53"
   },
   "outputs": [],
   "source": [
    "# !cat allen_C01_gaba.tar.gz.* | tar xzvf -"
   ]
  },
  {
   "cell_type": "code",
   "execution_count": 162,
   "metadata": {
    "id": "RQZKgCjmYAuF"
   },
   "outputs": [],
   "source": [
    "# !mv home/ggorin/projects/monod_examples/sample_data/allen_C01_gaba.loom ."
   ]
  },
  {
   "cell_type": "code",
   "execution_count": 163,
   "metadata": {
    "colab": {
     "base_uri": "https://localhost:8080/"
    },
    "id": "hLXTb03AXoNl",
    "outputId": "16cf48dd-e0b8-4410-f799-4d3a115d1a51"
   },
   "outputs": [],
   "source": [
    "# !cat allen_C01_glu.tar.gz.* | tar xzvf -"
   ]
  },
  {
   "cell_type": "code",
   "execution_count": 164,
   "metadata": {
    "id": "u2WkM_hDYN4-"
   },
   "outputs": [],
   "source": [
    "# !mv home/ggorin/projects/monod_examples/sample_data/allen_C01_glu.loom ."
   ]
  },
  {
   "cell_type": "code",
   "execution_count": 165,
   "metadata": {
    "id": "vDI0QGHHJ6so"
   },
   "outputs": [],
   "source": [
    "# !rm -r  ./home"
   ]
  },
  {
   "cell_type": "code",
   "execution_count": 166,
   "metadata": {
    "id": "efkK6_EQDcB3"
   },
   "outputs": [],
   "source": [
    "# !rm *.tar.*"
   ]
  },
  {
   "cell_type": "markdown",
   "metadata": {
    "id": "hfprorcN13LY"
   },
   "source": [
    "## Import package components"
   ]
  },
  {
   "cell_type": "code",
   "execution_count": 167,
   "metadata": {
    "id": "L8Ax0d2vrdwY"
   },
   "outputs": [],
   "source": [
    "# import monod\n",
    "# from monod import preprocess, extract_data, cme_toolbox, inference, analysis\n",
    "\n",
    "import matplotlib.pyplot as plt\n",
    "import numpy as np"
   ]
  },
  {
   "cell_type": "code",
   "execution_count": 172,
   "metadata": {},
   "outputs": [
    {
     "data": {
      "text/plain": [
       "<module 'inference' from '/home/cat/monod/src/monod/inference.py'>"
      ]
     },
     "execution_count": 172,
     "metadata": {},
     "output_type": "execute_result"
    }
   ],
   "source": [
    "# execfile(\"src/monod/preprocess.py\")\n",
    "import sys\n",
    "sys.path.insert(0, '/home/cat/monod/src/monod')\n",
    "\n",
    "import extract_data, cme_toolbox, inference#, analysis\n",
    "\n",
    "import importlib\n",
    "\n",
    "importlib.reload(extract_data)\n",
    "importlib.reload(cme_toolbox)\n",
    "importlib.reload(preprocess)\n",
    "\n",
    "importlib.reload(inference)"
   ]
  },
  {
   "cell_type": "code",
   "execution_count": 173,
   "metadata": {},
   "outputs": [],
   "source": [
    "import logging, sys\n",
    "logging.basicConfig(stream=sys.stdout)\n",
    "log = logging.getLogger()\n",
    "log.setLevel(logging.INFO)\n",
    "import warnings\n",
    "warnings.filterwarnings(\"ignore\") #warning suppression within script is not respected by colab\n",
    "warnings.simplefilter('ignore')"
   ]
  },
  {
   "cell_type": "markdown",
   "metadata": {},
   "source": [
    "## Set up model and perform inference."
   ]
  },
  {
   "cell_type": "code",
   "execution_count": 174,
   "metadata": {},
   "outputs": [
    {
     "name": "stdout",
     "output_type": "stream",
     "text": [
      "INFO:root:Directory output_file_with_layers already exists.\n",
      "INFO:root:Beginning data extraction.\n",
      "INFO:root:Dataset: output_file_with_layers\n",
      "INFO:root:728 cells detected.\n",
      "3591 genes retained after expression filter.\n",
      "INFO:root:2 random genes selected.\n",
      "INFO:root:Total of 2 genes selected.\n",
      "INFO:root:Data extracted\n",
      "INFO:root:Search data created\n",
      "INFO:root:Directory output_file_with_layers/Bursty_Bernoulli_6x7 already exists.\n",
      "INFO:root:Global inference parameters stored to output_file_with_layers/Bursty_Bernoulli_6x7/parameters.pr.\n",
      "INFO:root:Global inference parameters set.\n",
      "INFO:root:Starting non-parallelized grid scan.\n",
      "INFO:root:Non-parallelized grid scan complete.\n",
      "INFO:root:All grid point data cleaned from disk.\n",
      "INFO:root:Directory output_file_with_layers/Bursty_Bernoulli_6x7/analysis_figures already exists.\n",
      "ERROR:root:Grid scan results could not be stored to output_file_with_layers/Bursty_Bernoulli_6x7/grid_scan_results.res.\n",
      "INFO:root:Runtime: 1.3 seconds.\n",
      "INFO:root:Grid points fit.\n",
      "INFO:root:Optimal parameters found.\n",
      "INFO:root:Optimal parameters saved.\n",
      "INFO:root:AIC values calculated.\n",
      "INFO:root:Computing local Hessian.\n",
      "INFO:root:Starting non-parallelized Hessian computation.\n",
      "INFO:root:Non-parallelized Hessian computation complete.\n",
      "INFO:root:Standard error of the MLE computation complete. Runtime: 0.2 seconds.\n",
      "INFO:root:Uncertainties per gene calculated.\n"
     ]
    }
   ],
   "source": [
    "# Define model.\n",
    "fitmodel = cme_toolbox.CMEModel('Bursty','Bernoulli')\n",
    "\n",
    "# Perform inference.\n",
    "new_adata = inference.perform_inference('./output_file_with_layers.h5ad', fitmodel, n_genes=2)"
   ]
  },
  {
   "cell_type": "markdown",
   "metadata": {},
   "source": [
    "## Access gene info."
   ]
  },
  {
   "cell_type": "code",
   "execution_count": 175,
   "metadata": {},
   "outputs": [
    {
     "data": {
      "text/html": [
       "<div>\n",
       "<style scoped>\n",
       "    .dataframe tbody tr th:only-of-type {\n",
       "        vertical-align: middle;\n",
       "    }\n",
       "\n",
       "    .dataframe tbody tr th {\n",
       "        vertical-align: top;\n",
       "    }\n",
       "\n",
       "    .dataframe thead th {\n",
       "        text-align: right;\n",
       "    }\n",
       "</style>\n",
       "<table border=\"1\" class=\"dataframe\">\n",
       "  <thead>\n",
       "    <tr style=\"text-align: right;\">\n",
       "      <th></th>\n",
       "      <th>AIC</th>\n",
       "    </tr>\n",
       "  </thead>\n",
       "  <tbody>\n",
       "    <tr>\n",
       "      <th>Ctif</th>\n",
       "      <td>103.077316</td>\n",
       "    </tr>\n",
       "    <tr>\n",
       "      <th>Tcf25</th>\n",
       "      <td>6.005555</td>\n",
       "    </tr>\n",
       "  </tbody>\n",
       "</table>\n",
       "</div>"
      ],
      "text/plain": [
       "              AIC\n",
       "Ctif   103.077316\n",
       "Tcf25    6.005555"
      ]
     },
     "metadata": {},
     "output_type": "display_data"
    },
    {
     "data": {
      "text/html": [
       "<div>\n",
       "<style scoped>\n",
       "    .dataframe tbody tr th:only-of-type {\n",
       "        vertical-align: middle;\n",
       "    }\n",
       "\n",
       "    .dataframe tbody tr th {\n",
       "        vertical-align: top;\n",
       "    }\n",
       "\n",
       "    .dataframe thead th {\n",
       "        text-align: right;\n",
       "    }\n",
       "</style>\n",
       "<table border=\"1\" class=\"dataframe\">\n",
       "  <thead>\n",
       "    <tr style=\"text-align: right;\">\n",
       "      <th></th>\n",
       "      <th>param_$\\log_{10} b$</th>\n",
       "      <th>param_$\\log_{10} \\beta$</th>\n",
       "      <th>param_$\\log_{10} \\gamma$</th>\n",
       "    </tr>\n",
       "  </thead>\n",
       "  <tbody>\n",
       "    <tr>\n",
       "      <th>Ctif</th>\n",
       "      <td>-0.678548</td>\n",
       "      <td>-1.800000</td>\n",
       "      <td>0.229363</td>\n",
       "    </tr>\n",
       "    <tr>\n",
       "      <th>Tcf25</th>\n",
       "      <td>-1.000000</td>\n",
       "      <td>-1.135126</td>\n",
       "      <td>3.420070</td>\n",
       "    </tr>\n",
       "  </tbody>\n",
       "</table>\n",
       "</div>"
      ],
      "text/plain": [
       "       param_$\\log_{10} b$  param_$\\log_{10} \\beta$  param_$\\log_{10} \\gamma$\n",
       "Ctif             -0.678548                -1.800000                  0.229363\n",
       "Tcf25            -1.000000                -1.135126                  3.420070"
      ]
     },
     "metadata": {},
     "output_type": "display_data"
    },
    {
     "data": {
      "text/html": [
       "<div>\n",
       "<style scoped>\n",
       "    .dataframe tbody tr th:only-of-type {\n",
       "        vertical-align: middle;\n",
       "    }\n",
       "\n",
       "    .dataframe tbody tr th {\n",
       "        vertical-align: top;\n",
       "    }\n",
       "\n",
       "    .dataframe thead th {\n",
       "        text-align: right;\n",
       "    }\n",
       "</style>\n",
       "<table border=\"1\" class=\"dataframe\">\n",
       "  <thead>\n",
       "    <tr style=\"text-align: right;\">\n",
       "      <th></th>\n",
       "      <th>sigma_$\\log_{10} b$</th>\n",
       "      <th>sigma_$\\log_{10} \\beta$</th>\n",
       "      <th>sigma_$\\log_{10} \\gamma$</th>\n",
       "    </tr>\n",
       "  </thead>\n",
       "  <tbody>\n",
       "    <tr>\n",
       "      <th>Ctif</th>\n",
       "      <td>-0.678548</td>\n",
       "      <td>-1.800000</td>\n",
       "      <td>0.229363</td>\n",
       "    </tr>\n",
       "    <tr>\n",
       "      <th>Tcf25</th>\n",
       "      <td>-1.000000</td>\n",
       "      <td>-1.135126</td>\n",
       "      <td>3.420070</td>\n",
       "    </tr>\n",
       "  </tbody>\n",
       "</table>\n",
       "</div>"
      ],
      "text/plain": [
       "       sigma_$\\log_{10} b$  sigma_$\\log_{10} \\beta$  sigma_$\\log_{10} \\gamma$\n",
       "Ctif             -0.678548                -1.800000                  0.229363\n",
       "Tcf25            -1.000000                -1.135126                  3.420070"
      ]
     },
     "metadata": {},
     "output_type": "display_data"
    }
   ],
   "source": [
    "# AIC.\n",
    "display(new_adata.var[['AIC']])\n",
    "\n",
    "# Optimum biological parameters.\n",
    "display(new_adata.var[[i for i in new_adata.var.keys() if 'param' in i]])\n",
    "\n",
    "# Uncertainties from Hessian.\n",
    "display(new_adata.var[[i for i in new_adata.var.keys() if 'sigma' in i]])"
   ]
  },
  {
   "cell_type": "markdown",
   "metadata": {
    "id": "gzCkJYD0Jyiy"
   },
   "source": [
    "Plot parameter distributions."
   ]
  },
  {
   "cell_type": "code",
   "execution_count": 176,
   "metadata": {},
   "outputs": [
    {
     "data": {
      "image/png": "[encoded data removed]",
      "text/plain": [
       "<Figure size 640x480 with 1 Axes>"
      ]
     },
     "metadata": {},
     "output_type": "display_data"
    },
    {
     "data": {
      "image/png": "[encoded data removed]",
      "text/plain": [
       "<Figure size 640x480 with 1 Axes>"
      ]
     },
     "metadata": {},
     "output_type": "display_data"
    },
    {
     "data": {
      "image/png": "[encoded data removed]",
      "text/plain": [
       "<Figure size 640x480 with 1 Axes>"
      ]
     },
     "metadata": {},
     "output_type": "display_data"
    }
   ],
   "source": [
    "param_names = [i for i in new_adata.var.keys() if 'param' in i]\n",
    "for name in param_names:\n",
    "    plt.hist(new_adata.var[name])\n",
    "    plt.title('Parameter ' + name[6:])\n",
    "    plt.xlabel('Parameter Value')\n",
    "    plt.ylabel('Frequency')\n",
    "    # plt.savefig(search_result.inference_string + '/parameter_dist_'+ str(i))#'/parameter_dist_{}'.format(\n",
    "    plt.show()"
   ]
  },
  {
   "cell_type": "markdown",
   "metadata": {
    "id": "vI_ciNys-_8y"
   },
   "source": [
    "# Analysis (to be implemented)"
   ]
  },
  {
   "cell_type": "markdown",
   "metadata": {
    "id": "f_zh41Ob_Bmu"
   },
   "source": [
    "## Reject genes."
   ]
  },
  {
   "cell_type": "code",
   "execution_count": null,
   "metadata": {},
   "outputs": [],
   "source": [
    "# Add rejection filter to adata.\n",
    "adata = analysis.reject_genes(new_adata)\n",
    "\n",
    "# Show rejected genes.\n",
    "display(adata.var[adata.var[column_name]])\n",
    "# Save chi-square values.\n",
    "chi_squareds = adata.var['chi_squared']"
   ]
  },
  {
   "cell_type": "markdown",
   "metadata": {},
   "source": [
    "## Execute differential expression analysis."
   ]
  },
  {
   "cell_type": "code",
   "execution_count": null,
   "metadata": {},
   "outputs": [],
   "source": [
    "# Compute FCs and p-values between groups in adata.\n",
    "# This function should also store this information as .uns matrices in adata.\n",
    "FCs, p_values = analysis.DE(adata)"
   ]
  }
 ],
 "metadata": {
  "colab": {
   "include_colab_link": true,
   "name": "Monod demo",
   "provenance": []
  },
  "kernelspec": {
   "display_name": "Python 3 (ipykernel)",
   "language": "python",
   "name": "python3"
  },
  "language_info": {
   "codemirror_mode": {
    "name": "ipython",
    "version": 3
   },
   "file_extension": ".py",
   "mimetype": "text/x-python",
   "name": "python",
   "nbconvert_exporter": "python",
   "pygments_lexer": "ipython3",
   "version": "3.12.2"
  }
 },
 "nbformat": 4,
 "nbformat_minor": 4
}
