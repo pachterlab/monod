{
 "cells": [
  {
   "cell_type": "markdown",
   "metadata": {
    "colab_type": "text",
    "id": "view-in-github"
   },
   "source": [
    "<a href=\"https://colab.research.google.com/github/pachterlab/monod/blob/anndata/Monod_demo_new.ipynb?short_path=e568791\" target=\"_parent\"><img src=\"https://colab.research.google.com/assets/colab-badge.svg\" alt=\"Open In Colab\"/></a>"
   ]
  },
  {
   "cell_type": "markdown",
   "metadata": {
    "id": "t0jj305u1LB0"
   },
   "source": [
    "# *Monod* on Colab"
   ]
  },
  {
   "cell_type": "markdown",
   "metadata": {
    "id": "clys0amiJQ4V"
   },
   "source": [
    "In the current notebook, we apply *Monod* to identify differentially regulated genes between GABAergic and glutamatergic cell types in a single Allen dataset. "
   ]
  },
  {
   "cell_type": "markdown",
   "metadata": {
    "id": "A_tyjLWZJMT9"
   },
   "source": [
    "# Inference pipeline"
   ]
  },
  {
   "cell_type": "markdown",
   "metadata": {
    "id": "fbqxrHZX1PIB"
   },
   "source": [
    "## Install prerequisites"
   ]
  },
  {
   "cell_type": "code",
   "execution_count": 153,
   "metadata": {
    "colab": {
     "base_uri": "https://localhost:8080/"
    },
    "id": "1AQA8mxjqbvX",
    "outputId": "eff6e961-b5b6-460a-a494-2c1a34679da4"
   },
   "outputs": [],
   "source": [
    "# # %%capture\n",
    "# # !pip install -i https://test.pypi.org/simple/ -U --extra-index-url https://pypi.org/simple   monod  \n",
    "# # !pip install -i https://pypi.org/simple/  monod  \n",
    "# !pip install monod"
   ]
  },
  {
   "cell_type": "markdown",
   "metadata": {
    "id": "q1XTsobSlp--"
   },
   "source": [
    "Let's make sure that the version is correct."
   ]
  },
  {
   "cell_type": "code",
   "execution_count": 154,
   "metadata": {
    "colab": {
     "base_uri": "https://localhost:8080/"
    },
    "id": "Ea8T9j62lo7D",
    "outputId": "7bf50f59-ea00-44cf-ffbc-697dd1d09145"
   },
   "outputs": [],
   "source": [
    "# !pip show monod"
   ]
  },
  {
   "cell_type": "markdown",
   "metadata": {
    "id": "lTXr7lE21S2z"
   },
   "source": [
    "## Import data"
   ]
  },
  {
   "cell_type": "code",
   "execution_count": 155,
   "metadata": {
    "colab": {
     "base_uri": "https://localhost:8080/"
    },
    "id": "_Es6dkf3YNof",
    "outputId": "8c897032-1bb6-41ac-91ee-7888e7d2591d"
   },
   "outputs": [],
   "source": [
    "# ! git clone https://github.com/pachterlab/monod_examples.git"
   ]
  },
  {
   "cell_type": "code",
   "execution_count": 156,
   "metadata": {
    "id": "XLckDGwtYWkf"
   },
   "outputs": [],
   "source": [
    "# !rm -r sample_data"
   ]
  },
  {
   "cell_type": "code",
   "execution_count": 157,
   "metadata": {
    "id": "iLdPbyL3YST0"
   },
   "outputs": [],
   "source": [
    "# !mv monod_examples/* ."
   ]
  },
  {
   "cell_type": "code",
   "execution_count": 158,
   "metadata": {
    "id": "vDBCR9yRX3Vw"
   },
   "outputs": [],
   "source": [
    "# !rm -r monod_examples"
   ]
  },
  {
   "cell_type": "code",
   "execution_count": 159,
   "metadata": {
    "id": "ctgV1Bw_zFBl"
   },
   "outputs": [],
   "source": [
    "# !mv sample_data/* ."
   ]
  },
  {
   "cell_type": "code",
   "execution_count": 160,
   "metadata": {
    "id": "fJZon2F8X89h"
   },
   "outputs": [],
   "source": [
    "# !rmdir sample_data"
   ]
  },
  {
   "cell_type": "code",
   "execution_count": 161,
   "metadata": {
    "colab": {
     "base_uri": "https://localhost:8080/"
    },
    "id": "UeCQkeQdJNmE",
    "outputId": "db485cf3-eec2-46b6-b6d9-2736f881df53"
   },
   "outputs": [],
   "source": [
    "# !cat allen_C01_gaba.tar.gz.* | tar xzvf -"
   ]
  },
  {
   "cell_type": "code",
   "execution_count": 162,
   "metadata": {
    "id": "RQZKgCjmYAuF"
   },
   "outputs": [],
   "source": [
    "# !mv home/ggorin/projects/monod_examples/sample_data/allen_C01_gaba.loom ."
   ]
  },
  {
   "cell_type": "code",
   "execution_count": 163,
   "metadata": {
    "colab": {
     "base_uri": "https://localhost:8080/"
    },
    "id": "hLXTb03AXoNl",
    "outputId": "16cf48dd-e0b8-4410-f799-4d3a115d1a51"
   },
   "outputs": [],
   "source": [
    "# !cat allen_C01_glu.tar.gz.* | tar xzvf -"
   ]
  },
  {
   "cell_type": "code",
   "execution_count": 164,
   "metadata": {
    "id": "u2WkM_hDYN4-"
   },
   "outputs": [],
   "source": [
    "# !mv home/ggorin/projects/monod_examples/sample_data/allen_C01_glu.loom ."
   ]
  },
  {
   "cell_type": "code",
   "execution_count": 165,
   "metadata": {
    "id": "vDI0QGHHJ6so"
   },
   "outputs": [],
   "source": [
    "# !rm -r  ./home"
   ]
  },
  {
   "cell_type": "code",
   "execution_count": 166,
   "metadata": {
    "id": "efkK6_EQDcB3"
   },
   "outputs": [],
   "source": [
    "# !rm *.tar.*"
   ]
  },
  {
   "cell_type": "markdown",
   "metadata": {
    "id": "hfprorcN13LY"
   },
   "source": [
    "## Import package components"
   ]
  },
  {
   "cell_type": "code",
   "execution_count": 653,
   "metadata": {
    "id": "L8Ax0d2vrdwY"
   },
   "outputs": [],
   "source": [
    "# import monod\n",
    "# from monod import preprocess, extract_data, cme_toolbox, inference, analysis\n",
    "\n",
    "import matplotlib.pyplot as plt\n",
    "import numpy as np"
   ]
  },
  {
   "cell_type": "code",
   "execution_count": 703,
   "metadata": {},
   "outputs": [],
   "source": [
    "import logging, sys\n",
    "logging.basicConfig(stream=sys.stdout)\n",
    "log = logging.getLogger()\n",
    "log.setLevel(logging.DEBUG)\n",
    "import warnings\n",
    "warnings.filterwarnings(\"ignore\") #warning suppression within script is not respected by colab\n",
    "warnings.simplefilter('ignore')"
   ]
  },
  {
   "cell_type": "code",
   "execution_count": 704,
   "metadata": {},
   "outputs": [
    {
     "data": {
      "text/plain": [
       "<module 'analysis' from '/home/cat/monod/src/monod/analysis.py'>"
      ]
     },
     "execution_count": 704,
     "metadata": {},
     "output_type": "execute_result"
    }
   ],
   "source": [
    "# execfile(\"src/monod/preprocess.py\")\n",
    "import sys\n",
    "\n",
    "# sys.path.insert(0, '/home/mffang/workspace/Monod/monod/src/monod')\n",
    "\n",
    "import extract_data, cme_toolbox, inference, analysis\n",
    "import importlib\n",
    "\n",
    "importlib.reload(extract_data)\n",
    "importlib.reload(inference)\n",
    "importlib.reload(cme_toolbox)\n",
    "importlib.reload(analysis)"
   ]
  },
  {
   "cell_type": "markdown",
   "metadata": {},
   "source": [
    "## Set up model and perform inference."
   ]
  },
  {
   "cell_type": "code",
   "execution_count": 705,
   "metadata": {},
   "outputs": [
    {
     "name": "stdout",
     "output_type": "stream",
     "text": [
      "The expected modalities for this model are: ['unspliced', 'spliced']\n",
      "If your anndata layers have different names, please give a modality dictionary of the form: modality_name_dict  = {'spliced':your_spliced_layer_name, 'unspliced':your_unspliced_layer_name} \n",
      "INFO:root:Directory gaba_example already exists.\n",
      "INFO:root:Beginning data extraction.\n",
      "INFO:root:Dataset: gaba_example\n",
      "is sparse\n",
      "INFO:root:Added lengths\n",
      "INFO:root:728 cells detected.\n",
      "3579 genes retained after expression filter.\n",
      "INFO:root:0 random genes selected.\n",
      "INFO:root:Total of 5 genes selected.\n",
      "['unspliced', 'spliced'] previous ordering\n",
      "['unspliced', 'spliced'] ordered for histogram\n",
      "INFO:root:Data extracted\n",
      "LayersView with keys: unspliced, spliced\n",
      "['unspliced', 'spliced']\n",
      "INFO:root:Search data created.\n",
      "INFO:root:Directory gaba_example/Bursty_Poisson_6x7 already exists.\n",
      "INFO:root:Global inference parameters stored to gaba_example/Bursty_Poisson_6x7/parameters.pr.\n",
      "INFO:root:Global inference parameters set.\n",
      "INFO:root:Starting non-parallelized grid scan.\n",
      "INFO:root:Non-parallelized grid scan complete.\n",
      "INFO:root:All grid point data cleaned from disk.\n",
      "INFO:root:Directory gaba_example/Bursty_Poisson_6x7/analysis_figures already exists.\n",
      "INFO:root:Grid scan results stored to gaba_example/Bursty_Poisson_6x7/grid_scan_results.res.\n",
      "INFO:root:Runtime: 9.7 seconds.\n",
      "INFO:root:Grid points fit.\n",
      "INFO:root:Optimal parameters found.\n",
      "INFO:root:Optimal parameters saved.\n",
      "Layers with keys: unspliced, spliced\n",
      "['unspliced', 'spliced']\n",
      "INFO:root:AIC values calculated.\n",
      "INFO:root:Computing local Hessian.\n",
      "INFO:root:Starting non-parallelized Hessian computation.\n"
     ]
    },
    {
     "name": "stderr",
     "output_type": "stream",
     "text": [
      "/home/cat/monod/src/monod/inference.py:114: ImplicitModificationWarning: Trying to modify attribute `.var` of view, initializing view as actual.\n",
      "  monod_adata.var['param_' + param_name] = param_values\n"
     ]
    },
    {
     "name": "stdout",
     "output_type": "stream",
     "text": [
      "INFO:root:Non-parallelized Hessian computation complete.\n",
      "INFO:root:Standard error of the MLE computation complete. Runtime: 0.9 seconds.\n",
      "INFO:root:Uncertainties per gene calculated.\n"
     ]
    }
   ],
   "source": [
    "# Define model.\n",
    "fitmodel = cme_toolbox.CMEModel('Bursty','Poisson')\n",
    "transcriptome_filepath = './monod_examples/polyA_ref/gg_200524_mouse_genome_polyA_cum_1'\n",
    "\n",
    "DE_genes = ['Rspo3', 'Erbin','Rcan3' ,'Clic4', 'Vrk1']#, 'Lrp12', 'Gatm' ,'Rims3', '1110004F10Rik', 'Tcerg1l', 'Hcrtr2' ]\n",
    "demo_genes = ['Eif5b','Xrcc5',\t'Klhl12','Rgs7','Thsd7b']\n",
    "# Perform inference. (don't need to give these bounds, here for debugging but can use defaults.)\n",
    "lb = [-1.0, -1.8, -1.8 ]\n",
    "ub = [4.2, 2.5, 3.5]\n",
    "samp_lb, samp_ub = [-8, -3],[-5, 0]\n",
    "grid = [6,7]\n",
    "\n",
    "# Define a mapping from modality names from cme_toolbox to anndata layer names. \n",
    "# (If none given, equality is assumed).\n",
    "modality_name_dict  = {'spliced':'spliced', 'unspliced':'unspliced'}\n",
    "\n",
    "gaba_adata = inference.perform_inference('./gaba_example.h5ad', fitmodel, n_genes=5, seed=4, genes_to_fit=DE_genes,\n",
    "            phys_lb=lb, phys_ub=ub, gridsize=grid, samp_lb=samp_lb, samp_ub=samp_ub, \n",
    "            gradient_params = {'max_iterations':5,'init_pattern':'moments','num_restarts':1}, \n",
    "                                              modality_name_dict=modality_name_dict,\n",
    "                                         transcriptome_filepath=transcriptome_filepath) "
   ]
  },
  {
   "cell_type": "code",
   "execution_count": 708,
   "metadata": {},
   "outputs": [
    {
     "name": "stdout",
     "output_type": "stream",
     "text": [
      "INFO:root:Figure stored to gaba_example/Bursty_Poisson_6x7/analysis_figures/length_dependence.png.\n"
     ]
    },
    {
     "data": {
      "image/png": "[encoded data removed]",
      "text/plain": [
       "<Figure size 1200x400 with 3 Axes>"
      ]
     },
     "metadata": {},
     "output_type": "display_data"
    }
   ],
   "source": [
    "gaba_adata.uns['search_result'].samp_optimum\n",
    "gaba_adata.uns['search_result'].plot_param_L_dep(plot_fit=True, plot_errorbars=True)"
   ]
  },
  {
   "cell_type": "code",
   "execution_count": 707,
   "metadata": {},
   "outputs": [
    {
     "name": "stdout",
     "output_type": "stream",
     "text": [
      "INFO:root:Chi-square computation complete. Rejected 0 genes out of 5. Runtime: 0.0 seconds.\n"
     ]
    }
   ],
   "source": [
    "gaba_adata = inference.reject_genes(gaba_adata, reject_at_bounds=False)#, threshold=-1, use_hellinger=False, reject_at_bounds=False)\n"
   ]
  },
  {
   "cell_type": "code",
   "execution_count": 681,
   "metadata": {},
   "outputs": [
    {
     "name": "stdout",
     "output_type": "stream",
     "text": [
      "INFO:root:Directory glu_example already exists.\n",
      "INFO:root:Beginning data extraction.\n",
      "INFO:root:Dataset: glu_example\n"
     ]
    },
    {
     "name": "stderr",
     "output_type": "stream",
     "text": [
      "/home/cat/.conda/envs/myenv/lib/python3.12/site-packages/anndata/_core/anndata.py:1820: UserWarning: Variable names are not unique. To make them unique, call `.var_names_make_unique`.\n",
      "  utils.warn_names_duplicates(\"var\")\n",
      "/home/cat/.conda/envs/myenv/lib/python3.12/site-packages/anndata/_core/anndata.py:1820: UserWarning: Variable names are not unique. To make them unique, call `.var_names_make_unique`.\n",
      "  utils.warn_names_duplicates(\"var\")\n"
     ]
    },
    {
     "name": "stdout",
     "output_type": "stream",
     "text": [
      "is sparse\n"
     ]
    },
    {
     "name": "stderr",
     "output_type": "stream",
     "text": [
      "/home/cat/.conda/envs/myenv/lib/python3.12/site-packages/anndata/_core/anndata.py:1820: UserWarning: Variable names are not unique. To make them unique, call `.var_names_make_unique`.\n",
      "  utils.warn_names_duplicates(\"var\")\n",
      "/home/cat/.conda/envs/myenv/lib/python3.12/site-packages/anndata/_core/anndata.py:1820: UserWarning: Variable names are not unique. To make them unique, call `.var_names_make_unique`.\n",
      "  utils.warn_names_duplicates(\"var\")\n"
     ]
    },
    {
     "name": "stdout",
     "output_type": "stream",
     "text": [
      "INFO:root:Added lengths\n"
     ]
    },
    {
     "name": "stderr",
     "output_type": "stream",
     "text": [
      "/home/cat/.conda/envs/myenv/lib/python3.12/site-packages/anndata/_core/anndata.py:1820: UserWarning: Variable names are not unique. To make them unique, call `.var_names_make_unique`.\n",
      "  utils.warn_names_duplicates(\"var\")\n",
      "/home/cat/.conda/envs/myenv/lib/python3.12/site-packages/pandas/core/algorithms.py:522: DeprecationWarning: np.find_common_type is deprecated.  Please use `np.result_type` or `np.promote_types`.\n",
      "See https://numpy.org/devdocs/release/1.25.0-notes.html and the docs for more information.  (Deprecated NumPy 1.25)\n",
      "  common = np.find_common_type([values.dtype, comps_array.dtype], [])\n",
      "/home/cat/.conda/envs/myenv/lib/python3.12/site-packages/pandas/core/arraylike.py:402: RuntimeWarning: divide by zero encountered in log10\n",
      "  result = getattr(ufunc, method)(*inputs, **kwargs)\n"
     ]
    },
    {
     "name": "stdout",
     "output_type": "stream",
     "text": [
      "INFO:root:6629 cells detected.\n"
     ]
    },
    {
     "name": "stderr",
     "output_type": "stream",
     "text": [
      "/home/cat/.conda/envs/myenv/lib/python3.12/site-packages/anndata/_core/anndata.py:1820: UserWarning: Variable names are not unique. To make them unique, call `.var_names_make_unique`.\n",
      "  utils.warn_names_duplicates(\"var\")\n"
     ]
    },
    {
     "name": "stdout",
     "output_type": "stream",
     "text": [
      "5521 genes retained after expression filter.\n"
     ]
    },
    {
     "name": "stderr",
     "output_type": "stream",
     "text": [
      "/home/cat/monod/src/monod/extract_data.py:873: SettingWithCopyWarning: \n",
      "A value is trying to be set on a copy of a slice from a DataFrame\n",
      "\n",
      "See the caveats in the documentation: https://pandas.pydata.org/pandas-docs/stable/user_guide/indexing.html#returning-a-view-versus-a-copy\n",
      "  gene_exp_filter[gene_loc[0]] = False\n"
     ]
    },
    {
     "name": "stdout",
     "output_type": "stream",
     "text": [
      "INFO:root:0 random genes selected.\n",
      "INFO:root:Total of 5 genes selected.\n",
      "['unspliced', 'spliced'] previous ordering\n",
      "['unspliced', 'spliced'] ordered for histogram\n",
      "INFO:root:Data extracted\n",
      "LayersView with keys: unspliced, spliced\n",
      "['unspliced', 'spliced']\n",
      "INFO:root:Search data created.\n",
      "INFO:root:Directory glu_example/Bursty_Poisson_6x7 already exists.\n",
      "INFO:root:Global inference parameters stored to glu_example/Bursty_Poisson_6x7/parameters.pr.\n",
      "INFO:root:Global inference parameters set.\n",
      "INFO:root:Starting non-parallelized grid scan.\n",
      "INFO:root:Non-parallelized grid scan complete.\n",
      "INFO:root:All grid point data cleaned from disk.\n",
      "INFO:root:Directory glu_example/Bursty_Poisson_6x7/analysis_figures already exists.\n",
      "INFO:root:Grid scan results stored to glu_example/Bursty_Poisson_6x7/grid_scan_results.res.\n",
      "INFO:root:Runtime: 26.7 seconds.\n",
      "INFO:root:Grid points fit.\n",
      "INFO:root:Optimal parameters found.\n",
      "INFO:root:Optimal parameters saved.\n",
      "Layers with keys: unspliced, spliced\n",
      "['unspliced', 'spliced']\n",
      "INFO:root:AIC values calculated.\n",
      "INFO:root:Computing local Hessian.\n",
      "INFO:root:Starting non-parallelized Hessian computation.\n"
     ]
    },
    {
     "name": "stderr",
     "output_type": "stream",
     "text": [
      "/home/cat/monod/src/monod/inference.py:114: ImplicitModificationWarning: Trying to modify attribute `.var` of view, initializing view as actual.\n",
      "  log.info('AIC values calculated.')\n"
     ]
    },
    {
     "name": "stdout",
     "output_type": "stream",
     "text": [
      "INFO:root:Non-parallelized Hessian computation complete.\n",
      "INFO:root:Standard error of the MLE computation complete. Runtime: 1.1 seconds.\n",
      "INFO:root:Uncertainties per gene calculated.\n"
     ]
    }
   ],
   "source": [
    "glu_adata = inference.perform_inference('./glu_example.h5ad', fitmodel, n_genes=5, seed=4, genes_to_fit=DE_genes,\n",
    "                                       phys_lb=lb, phys_ub=ub, gridsize=grid, samp_lb=samp_lb, samp_ub=samp_ub, \n",
    "                                        gradient_params = {'max_iterations':5,'init_pattern':'moments','num_restarts':1},\n",
    "                                       transcriptome_filepath=transcriptome_filepath) #['Eif5b', 'Thsd7b', 'Fbxw2', 'Otud7a', 'Asah1'])glu_adata = inference.perform_inference('./glu_example.h5ad', fitmodel, n_genes=5, seed=4, genes_to_fit=DE_genes,"
   ]
  },
  {
   "cell_type": "code",
   "execution_count": null,
   "metadata": {},
   "outputs": [],
   "source": [
    "# # NB currently can't save whole object to file since some .uns attributes cannot be pickled.\n",
    "# gaba_adata.write('gaba_fit.h5ad')\n",
    "# gaba_adata.write('glu_fit.h5ad')"
   ]
  },
  {
   "cell_type": "markdown",
   "metadata": {},
   "source": [
    "## Access gene info."
   ]
  },
  {
   "cell_type": "code",
   "execution_count": 682,
   "metadata": {},
   "outputs": [
    {
     "data": {
      "text/html": [
       "<div>\n",
       "<style scoped>\n",
       "    .dataframe tbody tr th:only-of-type {\n",
       "        vertical-align: middle;\n",
       "    }\n",
       "\n",
       "    .dataframe tbody tr th {\n",
       "        vertical-align: top;\n",
       "    }\n",
       "\n",
       "    .dataframe thead th {\n",
       "        text-align: right;\n",
       "    }\n",
       "</style>\n",
       "<table border=\"1\" class=\"dataframe\">\n",
       "  <thead>\n",
       "    <tr style=\"text-align: right;\">\n",
       "      <th></th>\n",
       "      <th>AIC</th>\n",
       "    </tr>\n",
       "    <tr>\n",
       "      <th>gene_name</th>\n",
       "      <th></th>\n",
       "    </tr>\n",
       "  </thead>\n",
       "  <tbody>\n",
       "    <tr>\n",
       "      <th>Rspo3</th>\n",
       "      <td>1051.807514</td>\n",
       "    </tr>\n",
       "    <tr>\n",
       "      <th>Vrk1</th>\n",
       "      <td>2685.281112</td>\n",
       "    </tr>\n",
       "    <tr>\n",
       "      <th>Erbin</th>\n",
       "      <td>5341.835140</td>\n",
       "    </tr>\n",
       "    <tr>\n",
       "      <th>Rcan3</th>\n",
       "      <td>2716.916103</td>\n",
       "    </tr>\n",
       "    <tr>\n",
       "      <th>Clic4</th>\n",
       "      <td>1753.019133</td>\n",
       "    </tr>\n",
       "  </tbody>\n",
       "</table>\n",
       "</div>"
      ],
      "text/plain": [
       "                   AIC\n",
       "gene_name             \n",
       "Rspo3      1051.807514\n",
       "Vrk1       2685.281112\n",
       "Erbin      5341.835140\n",
       "Rcan3      2716.916103\n",
       "Clic4      1753.019133"
      ]
     },
     "metadata": {},
     "output_type": "display_data"
    },
    {
     "data": {
      "text/html": [
       "<div>\n",
       "<style scoped>\n",
       "    .dataframe tbody tr th:only-of-type {\n",
       "        vertical-align: middle;\n",
       "    }\n",
       "\n",
       "    .dataframe tbody tr th {\n",
       "        vertical-align: top;\n",
       "    }\n",
       "\n",
       "    .dataframe thead th {\n",
       "        text-align: right;\n",
       "    }\n",
       "</style>\n",
       "<table border=\"1\" class=\"dataframe\">\n",
       "  <thead>\n",
       "    <tr style=\"text-align: right;\">\n",
       "      <th></th>\n",
       "      <th>param_$\\log_{10} b$</th>\n",
       "      <th>param_$\\log_{10} \\beta$</th>\n",
       "      <th>param_$\\log_{10} \\gamma$</th>\n",
       "    </tr>\n",
       "    <tr>\n",
       "      <th>gene_name</th>\n",
       "      <th></th>\n",
       "      <th></th>\n",
       "      <th></th>\n",
       "    </tr>\n",
       "  </thead>\n",
       "  <tbody>\n",
       "    <tr>\n",
       "      <th>Rspo3</th>\n",
       "      <td>1.393542</td>\n",
       "      <td>0.838267</td>\n",
       "      <td>1.897753</td>\n",
       "    </tr>\n",
       "    <tr>\n",
       "      <th>Vrk1</th>\n",
       "      <td>1.468275</td>\n",
       "      <td>0.256774</td>\n",
       "      <td>1.374823</td>\n",
       "    </tr>\n",
       "    <tr>\n",
       "      <th>Erbin</th>\n",
       "      <td>1.323164</td>\n",
       "      <td>-0.405559</td>\n",
       "      <td>0.827421</td>\n",
       "    </tr>\n",
       "    <tr>\n",
       "      <th>Rcan3</th>\n",
       "      <td>1.019414</td>\n",
       "      <td>-0.459644</td>\n",
       "      <td>0.774511</td>\n",
       "    </tr>\n",
       "    <tr>\n",
       "      <th>Clic4</th>\n",
       "      <td>1.586942</td>\n",
       "      <td>0.855411</td>\n",
       "      <td>1.397246</td>\n",
       "    </tr>\n",
       "  </tbody>\n",
       "</table>\n",
       "</div>"
      ],
      "text/plain": [
       "           param_$\\log_{10} b$  param_$\\log_{10} \\beta$  \\\n",
       "gene_name                                                 \n",
       "Rspo3                 1.393542                 0.838267   \n",
       "Vrk1                  1.468275                 0.256774   \n",
       "Erbin                 1.323164                -0.405559   \n",
       "Rcan3                 1.019414                -0.459644   \n",
       "Clic4                 1.586942                 0.855411   \n",
       "\n",
       "           param_$\\log_{10} \\gamma$  \n",
       "gene_name                            \n",
       "Rspo3                      1.897753  \n",
       "Vrk1                       1.374823  \n",
       "Erbin                      0.827421  \n",
       "Rcan3                      0.774511  \n",
       "Clic4                      1.397246  "
      ]
     },
     "metadata": {},
     "output_type": "display_data"
    },
    {
     "data": {
      "text/html": [
       "<div>\n",
       "<style scoped>\n",
       "    .dataframe tbody tr th:only-of-type {\n",
       "        vertical-align: middle;\n",
       "    }\n",
       "\n",
       "    .dataframe tbody tr th {\n",
       "        vertical-align: top;\n",
       "    }\n",
       "\n",
       "    .dataframe thead th {\n",
       "        text-align: right;\n",
       "    }\n",
       "</style>\n",
       "<table border=\"1\" class=\"dataframe\">\n",
       "  <thead>\n",
       "    <tr style=\"text-align: right;\">\n",
       "      <th></th>\n",
       "      <th>sigma_$\\log_{10} b$</th>\n",
       "      <th>sigma_$\\log_{10} \\beta$</th>\n",
       "      <th>sigma_$\\log_{10} \\gamma$</th>\n",
       "    </tr>\n",
       "    <tr>\n",
       "      <th>gene_name</th>\n",
       "      <th></th>\n",
       "      <th></th>\n",
       "      <th></th>\n",
       "    </tr>\n",
       "  </thead>\n",
       "  <tbody>\n",
       "    <tr>\n",
       "      <th>Rspo3</th>\n",
       "      <td>1.393542</td>\n",
       "      <td>0.838267</td>\n",
       "      <td>1.897753</td>\n",
       "    </tr>\n",
       "    <tr>\n",
       "      <th>Vrk1</th>\n",
       "      <td>1.468275</td>\n",
       "      <td>0.256774</td>\n",
       "      <td>1.374823</td>\n",
       "    </tr>\n",
       "    <tr>\n",
       "      <th>Erbin</th>\n",
       "      <td>1.323164</td>\n",
       "      <td>-0.405559</td>\n",
       "      <td>0.827421</td>\n",
       "    </tr>\n",
       "    <tr>\n",
       "      <th>Rcan3</th>\n",
       "      <td>1.019414</td>\n",
       "      <td>-0.459644</td>\n",
       "      <td>0.774511</td>\n",
       "    </tr>\n",
       "    <tr>\n",
       "      <th>Clic4</th>\n",
       "      <td>1.586942</td>\n",
       "      <td>0.855411</td>\n",
       "      <td>1.397246</td>\n",
       "    </tr>\n",
       "  </tbody>\n",
       "</table>\n",
       "</div>"
      ],
      "text/plain": [
       "           sigma_$\\log_{10} b$  sigma_$\\log_{10} \\beta$  \\\n",
       "gene_name                                                 \n",
       "Rspo3                 1.393542                 0.838267   \n",
       "Vrk1                  1.468275                 0.256774   \n",
       "Erbin                 1.323164                -0.405559   \n",
       "Rcan3                 1.019414                -0.459644   \n",
       "Clic4                 1.586942                 0.855411   \n",
       "\n",
       "           sigma_$\\log_{10} \\gamma$  \n",
       "gene_name                            \n",
       "Rspo3                      1.897753  \n",
       "Vrk1                       1.374823  \n",
       "Erbin                      0.827421  \n",
       "Rcan3                      0.774511  \n",
       "Clic4                      1.397246  "
      ]
     },
     "metadata": {},
     "output_type": "display_data"
    }
   ],
   "source": [
    "# AIC.\n",
    "display(gaba_adata.var[['AIC']])\n",
    "\n",
    "# Optimum biological parameters.\n",
    "display(gaba_adata.var[[i for i in new_adata.var.keys() if 'param' in i]])\n",
    "\n",
    "# Uncertainties from Hessian.\n",
    "display(gaba_adata.var[[i for i in new_adata.var.keys() if 'sigma' in i]])"
   ]
  },
  {
   "cell_type": "code",
   "execution_count": 683,
   "metadata": {},
   "outputs": [
    {
     "data": {
      "text/html": [
       "<div>\n",
       "<style scoped>\n",
       "    .dataframe tbody tr th:only-of-type {\n",
       "        vertical-align: middle;\n",
       "    }\n",
       "\n",
       "    .dataframe tbody tr th {\n",
       "        vertical-align: top;\n",
       "    }\n",
       "\n",
       "    .dataframe thead th {\n",
       "        text-align: right;\n",
       "    }\n",
       "</style>\n",
       "<table border=\"1\" class=\"dataframe\">\n",
       "  <thead>\n",
       "    <tr style=\"text-align: right;\">\n",
       "      <th></th>\n",
       "      <th>AIC</th>\n",
       "    </tr>\n",
       "    <tr>\n",
       "      <th>gene_name</th>\n",
       "      <th></th>\n",
       "    </tr>\n",
       "  </thead>\n",
       "  <tbody>\n",
       "    <tr>\n",
       "      <th>Rspo3</th>\n",
       "      <td>21296.635566</td>\n",
       "    </tr>\n",
       "    <tr>\n",
       "      <th>Vrk1</th>\n",
       "      <td>15888.053165</td>\n",
       "    </tr>\n",
       "    <tr>\n",
       "      <th>Erbin</th>\n",
       "      <td>13098.356659</td>\n",
       "    </tr>\n",
       "    <tr>\n",
       "      <th>Rcan3</th>\n",
       "      <td>4428.899354</td>\n",
       "    </tr>\n",
       "    <tr>\n",
       "      <th>Clic4</th>\n",
       "      <td>2787.016388</td>\n",
       "    </tr>\n",
       "  </tbody>\n",
       "</table>\n",
       "</div>"
      ],
      "text/plain": [
       "                    AIC\n",
       "gene_name              \n",
       "Rspo3      21296.635566\n",
       "Vrk1       15888.053165\n",
       "Erbin      13098.356659\n",
       "Rcan3       4428.899354\n",
       "Clic4       2787.016388"
      ]
     },
     "metadata": {},
     "output_type": "display_data"
    },
    {
     "data": {
      "text/html": [
       "<div>\n",
       "<style scoped>\n",
       "    .dataframe tbody tr th:only-of-type {\n",
       "        vertical-align: middle;\n",
       "    }\n",
       "\n",
       "    .dataframe tbody tr th {\n",
       "        vertical-align: top;\n",
       "    }\n",
       "\n",
       "    .dataframe thead th {\n",
       "        text-align: right;\n",
       "    }\n",
       "</style>\n",
       "<table border=\"1\" class=\"dataframe\">\n",
       "  <thead>\n",
       "    <tr style=\"text-align: right;\">\n",
       "      <th></th>\n",
       "      <th>param_$\\log_{10} b$</th>\n",
       "      <th>param_$\\log_{10} \\beta$</th>\n",
       "      <th>param_$\\log_{10} \\gamma$</th>\n",
       "    </tr>\n",
       "    <tr>\n",
       "      <th>gene_name</th>\n",
       "      <th></th>\n",
       "      <th></th>\n",
       "      <th></th>\n",
       "    </tr>\n",
       "  </thead>\n",
       "  <tbody>\n",
       "    <tr>\n",
       "      <th>Rspo3</th>\n",
       "      <td>1.280592</td>\n",
       "      <td>0.267672</td>\n",
       "      <td>0.369304</td>\n",
       "    </tr>\n",
       "    <tr>\n",
       "      <th>Vrk1</th>\n",
       "      <td>0.888506</td>\n",
       "      <td>-0.038028</td>\n",
       "      <td>0.254739</td>\n",
       "    </tr>\n",
       "    <tr>\n",
       "      <th>Erbin</th>\n",
       "      <td>1.352959</td>\n",
       "      <td>0.691909</td>\n",
       "      <td>0.790293</td>\n",
       "    </tr>\n",
       "    <tr>\n",
       "      <th>Rcan3</th>\n",
       "      <td>1.382229</td>\n",
       "      <td>0.936958</td>\n",
       "      <td>1.235582</td>\n",
       "    </tr>\n",
       "    <tr>\n",
       "      <th>Clic4</th>\n",
       "      <td>1.643626</td>\n",
       "      <td>1.803793</td>\n",
       "      <td>1.685088</td>\n",
       "    </tr>\n",
       "  </tbody>\n",
       "</table>\n",
       "</div>"
      ],
      "text/plain": [
       "           param_$\\log_{10} b$  param_$\\log_{10} \\beta$  \\\n",
       "gene_name                                                 \n",
       "Rspo3                 1.280592                 0.267672   \n",
       "Vrk1                  0.888506                -0.038028   \n",
       "Erbin                 1.352959                 0.691909   \n",
       "Rcan3                 1.382229                 0.936958   \n",
       "Clic4                 1.643626                 1.803793   \n",
       "\n",
       "           param_$\\log_{10} \\gamma$  \n",
       "gene_name                            \n",
       "Rspo3                      0.369304  \n",
       "Vrk1                       0.254739  \n",
       "Erbin                      0.790293  \n",
       "Rcan3                      1.235582  \n",
       "Clic4                      1.685088  "
      ]
     },
     "metadata": {},
     "output_type": "display_data"
    },
    {
     "data": {
      "text/html": [
       "<div>\n",
       "<style scoped>\n",
       "    .dataframe tbody tr th:only-of-type {\n",
       "        vertical-align: middle;\n",
       "    }\n",
       "\n",
       "    .dataframe tbody tr th {\n",
       "        vertical-align: top;\n",
       "    }\n",
       "\n",
       "    .dataframe thead th {\n",
       "        text-align: right;\n",
       "    }\n",
       "</style>\n",
       "<table border=\"1\" class=\"dataframe\">\n",
       "  <thead>\n",
       "    <tr style=\"text-align: right;\">\n",
       "      <th></th>\n",
       "      <th>sigma_$\\log_{10} b$</th>\n",
       "      <th>sigma_$\\log_{10} \\beta$</th>\n",
       "      <th>sigma_$\\log_{10} \\gamma$</th>\n",
       "    </tr>\n",
       "    <tr>\n",
       "      <th>gene_name</th>\n",
       "      <th></th>\n",
       "      <th></th>\n",
       "      <th></th>\n",
       "    </tr>\n",
       "  </thead>\n",
       "  <tbody>\n",
       "    <tr>\n",
       "      <th>Rspo3</th>\n",
       "      <td>1.280592</td>\n",
       "      <td>0.267672</td>\n",
       "      <td>0.369304</td>\n",
       "    </tr>\n",
       "    <tr>\n",
       "      <th>Vrk1</th>\n",
       "      <td>0.888506</td>\n",
       "      <td>-0.038028</td>\n",
       "      <td>0.254739</td>\n",
       "    </tr>\n",
       "    <tr>\n",
       "      <th>Erbin</th>\n",
       "      <td>1.352959</td>\n",
       "      <td>0.691909</td>\n",
       "      <td>0.790293</td>\n",
       "    </tr>\n",
       "    <tr>\n",
       "      <th>Rcan3</th>\n",
       "      <td>1.382229</td>\n",
       "      <td>0.936958</td>\n",
       "      <td>1.235582</td>\n",
       "    </tr>\n",
       "    <tr>\n",
       "      <th>Clic4</th>\n",
       "      <td>1.643626</td>\n",
       "      <td>1.803793</td>\n",
       "      <td>1.685088</td>\n",
       "    </tr>\n",
       "  </tbody>\n",
       "</table>\n",
       "</div>"
      ],
      "text/plain": [
       "           sigma_$\\log_{10} b$  sigma_$\\log_{10} \\beta$  \\\n",
       "gene_name                                                 \n",
       "Rspo3                 1.280592                 0.267672   \n",
       "Vrk1                  0.888506                -0.038028   \n",
       "Erbin                 1.352959                 0.691909   \n",
       "Rcan3                 1.382229                 0.936958   \n",
       "Clic4                 1.643626                 1.803793   \n",
       "\n",
       "           sigma_$\\log_{10} \\gamma$  \n",
       "gene_name                            \n",
       "Rspo3                      0.369304  \n",
       "Vrk1                       0.254739  \n",
       "Erbin                      0.790293  \n",
       "Rcan3                      1.235582  \n",
       "Clic4                      1.685088  "
      ]
     },
     "metadata": {},
     "output_type": "display_data"
    }
   ],
   "source": [
    "# AIC.\n",
    "display(glu_adata.var[['AIC']])\n",
    "\n",
    "# Optimum biological parameters.\n",
    "display(glu_adata.var[[i for i in new_adata.var.keys() if 'param' in i]])\n",
    "\n",
    "# Uncertainties from Hessian.\n",
    "display(glu_adata.var[[i for i in new_adata.var.keys() if 'sigma' in i]])"
   ]
  },
  {
   "cell_type": "markdown",
   "metadata": {
    "id": "gzCkJYD0Jyiy"
   },
   "source": [
    "Plot parameter distributions."
   ]
  },
  {
   "cell_type": "code",
   "execution_count": 679,
   "metadata": {},
   "outputs": [
    {
     "data": {
      "image/png": "[encoded data removed]",
      "text/plain": [
       "<Figure size 640x480 with 1 Axes>"
      ]
     },
     "metadata": {},
     "output_type": "display_data"
    },
    {
     "data": {
      "image/png": "[encoded data removed]",
      "text/plain": [
       "<Figure size 640x480 with 1 Axes>"
      ]
     },
     "metadata": {},
     "output_type": "display_data"
    },
    {
     "data": {
      "image/png": "[encoded data removed]",
      "text/plain": [
       "<Figure size 640x480 with 1 Axes>"
      ]
     },
     "metadata": {},
     "output_type": "display_data"
    }
   ],
   "source": [
    "param_names = [i for i in gaba_adata.var.keys() if 'param' in i]\n",
    "for name in param_names:\n",
    "    plt.hist(gaba_adata.var[name], bins=20)\n",
    "    plt.title('Parameter ' + name[6:])\n",
    "    plt.xlabel('Parameter Value')\n",
    "    plt.ylabel('Frequency')\n",
    "    # plt.savefig(search_result.inference_string + '/parameter_dist_'+ str(i))#'/parameter_dist_{}'.format(\n",
    "    plt.show()"
   ]
  },
  {
   "cell_type": "markdown",
   "metadata": {
    "id": "vI_ciNys-_8y"
   },
   "source": [
    "# Analysis (to be implemented)"
   ]
  },
  {
   "cell_type": "markdown",
   "metadata": {
    "id": "f_zh41Ob_Bmu"
   },
   "source": [
    "## Reject genes."
   ]
  },
  {
   "cell_type": "code",
   "execution_count": 699,
   "metadata": {},
   "outputs": [
    {
     "name": "stdout",
     "output_type": "stream",
     "text": [
      "INFO:root:Chi-square computation complete. Rejected 0 genes out of 5. Runtime: 0.0 seconds.\n",
      "[3.904e+03 6.270e+02 9.800e+01 1.300e+01 3.000e+00 8.200e+02 1.920e+02\n",
      " 6.000e+01 1.000e+01 2.000e+00 1.000e+00 3.260e+02 1.110e+02 3.100e+01\n",
      " 8.000e+00 3.000e+00 1.550e+02 5.700e+01 2.400e+01 5.000e+00 6.700e+01\n",
      " 2.700e+01 3.000e+00 2.000e+00 1.000e+00 1.000e+00 2.300e+01 1.400e+01\n",
      " 3.000e+00 1.000e+00 1.000e+01 4.000e+00 4.000e+00 1.000e+00 2.000e+00\n",
      " 1.000e+00 1.000e+00 1.000e+00 2.000e+00 1.000e+00 1.000e+00 2.000e+00\n",
      " 1.000e+00 1.000e+00 1.000e+00 1.000e+00 1.000e+00 1.000e+00 1.000e+00\n",
      " 0.000e+00] counts\n",
      "[3904.  627.   98.   13.  823.  192.   60.   10.  329.  111.   31.    8.\n",
      "  158.   57.   24.    5.   67.   27.    5.   25.   14.   14.    8.    5.\n",
      "    9.    5.]\n",
      "[3927.04268236  549.21610982   91.66201966   15.0950047   853.68634327\n",
      "  261.45646389   63.17345593   13.53541175  306.43384593  122.60260766\n",
      "   36.17927684    9.12307264  122.56584748   57.20798252   19.29853454\n",
      "    5.4685671    50.86719998   26.83328267   13.05150671   22.51928659\n",
      "   12.67367507   16.76009276    8.57498183    5.52382246    5.25692476\n",
      "   13.19200106]\n",
      "[4.387e+03 4.660e+02 4.600e+01 6.000e+00 2.000e+00 1.066e+03 1.540e+02\n",
      " 1.900e+01 1.000e+00 2.000e+00 2.780e+02 5.400e+01 8.000e+00 1.000e+00\n",
      " 1.000e+00 8.500e+01 1.800e+01 5.000e+00 1.000e+00 2.000e+01 3.000e+00\n",
      " 2.000e+00 2.000e+00 1.000e+00 1.000e+00 0.000e+00] counts\n",
      "[4387.  466.   46. 1074.  154.   19.  281.   54.    8.   87.   18.   26.\n",
      "    9.]\n",
      "[4394.19791967  448.17978908   44.51373445 1070.23076706  178.61619747\n",
      "   23.16730973  276.99220636   58.64658116    9.01218528   71.35800401\n",
      "   17.6711979    21.41222451   15.00188331]\n",
      "[5.212e+03 2.790e+02 4.800e+01 1.100e+01 5.400e+02 1.000e+02 2.100e+01\n",
      " 2.000e+00 1.000e+00 1.690e+02 4.100e+01 1.000e+01 3.000e+00 1.000e+00\n",
      " 7.300e+01 1.900e+01 4.000e+00 3.000e+00 2.400e+01 1.500e+01 2.000e+00\n",
      " 1.300e+01 4.000e+00 2.000e+00 2.000e+00 6.000e+00 2.000e+00 2.000e+00\n",
      " 1.000e+00 2.000e+00 2.000e+00 2.000e+00 1.000e+00 1.000e+00 1.000e+00\n",
      " 1.000e+00 1.000e+00 1.000e+00 1.000e+00 1.000e+00 1.000e+00 1.000e+00\n",
      " 1.000e+00 1.000e+00 1.000e+00 0.000e+00] counts\n",
      "[5212.  279.   48.   11.  540.  100.   21.  172.   41.   10.   77.   19.\n",
      "    7.   24.   15.   15.    6.    8.    7.   17.]\n",
      "[5.21816579e+03 2.86400254e+02 3.70926144e+01 5.15042105e+00\n",
      " 4.92653076e+02 1.15280650e+02 2.37439626e+01 1.70379574e+02\n",
      " 5.35246966e+01 1.38275687e+01 7.16437601e+01 2.60134351e+01\n",
      " 9.79191797e+00 3.07916184e+01 1.30871865e+01 1.91757430e+01\n",
      " 9.15590200e+00 8.18592620e+00 6.79018622e+00 1.81457144e+01]\n",
      "[6.207e+03 1.830e+02 2.600e+01 2.000e+00 1.000e+00 1.380e+02 3.300e+01\n",
      " 4.000e+00 1.800e+01 5.000e+00 1.000e+00 8.000e+00 1.000e+00 2.000e+00\n",
      " 0.000e+00] counts\n",
      "[6.207e+03 1.830e+02 2.600e+01 1.410e+02 3.300e+01 2.200e+01 5.000e+00\n",
      " 1.200e+01]\n",
      "[6.21077298e+03 1.80567606e+02 2.17394803e+01 1.46743068e+02\n",
      " 3.02344462e+01 2.43379718e+01 5.64049304e+00 8.96395603e+00]\n",
      "[6.439e+03 4.900e+01 5.000e+00 3.000e+00 1.000e+00 9.900e+01 6.000e+00\n",
      " 1.000e+00 1.000e+00 4.000e+00 1.000e+00 4.000e+00 1.000e+00 1.000e+00\n",
      " 1.000e+00 1.000e+00 2.000e+00 1.000e+00 1.000e+00 1.000e+00 1.000e+00\n",
      " 1.000e+00 1.000e+00 1.000e+00 1.000e+00 1.000e+00 1.000e+00 0.000e+00] counts\n",
      "[6.439e+03 4.900e+01 5.000e+00 1.030e+02 6.000e+00 6.000e+00 5.000e+00\n",
      " 7.000e+00 9.000e+00]\n",
      "[6436.60938292   73.32983247   15.15816108   41.615556     15.4002132\n",
      "   12.64383024    7.90768009    6.96834299   19.36700102]\n",
      "INFO:root:Chi-square computation complete. Rejected 0 genes out of 5. Runtime: 0.0 seconds.\n"
     ]
    },
    {
     "data": {
      "text/html": [
       "<div>\n",
       "<style scoped>\n",
       "    .dataframe tbody tr th:only-of-type {\n",
       "        vertical-align: middle;\n",
       "    }\n",
       "\n",
       "    .dataframe tbody tr th {\n",
       "        vertical-align: top;\n",
       "    }\n",
       "\n",
       "    .dataframe thead th {\n",
       "        text-align: right;\n",
       "    }\n",
       "</style>\n",
       "<table border=\"1\" class=\"dataframe\">\n",
       "  <thead>\n",
       "    <tr style=\"text-align: right;\">\n",
       "      <th></th>\n",
       "      <th>rejected_genes</th>\n",
       "      <th>csq</th>\n",
       "      <th>pval</th>\n",
       "    </tr>\n",
       "    <tr>\n",
       "      <th>gene_name</th>\n",
       "      <th></th>\n",
       "      <th></th>\n",
       "      <th></th>\n",
       "    </tr>\n",
       "  </thead>\n",
       "  <tbody>\n",
       "    <tr>\n",
       "      <th>Rspo3</th>\n",
       "      <td>False</td>\n",
       "      <td>66.379311</td>\n",
       "      <td>2.424927e-06</td>\n",
       "    </tr>\n",
       "    <tr>\n",
       "      <th>Vrk1</th>\n",
       "      <td>False</td>\n",
       "      <td>12.284280</td>\n",
       "      <td>1.977533e-01</td>\n",
       "    </tr>\n",
       "    <tr>\n",
       "      <th>Erbin</th>\n",
       "      <td>False</td>\n",
       "      <td>27.893233</td>\n",
       "      <td>3.256057e-02</td>\n",
       "    </tr>\n",
       "    <tr>\n",
       "      <th>Rcan3</th>\n",
       "      <td>False</td>\n",
       "      <td>2.673384</td>\n",
       "      <td>6.138801e-01</td>\n",
       "    </tr>\n",
       "    <tr>\n",
       "      <th>Clic4</th>\n",
       "      <td>False</td>\n",
       "      <td>121.272488</td>\n",
       "      <td>1.687231e-24</td>\n",
       "    </tr>\n",
       "  </tbody>\n",
       "</table>\n",
       "</div>"
      ],
      "text/plain": [
       "           rejected_genes         csq          pval\n",
       "gene_name                                          \n",
       "Rspo3               False   66.379311  2.424927e-06\n",
       "Vrk1                False   12.284280  1.977533e-01\n",
       "Erbin               False   27.893233  3.256057e-02\n",
       "Rcan3               False    2.673384  6.138801e-01\n",
       "Clic4               False  121.272488  1.687231e-24"
      ]
     },
     "metadata": {},
     "output_type": "display_data"
    },
    {
     "data": {
      "text/html": [
       "<div>\n",
       "<style scoped>\n",
       "    .dataframe tbody tr th:only-of-type {\n",
       "        vertical-align: middle;\n",
       "    }\n",
       "\n",
       "    .dataframe tbody tr th {\n",
       "        vertical-align: top;\n",
       "    }\n",
       "\n",
       "    .dataframe thead th {\n",
       "        text-align: right;\n",
       "    }\n",
       "</style>\n",
       "<table border=\"1\" class=\"dataframe\">\n",
       "  <thead>\n",
       "    <tr style=\"text-align: right;\">\n",
       "      <th></th>\n",
       "      <th>rejected_genes</th>\n",
       "      <th>csq</th>\n",
       "      <th>pval</th>\n",
       "    </tr>\n",
       "    <tr>\n",
       "      <th>gene_name</th>\n",
       "      <th></th>\n",
       "      <th></th>\n",
       "      <th></th>\n",
       "    </tr>\n",
       "  </thead>\n",
       "  <tbody>\n",
       "    <tr>\n",
       "      <th>Rspo3</th>\n",
       "      <td>False</td>\n",
       "      <td>12.702138</td>\n",
       "      <td>0.005327</td>\n",
       "    </tr>\n",
       "    <tr>\n",
       "      <th>Vrk1</th>\n",
       "      <td>False</td>\n",
       "      <td>11.001630</td>\n",
       "      <td>0.357391</td>\n",
       "    </tr>\n",
       "    <tr>\n",
       "      <th>Erbin</th>\n",
       "      <td>False</td>\n",
       "      <td>65.415145</td>\n",
       "      <td>0.000657</td>\n",
       "    </tr>\n",
       "    <tr>\n",
       "      <th>Rcan3</th>\n",
       "      <td>False</td>\n",
       "      <td>21.462925</td>\n",
       "      <td>0.006014</td>\n",
       "    </tr>\n",
       "    <tr>\n",
       "      <th>Clic4</th>\n",
       "      <td>False</td>\n",
       "      <td>20.579755</td>\n",
       "      <td>0.008352</td>\n",
       "    </tr>\n",
       "  </tbody>\n",
       "</table>\n",
       "</div>"
      ],
      "text/plain": [
       "           rejected_genes        csq      pval\n",
       "gene_name                                     \n",
       "Rspo3               False  12.702138  0.005327\n",
       "Vrk1                False  11.001630  0.357391\n",
       "Erbin               False  65.415145  0.000657\n",
       "Rcan3               False  21.462925  0.006014\n",
       "Clic4               False  20.579755  0.008352"
      ]
     },
     "metadata": {},
     "output_type": "display_data"
    }
   ],
   "source": [
    "# # Add rejection filter to adata.\n",
    "gaba_adata = inference.reject_genes(gaba_adata, reject_at_bounds=False)#, threshold=-1, use_hellinger=False, reject_at_bounds=False)\n",
    "glu_adata = inference.reject_genes(glu_adata, reject_at_bounds=False)#, threshold=-1, use_hellinger=False, reject_at_bounds=False)\n",
    "\n",
    "# Show rejected genes.\n",
    "display(glu_adata.var[['rejected_genes', 'csq', 'pval']])\n",
    "display(gaba_adata.var[['rejected_genes', 'csq', 'pval']])\n",
    "\n",
    "# # Save chi-square values.\n",
    "chi_squareds_glu,  chi_squareds_gaba = glu_adata.var['csq'], gaba_adata.var['csq']"
   ]
  },
  {
   "cell_type": "code",
   "execution_count": 687,
   "metadata": {},
   "outputs": [
    {
     "name": "stdout",
     "output_type": "stream",
     "text": [
      "Python 3.12.2\n"
     ]
    }
   ],
   "source": [
    "! python --version"
   ]
  },
  {
   "cell_type": "markdown",
   "metadata": {},
   "source": [
    "## Execute differential expression analysis."
   ]
  },
  {
   "cell_type": "code",
   "execution_count": 685,
   "metadata": {},
   "outputs": [
    {
     "name": "stderr",
     "output_type": "stream",
     "text": [
      "/home/cat/.conda/envs/myenv/lib/python3.12/site-packages/numpy/lib/histograms.py:885: RuntimeWarning: invalid value encountered in divide\n",
      "  return n/db/n.sum(), bin_edges\n"
     ]
    },
    {
     "name": "stdout",
     "output_type": "stream",
     "text": [
      "[           length_given  lengths  log_lengths  gene_exp_filter  length  \\\n",
      "gene_name                                                                \n",
      "Vrk1                  1  67199.0     4.827363            False   67199   \n",
      "\n",
      "           selected_genes  MOM_unspliced_mean  MOM_unspliced_var  \\\n",
      "gene_name                                                          \n",
      "Vrk1                 True            0.359029           0.501058   \n",
      "\n",
      "           MOM_spliced_mean  MOM_spliced_var  MOM_cov_unspliced_spliced  \n",
      "gene_name                                                                \n",
      "Vrk1               0.135767         0.158064                   0.022461  , Empty DataFrame\n",
      "Columns: [length_given, lengths, log_lengths, gene_exp_filter, length, selected_genes, MOM_unspliced_mean, MOM_unspliced_var, MOM_spliced_mean, MOM_spliced_var, MOM_cov_unspliced_spliced]\n",
      "Index: [], Empty DataFrame\n",
      "Columns: [length_given, lengths, log_lengths, gene_exp_filter, length, selected_genes, MOM_unspliced_mean, MOM_unspliced_var, MOM_spliced_mean, MOM_spliced_var, MOM_cov_unspliced_spliced]\n",
      "Index: []]\n"
     ]
    },
    {
     "data": {
      "image/png": "[encoded data removed]",
      "text/plain": [
       "<Figure size 1200x400 with 3 Axes>"
      ]
     },
     "metadata": {},
     "output_type": "display_data"
    }
   ],
   "source": [
    "# Compute FCs and p-values between groups in adata.\n",
    "# This function should also store this information as .uns matrices in adata.\n",
    "\n",
    "DE_genes, DE_filter, offs, residuals = analysis.DE_parameters(glu_adata, gaba_adata, viz=True, pval_thr=0.1)\n",
    "\n",
    "# # For two different objects, this is implemented in Monod.\n",
    "# gn: list of lists of str\n",
    "#         list of size n_phys_pars. each entry contains names of genes identified as DE with respect\n",
    "#         to each parameter.\n",
    "#     gf: bool np.ndarray\n",
    "#         an n_phys_pars x n_genes array. if True, the gene has been identified as DE with respect to\n",
    "#         the parameter.\n",
    "#     offs: float np.ndarray\n",
    "#         an n_phys_pars x n_model_pars array. contains (b) or (b,a) for each physical parameter.\n",
    "#         b should typically be fairly small (under 0.5).\n",
    "#     resid: float np.ndarray\n",
    "#         an n_phys_pars x n_genes array. contains residuals for each parameter under the final\n",
    "#         fit statistical model.\n",
    "\n",
    "print(DE_genes)\n",
    "# FCs, p_values = analysis.DE(adata)"
   ]
  },
  {
   "cell_type": "code",
   "execution_count": 553,
   "metadata": {},
   "outputs": [],
   "source": [
    "# # NB changing loom to h5ad.\n",
    "# adata_gaba = anndata.read_loom('monod_examples/sample_data/allen_C01_gaba.loom')\n",
    "# adata_gaba.var_names = adata_gaba.var['gene_name']\n",
    "# adata_gaba.obs_names = adata_gaba.obs['barcode']\n",
    "# adata_gaba.obs = adata_gaba.obs.drop(columns=['barcode'])\n",
    "# adata_gaba.var = adata_gaba.var.drop(columns=['gene_name'])\n",
    "# adata_gaba.write('gaba_example.h5ad')"
   ]
  },
  {
   "cell_type": "markdown",
   "metadata": {},
   "source": [
    "### Show some gene distributions."
   ]
  },
  {
   "cell_type": "code",
   "execution_count": 688,
   "metadata": {},
   "outputs": [
    {
     "name": "stdout",
     "output_type": "stream",
     "text": [
      "[0 1 2]\n",
      "Rspo3\n",
      "Vrk1\n",
      "Erbin\n"
     ]
    },
    {
     "data": {
      "image/png": "[encoded data removed]",
      "text/plain": [
       "<Figure size 640x480 with 3 Axes>"
      ]
     },
     "metadata": {},
     "output_type": "display_data"
    }
   ],
   "source": [
    "fitted_adata = glu_adata\n",
    "\n",
    "search_result, search_data = fitted_adata.uns['search_result'], fitted_adata.uns['search_data']\n",
    "logscale = True\n",
    "\n",
    "sz =(1,3)\n",
    "(nrows, ncols) = sz\n",
    "fig1, ax1 = plt.subplots(nrows=nrows, ncols=ncols)\n",
    "\n",
    "nax = np.prod(sz)\n",
    "\n",
    "genes_to_plot = np.arange(nax)\n",
    "\n",
    "genes_to_plot = np.asarray(genes_to_plot)\n",
    "if genes_to_plot.dtype == bool:\n",
    "    gtp_temp = np.arange(self.n_genes)\n",
    "    genes_to_plot = gtp_temp[genes_to_plot]\n",
    "\n",
    "number_of_genes_to_plot = len(genes_to_plot)\n",
    "if number_of_genes_to_plot > 5:\n",
    "    number_of_genes_to_plot = 5\n",
    "    genes_to_plot = genes_to_plot[: 5]\n",
    "if number_of_genes_to_plot > nax:  # This should no longer break...\n",
    "    number_of_genes_to_plot = nax\n",
    "    genes_to_plot = genes_to_plot[:nax]\n",
    "\n",
    "j_ = 0\n",
    "marg = 'joint'\n",
    "modalities = ['spliced', 'unspliced']\n",
    "\n",
    "print(genes_to_plot)\n",
    "for i_ in genes_to_plot:\n",
    "    lm = np.copy(search_data.M[:, i_])\n",
    "    \n",
    "    # TODO: generalize by adding attribute names as attribute of e.g. CMEModel\n",
    "    # attributes = ['unspliced', 'spliced', 'protein']\n",
    "    \n",
    "    num_modalities = 2\n",
    "    for i in range(num_modalities):\n",
    "        if marg == modalities[i]:\n",
    "            lm[:i] = 1\n",
    "            lm[i+1:]=1\n",
    "            \n",
    "    axloc = np.unravel_index(j_, sz) if (sz[0] > 1 and sz[1] > 1) else j_\n",
    "\n",
    "    samp = search_result.regressor_optimum[i_]\n",
    "    Pa = np.squeeze(search_result.model.eval_model_pss(search_result.phys_optimum[i_], lm, samp))\n",
    "    layers = np.array([i.copy() for i in search_data.layers])\n",
    "    \n",
    "    marg = 'joint'\n",
    "    if marg == \"joint\":\n",
    "        if logscale:\n",
    "            Pa[Pa < 1e-10] = 1e-10\n",
    "            Pa = np.log10(Pa)\n",
    "\n",
    "        if num_modalities==2:\n",
    "            ax1[axloc].imshow(Pa.T, aspect=\"auto\", cmap=\"summer\")\n",
    "        elif num_modalities==3:\n",
    "            ax1[axloc].imshow(Pa.sum(axis=2).T, aspect=\"auto\", cmap=\"summer\")\n",
    "        else:\n",
    "            log.error('Joint distribution plot only implemented for 2 or 3 modalities')\n",
    "            \n",
    "        ax1[axloc].invert_yaxis()\n",
    "\n",
    "        jitter_magn = 0.1\n",
    "        jitter = np.random.randn(2, search_result.n_cells) * jitter_magn\n",
    "        ax1[axloc].scatter(\n",
    "            *layers[:2, :,i_] + jitter, c=\"k\", s=1, alpha=0.1\n",
    "        )\n",
    "\n",
    "        ax1[axloc].set_xlim([-0.5, search_data.M[0, i_] - 1.5])\n",
    "        ax1[axloc].set_ylim([-0.5, search_data.M[1, i_] - 1.5])\n",
    "    else:\n",
    "        plot_hist_and_fit(ax1[axloc], search_data, i_, Pa, marg)\n",
    "        if logscale:\n",
    "            ax1[axloc].set_yscale(\"log\")\n",
    "\n",
    "    print(search_result.gene_names.index[i_])\n",
    "    # if title:\n",
    "    #     titlestr = search_result.gene_names[i_]\n",
    "    #     if hasattr(search_result, \"rejected_genes\") and search_result.rejected_genes[i_]:\n",
    "    #         titlestr += \" (rej.)\"\n",
    "    #     ax1[axloc].set_title(titlestr, fontdict={\"fontsize\": 9})\n",
    "    ax1[axloc].set_xticks([])\n",
    "    ax1[axloc].set_yticks([])\n",
    "    j_ += 1\n",
    "fig1.tight_layout(pad=0.02)\n"
   ]
  },
  {
   "cell_type": "code",
   "execution_count": null,
   "metadata": {},
   "outputs": [],
   "source": []
  }
 ],
 "metadata": {
  "colab": {
   "include_colab_link": true,
   "name": "Monod demo",
   "provenance": []
  },
  "kernelspec": {
   "display_name": "Python 3 (ipykernel)",
   "language": "python",
   "name": "python3"
  },
  "language_info": {
   "codemirror_mode": {
    "name": "ipython",
    "version": 3
   },
   "file_extension": ".py",
   "mimetype": "text/x-python",
   "name": "python",
   "nbconvert_exporter": "python",
   "pygments_lexer": "ipython3",
   "version": "3.12.2"
  }
 },
 "nbformat": 4,
 "nbformat_minor": 4
}
