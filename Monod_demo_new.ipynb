{
 "cells": [
  {
   "cell_type": "markdown",
   "metadata": {
    "colab_type": "text",
    "id": "view-in-github"
   },
   "source": [
    "<a href=\"https://colab.research.google.com/github/pachterlab/monod/blob/anndata/Monod_demo_new.ipynb?short_path=e568791\" target=\"_parent\"><img src=\"https://colab.research.google.com/assets/colab-badge.svg\" alt=\"Open In Colab\"/></a>"
   ]
  },
  {
   "cell_type": "markdown",
   "metadata": {
    "id": "t0jj305u1LB0"
   },
   "source": [
    "# *Monod* on Colab"
   ]
  },
  {
   "cell_type": "markdown",
   "metadata": {
    "id": "clys0amiJQ4V"
   },
   "source": [
    "In the current notebook, we apply *Monod* to identify differentially regulated genes between GABAergic and glutamatergic cell types in a single Allen dataset. "
   ]
  },
  {
   "cell_type": "markdown",
   "metadata": {
    "id": "A_tyjLWZJMT9"
   },
   "source": [
    "# Inference pipeline"
   ]
  },
  {
   "cell_type": "markdown",
   "metadata": {
    "id": "fbqxrHZX1PIB"
   },
   "source": [
    "## Install prerequisites"
   ]
  },
  {
   "cell_type": "code",
   "execution_count": 60,
   "metadata": {
    "colab": {
     "base_uri": "https://localhost:8080/"
    },
    "id": "1AQA8mxjqbvX",
    "outputId": "eff6e961-b5b6-460a-a494-2c1a34679da4"
   },
   "outputs": [],
   "source": [
    "# # %%capture\n",
    "# # !pip install -i https://test.pypi.org/simple/ -U --extra-index-url https://pypi.org/simple   monod  \n",
    "# # !pip install -i https://pypi.org/simple/  monod  \n",
    "# !pip install monod"
   ]
  },
  {
   "cell_type": "markdown",
   "metadata": {
    "id": "q1XTsobSlp--"
   },
   "source": [
    "Let's make sure that the version is correct."
   ]
  },
  {
   "cell_type": "code",
   "execution_count": 61,
   "metadata": {
    "colab": {
     "base_uri": "https://localhost:8080/"
    },
    "id": "Ea8T9j62lo7D",
    "outputId": "7bf50f59-ea00-44cf-ffbc-697dd1d09145"
   },
   "outputs": [],
   "source": [
    "# !pip show monod"
   ]
  },
  {
   "cell_type": "markdown",
   "metadata": {
    "id": "lTXr7lE21S2z"
   },
   "source": [
    "## Import data"
   ]
  },
  {
   "cell_type": "code",
   "execution_count": 62,
   "metadata": {
    "colab": {
     "base_uri": "https://localhost:8080/"
    },
    "id": "_Es6dkf3YNof",
    "outputId": "8c897032-1bb6-41ac-91ee-7888e7d2591d"
   },
   "outputs": [],
   "source": [
    "# ! git clone https://github.com/pachterlab/monod_examples.git"
   ]
  },
  {
   "cell_type": "code",
   "execution_count": 63,
   "metadata": {
    "id": "XLckDGwtYWkf"
   },
   "outputs": [],
   "source": [
    "# !rm -r sample_data"
   ]
  },
  {
   "cell_type": "code",
   "execution_count": 64,
   "metadata": {
    "id": "iLdPbyL3YST0"
   },
   "outputs": [],
   "source": [
    "# !mv monod_examples/* ."
   ]
  },
  {
   "cell_type": "code",
   "execution_count": 65,
   "metadata": {
    "id": "vDBCR9yRX3Vw"
   },
   "outputs": [],
   "source": [
    "# !rm -r monod_examples"
   ]
  },
  {
   "cell_type": "code",
   "execution_count": 66,
   "metadata": {
    "id": "ctgV1Bw_zFBl"
   },
   "outputs": [],
   "source": [
    "# !mv sample_data/* ."
   ]
  },
  {
   "cell_type": "code",
   "execution_count": 67,
   "metadata": {
    "id": "fJZon2F8X89h"
   },
   "outputs": [],
   "source": [
    "# !rmdir sample_data"
   ]
  },
  {
   "cell_type": "code",
   "execution_count": 68,
   "metadata": {
    "colab": {
     "base_uri": "https://localhost:8080/"
    },
    "id": "UeCQkeQdJNmE",
    "outputId": "db485cf3-eec2-46b6-b6d9-2736f881df53"
   },
   "outputs": [],
   "source": [
    "# !cat allen_C01_gaba.tar.gz.* | tar xzvf -"
   ]
  },
  {
   "cell_type": "code",
   "execution_count": 69,
   "metadata": {
    "id": "RQZKgCjmYAuF"
   },
   "outputs": [],
   "source": [
    "# !mv home/ggorin/projects/monod_examples/sample_data/allen_C01_gaba.loom ."
   ]
  },
  {
   "cell_type": "code",
   "execution_count": 70,
   "metadata": {
    "colab": {
     "base_uri": "https://localhost:8080/"
    },
    "id": "hLXTb03AXoNl",
    "outputId": "16cf48dd-e0b8-4410-f799-4d3a115d1a51"
   },
   "outputs": [],
   "source": [
    "# !cat allen_C01_glu.tar.gz.* | tar xzvf -"
   ]
  },
  {
   "cell_type": "code",
   "execution_count": 71,
   "metadata": {
    "id": "u2WkM_hDYN4-"
   },
   "outputs": [],
   "source": [
    "# !mv home/ggorin/projects/monod_examples/sample_data/allen_C01_glu.loom ."
   ]
  },
  {
   "cell_type": "code",
   "execution_count": 72,
   "metadata": {
    "id": "vDI0QGHHJ6so"
   },
   "outputs": [],
   "source": [
    "# !rm -r  ./home"
   ]
  },
  {
   "cell_type": "code",
   "execution_count": 73,
   "metadata": {
    "id": "efkK6_EQDcB3"
   },
   "outputs": [],
   "source": [
    "# !rm *.tar.*"
   ]
  },
  {
   "cell_type": "markdown",
   "metadata": {
    "id": "hfprorcN13LY"
   },
   "source": [
    "## Import package components"
   ]
  },
  {
   "cell_type": "code",
   "execution_count": 74,
   "metadata": {
    "id": "L8Ax0d2vrdwY"
   },
   "outputs": [],
   "source": [
    "# import monod\n",
    "# from monod import preprocess, extract_data, cme_toolbox, inference, analysis\n",
    "\n",
    "import matplotlib.pyplot as plt\n",
    "import numpy as np"
   ]
  },
  {
   "cell_type": "code",
   "execution_count": 75,
   "metadata": {},
   "outputs": [],
   "source": [
    "import logging, sys\n",
    "logging.basicConfig(stream=sys.stdout)\n",
    "log = logging.getLogger()\n",
    "log.setLevel(logging.INFO)\n",
    "import warnings\n",
    "warnings.filterwarnings(\"ignore\") #warning suppression within script is not respected by colab\n",
    "warnings.simplefilter('ignore')"
   ]
  },
  {
   "cell_type": "code",
   "execution_count": 76,
   "metadata": {},
   "outputs": [
    {
     "data": {
      "text/plain": [
       "<module 'analysis' from '/home/cat/monod/src/monod/analysis.py'>"
      ]
     },
     "execution_count": 76,
     "metadata": {},
     "output_type": "execute_result"
    }
   ],
   "source": [
    "# execfile(\"src/monod/preprocess.py\")\n",
    "import sys\n",
    "\n",
    "sys.path.insert(0, '/home/cat/monod/src/monod')\n",
    "\n",
    "import extract_data, cme_toolbox, inference, analysis\n",
    "import importlib\n",
    "\n",
    "importlib.reload(extract_data)\n",
    "importlib.reload(inference)\n",
    "importlib.reload(cme_toolbox)\n",
    "importlib.reload(analysis)"
   ]
  },
  {
   "cell_type": "markdown",
   "metadata": {},
   "source": [
    "## Set up model and perform inference."
   ]
  },
  {
   "cell_type": "code",
   "execution_count": 77,
   "metadata": {},
   "outputs": [
    {
     "name": "stdout",
     "output_type": "stream",
     "text": [
      "The expected modalities for this model are: ['unspliced', 'spliced']\n",
      "If your anndata layers have different names, please give a modality dictionary of the form: modality_name_dict  = {'spliced':your_spliced_layer_name, 'unspliced':your_unspliced_layer_name} \n",
      "INFO:root:Directory gaba_example already exists.\n",
      "INFO:root:Beginning data extraction.\n",
      "INFO:root:Dataset: gaba_example\n",
      "INFO:root:Duplicate variable names found. Making them unique...\n",
      "is sparse\n",
      "INFO:root:Added lengths\n",
      "INFO:root:728 cells detected.\n",
      "3578 genes retained after expression filter.\n",
      "INFO:root:0 random genes selected.\n",
      "INFO:root:Total of 5 genes selected.\n",
      "['unspliced', 'spliced'] previous ordering\n",
      "['unspliced', 'spliced'] ordered for histogram\n",
      "INFO:root:Data extracted\n",
      "LayersView with keys: unspliced, spliced\n",
      "['unspliced', 'spliced']\n",
      "INFO:root:Search data created.\n",
      "INFO:root:Directory gaba_example/Bursty_Poisson_1x1 already exists.\n",
      "INFO:root:Global inference parameters stored to gaba_example/Bursty_Poisson_1x1/parameters.pr.\n",
      "INFO:root:Global inference parameters set.\n",
      "INFO:root:Starting non-parallelized grid scan.\n",
      "INFO:root:Non-parallelized grid scan complete.\n",
      "INFO:root:All grid point data cleaned from disk.\n",
      "INFO:root:Directory gaba_example/Bursty_Poisson_1x1/analysis_figures already exists.\n",
      "INFO:root:Grid scan results stored to gaba_example/Bursty_Poisson_1x1/grid_scan_results.res.\n",
      "INFO:root:Runtime: 1.4 seconds.\n",
      "INFO:root:Grid points fit.\n",
      "INFO:root:Optimal parameters found.\n",
      "INFO:root:Optimal parameters saved.\n",
      "Layers with keys: unspliced, spliced\n",
      "['unspliced', 'spliced']\n",
      "INFO:root:AIC values calculated.\n",
      "INFO:root:Computing local Hessian.\n",
      "INFO:root:Starting non-parallelized Hessian computation.\n"
     ]
    },
    {
     "name": "stderr",
     "output_type": "stream",
     "text": [
      "/home/cat/monod/src/monod/inference.py:114: ImplicitModificationWarning: Trying to modify attribute `.var` of view, initializing view as actual.\n",
      "  monod_adata.var['param_' + param_name] = param_values\n"
     ]
    },
    {
     "name": "stdout",
     "output_type": "stream",
     "text": [
      "INFO:root:Non-parallelized Hessian computation complete.\n",
      "INFO:root:Standard error of the MLE computation complete. Runtime: 1.6 seconds.\n",
      "INFO:root:Uncertainties per gene calculated.\n"
     ]
    }
   ],
   "source": [
    "# Define model.\n",
    "fitmodel = cme_toolbox.CMEModel('Bursty','Poisson')\n",
    "transcriptome_filepath = './monod_examples/polyA_ref/gg_200524_mouse_genome_polyA_cum_1'\n",
    "\n",
    "demo_genes = ['Eif5b','Xrcc5',\t'Klhl12','Rgs7','Thsd7b']\n",
    "all_DE = ['Rcan3', 'Rspo3', 'Vrk1', 'Tcerg1l', 'Clic4', 'Hcrtr2', '1110004F10Rik', 'Erbin', 'Lrp12', 'Gatm', 'Rims3']\n",
    "\n",
    "# Perform inference. (don't need to give these bounds, here for debugging but can use defaults.)\n",
    "lb = [-1.0, -1.8, -1.8 ]\n",
    "ub = [4.2, 2.5, 3.5]\n",
    "# samp_lb, samp_ub = [-8, -3],[-5, 0]\n",
    "# grid = [6,7]\n",
    "\n",
    "## Fix sampling parameters to the ones given in the other Monod example.\n",
    "samp_lb, samp_ub = [-6.8, -1.5],[-6.9, -1.6]\n",
    "grid = [1,1]\n",
    "\n",
    "# TODO: make 'nascent', 'mature' automatically recognized.\n",
    "\n",
    "gaba_adata = inference.perform_inference('./gaba_example.h5ad', fitmodel, n_genes=5, seed=4, genes_to_fit=demo_genes,\n",
    "            phys_lb=lb, phys_ub=ub, gridsize=grid, samp_lb=samp_lb, samp_ub=samp_ub, \n",
    "            gradient_params = {'max_iterations':5,'init_pattern':'moments','num_restarts':1}, \n",
    "                                         transcriptome_filepath=transcriptome_filepath) "
   ]
  },
  {
   "cell_type": "code",
   "execution_count": 78,
   "metadata": {},
   "outputs": [
    {
     "name": "stdout",
     "output_type": "stream",
     "text": [
      "INFO:root:Directory glu_example already exists.\n",
      "INFO:root:Beginning data extraction.\n",
      "INFO:root:Dataset: glu_example\n",
      "INFO:root:Duplicate variable names found. Making them unique...\n",
      "is sparse\n",
      "INFO:root:Added lengths\n"
     ]
    },
    {
     "name": "stderr",
     "output_type": "stream",
     "text": [
      "/home/cat/.conda/envs/myenv/lib/python3.12/site-packages/pandas/core/algorithms.py:522: DeprecationWarning: np.find_common_type is deprecated.  Please use `np.result_type` or `np.promote_types`.\n",
      "See https://numpy.org/devdocs/release/1.25.0-notes.html and the docs for more information.  (Deprecated NumPy 1.25)\n",
      "  common = np.find_common_type([values.dtype, comps_array.dtype], [])\n",
      "/home/cat/.conda/envs/myenv/lib/python3.12/site-packages/pandas/core/arraylike.py:402: RuntimeWarning: divide by zero encountered in log10\n",
      "  result = getattr(ufunc, method)(*inputs, **kwargs)\n"
     ]
    },
    {
     "name": "stdout",
     "output_type": "stream",
     "text": [
      "INFO:root:6629 cells detected.\n",
      "5520 genes retained after expression filter.\n",
      "INFO:root:0 random genes selected.\n",
      "INFO:root:Total of 5 genes selected.\n",
      "['unspliced', 'spliced'] previous ordering\n",
      "['unspliced', 'spliced'] ordered for histogram\n",
      "INFO:root:Data extracted\n",
      "LayersView with keys: unspliced, spliced\n",
      "['unspliced', 'spliced']\n",
      "INFO:root:Search data created.\n",
      "INFO:root:Directory glu_example/Bursty_Poisson_1x1 already exists.\n",
      "INFO:root:Global inference parameters stored to glu_example/Bursty_Poisson_1x1/parameters.pr.\n",
      "INFO:root:Global inference parameters set.\n",
      "INFO:root:Starting non-parallelized grid scan.\n",
      "INFO:root:Non-parallelized grid scan complete.\n",
      "INFO:root:All grid point data cleaned from disk.\n",
      "INFO:root:Directory glu_example/Bursty_Poisson_1x1/analysis_figures already exists.\n",
      "INFO:root:Grid scan results stored to glu_example/Bursty_Poisson_1x1/grid_scan_results.res.\n",
      "INFO:root:Runtime: 12.6 seconds.\n",
      "INFO:root:Grid points fit.\n",
      "INFO:root:Optimal parameters found.\n",
      "INFO:root:Optimal parameters saved.\n",
      "Layers with keys: unspliced, spliced\n",
      "['unspliced', 'spliced']\n",
      "INFO:root:AIC values calculated.\n",
      "INFO:root:Computing local Hessian.\n",
      "INFO:root:Starting non-parallelized Hessian computation.\n"
     ]
    },
    {
     "name": "stderr",
     "output_type": "stream",
     "text": [
      "/home/cat/monod/src/monod/inference.py:114: ImplicitModificationWarning: Trying to modify attribute `.var` of view, initializing view as actual.\n",
      "  monod_adata.var['param_' + param_name] = param_values\n"
     ]
    },
    {
     "name": "stdout",
     "output_type": "stream",
     "text": [
      "INFO:root:Non-parallelized Hessian computation complete.\n",
      "INFO:root:Standard error of the MLE computation complete. Runtime: 1.7 seconds.\n",
      "INFO:root:Uncertainties per gene calculated.\n"
     ]
    }
   ],
   "source": [
    "# Fix the genes to be the same as for the gaba data.\n",
    "genes_to_fit = [i for i in gaba_adata.var_names]\n",
    "n_genes = len(genes_to_fit)\n",
    "\n",
    "glu_adata = inference.perform_inference('./glu_example.h5ad', fitmodel, n_genes=n_genes, seed=4, genes_to_fit=genes_to_fit,\n",
    "                                       phys_lb=lb, phys_ub=ub, gridsize=grid, samp_lb=samp_lb, samp_ub=samp_ub, \n",
    "                                        gradient_params = {'max_iterations':5,'init_pattern':'moments','num_restarts':1},\n",
    "                                       transcriptome_filepath=transcriptome_filepath) #['Eif5b', 'Thsd7b', 'Fbxw2', 'Otud7a', 'Asah1'])glu_adata = inference.perform_inference('./glu_example.h5ad', fitmodel, n_genes=5, seed=4, genes_to_fit=DE_genes,"
   ]
  },
  {
   "cell_type": "code",
   "execution_count": 79,
   "metadata": {},
   "outputs": [],
   "source": [
    "# # NB currently can't save whole object to file since some .uns attributes cannot be pickled.\n",
    "# gaba_adata.write('gaba_fit.h5ad')\n",
    "# gaba_adata.write('glu_fit.h5ad')"
   ]
  },
  {
   "cell_type": "markdown",
   "metadata": {},
   "source": [
    "## Access gene info."
   ]
  },
  {
   "cell_type": "code",
   "execution_count": 80,
   "metadata": {},
   "outputs": [
    {
     "data": {
      "text/html": [
       "<div>\n",
       "<style scoped>\n",
       "    .dataframe tbody tr th:only-of-type {\n",
       "        vertical-align: middle;\n",
       "    }\n",
       "\n",
       "    .dataframe tbody tr th {\n",
       "        vertical-align: top;\n",
       "    }\n",
       "\n",
       "    .dataframe thead th {\n",
       "        text-align: right;\n",
       "    }\n",
       "</style>\n",
       "<table border=\"1\" class=\"dataframe\">\n",
       "  <thead>\n",
       "    <tr style=\"text-align: right;\">\n",
       "      <th></th>\n",
       "      <th>AIC</th>\n",
       "    </tr>\n",
       "    <tr>\n",
       "      <th>gene_name</th>\n",
       "      <th></th>\n",
       "    </tr>\n",
       "  </thead>\n",
       "  <tbody>\n",
       "    <tr>\n",
       "      <th>Eif5b</th>\n",
       "      <td>5079.439525</td>\n",
       "    </tr>\n",
       "    <tr>\n",
       "      <th>Xrcc5</th>\n",
       "      <td>2907.092394</td>\n",
       "    </tr>\n",
       "    <tr>\n",
       "      <th>Klhl12</th>\n",
       "      <td>2829.663076</td>\n",
       "    </tr>\n",
       "    <tr>\n",
       "      <th>Rgs7</th>\n",
       "      <td>8329.315405</td>\n",
       "    </tr>\n",
       "    <tr>\n",
       "      <th>Thsd7b</th>\n",
       "      <td>4400.604198</td>\n",
       "    </tr>\n",
       "  </tbody>\n",
       "</table>\n",
       "</div>"
      ],
      "text/plain": [
       "                   AIC\n",
       "gene_name             \n",
       "Eif5b      5079.439525\n",
       "Xrcc5      2907.092394\n",
       "Klhl12     2829.663076\n",
       "Rgs7       8329.315405\n",
       "Thsd7b     4400.604198"
      ]
     },
     "metadata": {},
     "output_type": "display_data"
    },
    {
     "data": {
      "text/html": [
       "<div>\n",
       "<style scoped>\n",
       "    .dataframe tbody tr th:only-of-type {\n",
       "        vertical-align: middle;\n",
       "    }\n",
       "\n",
       "    .dataframe tbody tr th {\n",
       "        vertical-align: top;\n",
       "    }\n",
       "\n",
       "    .dataframe thead th {\n",
       "        text-align: right;\n",
       "    }\n",
       "</style>\n",
       "<table border=\"1\" class=\"dataframe\">\n",
       "  <thead>\n",
       "    <tr style=\"text-align: right;\">\n",
       "      <th></th>\n",
       "      <th>param_$\\log_{10} b$</th>\n",
       "      <th>param_$\\log_{10} \\beta$</th>\n",
       "      <th>param_$\\log_{10} \\gamma$</th>\n",
       "    </tr>\n",
       "    <tr>\n",
       "      <th>gene_name</th>\n",
       "      <th></th>\n",
       "      <th></th>\n",
       "      <th></th>\n",
       "    </tr>\n",
       "  </thead>\n",
       "  <tbody>\n",
       "    <tr>\n",
       "      <th>Eif5b</th>\n",
       "      <td>1.758837</td>\n",
       "      <td>-0.183987</td>\n",
       "      <td>-0.255742</td>\n",
       "    </tr>\n",
       "    <tr>\n",
       "      <th>Xrcc5</th>\n",
       "      <td>1.987031</td>\n",
       "      <td>0.216090</td>\n",
       "      <td>0.930197</td>\n",
       "    </tr>\n",
       "    <tr>\n",
       "      <th>Klhl12</th>\n",
       "      <td>1.795866</td>\n",
       "      <td>-0.221411</td>\n",
       "      <td>0.657174</td>\n",
       "    </tr>\n",
       "    <tr>\n",
       "      <th>Rgs7</th>\n",
       "      <td>2.313191</td>\n",
       "      <td>-0.161997</td>\n",
       "      <td>0.526453</td>\n",
       "    </tr>\n",
       "    <tr>\n",
       "      <th>Thsd7b</th>\n",
       "      <td>1.917652</td>\n",
       "      <td>0.345960</td>\n",
       "      <td>1.208386</td>\n",
       "    </tr>\n",
       "  </tbody>\n",
       "</table>\n",
       "</div>"
      ],
      "text/plain": [
       "           param_$\\log_{10} b$  param_$\\log_{10} \\beta$  \\\n",
       "gene_name                                                 \n",
       "Eif5b                 1.758837                -0.183987   \n",
       "Xrcc5                 1.987031                 0.216090   \n",
       "Klhl12                1.795866                -0.221411   \n",
       "Rgs7                  2.313191                -0.161997   \n",
       "Thsd7b                1.917652                 0.345960   \n",
       "\n",
       "           param_$\\log_{10} \\gamma$  \n",
       "gene_name                            \n",
       "Eif5b                     -0.255742  \n",
       "Xrcc5                      0.930197  \n",
       "Klhl12                     0.657174  \n",
       "Rgs7                       0.526453  \n",
       "Thsd7b                     1.208386  "
      ]
     },
     "metadata": {},
     "output_type": "display_data"
    },
    {
     "data": {
      "text/html": [
       "<div>\n",
       "<style scoped>\n",
       "    .dataframe tbody tr th:only-of-type {\n",
       "        vertical-align: middle;\n",
       "    }\n",
       "\n",
       "    .dataframe tbody tr th {\n",
       "        vertical-align: top;\n",
       "    }\n",
       "\n",
       "    .dataframe thead th {\n",
       "        text-align: right;\n",
       "    }\n",
       "</style>\n",
       "<table border=\"1\" class=\"dataframe\">\n",
       "  <thead>\n",
       "    <tr style=\"text-align: right;\">\n",
       "      <th></th>\n",
       "      <th>sigma_$\\log_{10} b$</th>\n",
       "      <th>sigma_$\\log_{10} \\beta$</th>\n",
       "      <th>sigma_$\\log_{10} \\gamma$</th>\n",
       "    </tr>\n",
       "    <tr>\n",
       "      <th>gene_name</th>\n",
       "      <th></th>\n",
       "      <th></th>\n",
       "      <th></th>\n",
       "    </tr>\n",
       "  </thead>\n",
       "  <tbody>\n",
       "    <tr>\n",
       "      <th>Eif5b</th>\n",
       "      <td>1.758837</td>\n",
       "      <td>-0.183987</td>\n",
       "      <td>-0.255742</td>\n",
       "    </tr>\n",
       "    <tr>\n",
       "      <th>Xrcc5</th>\n",
       "      <td>1.987031</td>\n",
       "      <td>0.216090</td>\n",
       "      <td>0.930197</td>\n",
       "    </tr>\n",
       "    <tr>\n",
       "      <th>Klhl12</th>\n",
       "      <td>1.795866</td>\n",
       "      <td>-0.221411</td>\n",
       "      <td>0.657174</td>\n",
       "    </tr>\n",
       "    <tr>\n",
       "      <th>Rgs7</th>\n",
       "      <td>2.313191</td>\n",
       "      <td>-0.161997</td>\n",
       "      <td>0.526453</td>\n",
       "    </tr>\n",
       "    <tr>\n",
       "      <th>Thsd7b</th>\n",
       "      <td>1.917652</td>\n",
       "      <td>0.345960</td>\n",
       "      <td>1.208386</td>\n",
       "    </tr>\n",
       "  </tbody>\n",
       "</table>\n",
       "</div>"
      ],
      "text/plain": [
       "           sigma_$\\log_{10} b$  sigma_$\\log_{10} \\beta$  \\\n",
       "gene_name                                                 \n",
       "Eif5b                 1.758837                -0.183987   \n",
       "Xrcc5                 1.987031                 0.216090   \n",
       "Klhl12                1.795866                -0.221411   \n",
       "Rgs7                  2.313191                -0.161997   \n",
       "Thsd7b                1.917652                 0.345960   \n",
       "\n",
       "           sigma_$\\log_{10} \\gamma$  \n",
       "gene_name                            \n",
       "Eif5b                     -0.255742  \n",
       "Xrcc5                      0.930197  \n",
       "Klhl12                     0.657174  \n",
       "Rgs7                       0.526453  \n",
       "Thsd7b                     1.208386  "
      ]
     },
     "metadata": {},
     "output_type": "display_data"
    }
   ],
   "source": [
    "# AIC.\n",
    "display(gaba_adata.var[['AIC']])\n",
    "\n",
    "# Optimum biological parameters.\n",
    "display(gaba_adata.var[[i for i in gaba_adata.var.keys() if 'param' in i]])\n",
    "\n",
    "# Uncertainties from Hessian.\n",
    "display(gaba_adata.var[[i for i in gaba_adata.var.keys() if 'sigma' in i]])"
   ]
  },
  {
   "cell_type": "code",
   "execution_count": 81,
   "metadata": {},
   "outputs": [
    {
     "data": {
      "text/html": [
       "<div>\n",
       "<style scoped>\n",
       "    .dataframe tbody tr th:only-of-type {\n",
       "        vertical-align: middle;\n",
       "    }\n",
       "\n",
       "    .dataframe tbody tr th {\n",
       "        vertical-align: top;\n",
       "    }\n",
       "\n",
       "    .dataframe thead th {\n",
       "        text-align: right;\n",
       "    }\n",
       "</style>\n",
       "<table border=\"1\" class=\"dataframe\">\n",
       "  <thead>\n",
       "    <tr style=\"text-align: right;\">\n",
       "      <th></th>\n",
       "      <th>AIC</th>\n",
       "    </tr>\n",
       "    <tr>\n",
       "      <th>gene_name</th>\n",
       "      <th></th>\n",
       "    </tr>\n",
       "  </thead>\n",
       "  <tbody>\n",
       "    <tr>\n",
       "      <th>Eif5b</th>\n",
       "      <td>50327.075499</td>\n",
       "    </tr>\n",
       "    <tr>\n",
       "      <th>Xrcc5</th>\n",
       "      <td>21138.453013</td>\n",
       "    </tr>\n",
       "    <tr>\n",
       "      <th>Klhl12</th>\n",
       "      <td>26332.849112</td>\n",
       "    </tr>\n",
       "    <tr>\n",
       "      <th>Rgs7</th>\n",
       "      <td>81254.358453</td>\n",
       "    </tr>\n",
       "    <tr>\n",
       "      <th>Thsd7b</th>\n",
       "      <td>33821.245714</td>\n",
       "    </tr>\n",
       "  </tbody>\n",
       "</table>\n",
       "</div>"
      ],
      "text/plain": [
       "                    AIC\n",
       "gene_name              \n",
       "Eif5b      50327.075499\n",
       "Xrcc5      21138.453013\n",
       "Klhl12     26332.849112\n",
       "Rgs7       81254.358453\n",
       "Thsd7b     33821.245714"
      ]
     },
     "metadata": {},
     "output_type": "display_data"
    },
    {
     "data": {
      "text/html": [
       "<div>\n",
       "<style scoped>\n",
       "    .dataframe tbody tr th:only-of-type {\n",
       "        vertical-align: middle;\n",
       "    }\n",
       "\n",
       "    .dataframe tbody tr th {\n",
       "        vertical-align: top;\n",
       "    }\n",
       "\n",
       "    .dataframe thead th {\n",
       "        text-align: right;\n",
       "    }\n",
       "</style>\n",
       "<table border=\"1\" class=\"dataframe\">\n",
       "  <thead>\n",
       "    <tr style=\"text-align: right;\">\n",
       "      <th></th>\n",
       "      <th>param_$\\log_{10} b$</th>\n",
       "      <th>param_$\\log_{10} \\beta$</th>\n",
       "      <th>param_$\\log_{10} \\gamma$</th>\n",
       "    </tr>\n",
       "    <tr>\n",
       "      <th>gene_name</th>\n",
       "      <th></th>\n",
       "      <th></th>\n",
       "      <th></th>\n",
       "    </tr>\n",
       "  </thead>\n",
       "  <tbody>\n",
       "    <tr>\n",
       "      <th>Eif5b</th>\n",
       "      <td>1.730189</td>\n",
       "      <td>-0.242407</td>\n",
       "      <td>-0.478450</td>\n",
       "    </tr>\n",
       "    <tr>\n",
       "      <th>Xrcc5</th>\n",
       "      <td>1.497127</td>\n",
       "      <td>-0.032500</td>\n",
       "      <td>0.551582</td>\n",
       "    </tr>\n",
       "    <tr>\n",
       "      <th>Klhl12</th>\n",
       "      <td>1.583067</td>\n",
       "      <td>-0.386410</td>\n",
       "      <td>0.345884</td>\n",
       "    </tr>\n",
       "    <tr>\n",
       "      <th>Rgs7</th>\n",
       "      <td>2.176267</td>\n",
       "      <td>-0.369628</td>\n",
       "      <td>0.179967</td>\n",
       "    </tr>\n",
       "    <tr>\n",
       "      <th>Thsd7b</th>\n",
       "      <td>1.780409</td>\n",
       "      <td>0.412709</td>\n",
       "      <td>1.124741</td>\n",
       "    </tr>\n",
       "  </tbody>\n",
       "</table>\n",
       "</div>"
      ],
      "text/plain": [
       "           param_$\\log_{10} b$  param_$\\log_{10} \\beta$  \\\n",
       "gene_name                                                 \n",
       "Eif5b                 1.730189                -0.242407   \n",
       "Xrcc5                 1.497127                -0.032500   \n",
       "Klhl12                1.583067                -0.386410   \n",
       "Rgs7                  2.176267                -0.369628   \n",
       "Thsd7b                1.780409                 0.412709   \n",
       "\n",
       "           param_$\\log_{10} \\gamma$  \n",
       "gene_name                            \n",
       "Eif5b                     -0.478450  \n",
       "Xrcc5                      0.551582  \n",
       "Klhl12                     0.345884  \n",
       "Rgs7                       0.179967  \n",
       "Thsd7b                     1.124741  "
      ]
     },
     "metadata": {},
     "output_type": "display_data"
    },
    {
     "data": {
      "text/html": [
       "<div>\n",
       "<style scoped>\n",
       "    .dataframe tbody tr th:only-of-type {\n",
       "        vertical-align: middle;\n",
       "    }\n",
       "\n",
       "    .dataframe tbody tr th {\n",
       "        vertical-align: top;\n",
       "    }\n",
       "\n",
       "    .dataframe thead th {\n",
       "        text-align: right;\n",
       "    }\n",
       "</style>\n",
       "<table border=\"1\" class=\"dataframe\">\n",
       "  <thead>\n",
       "    <tr style=\"text-align: right;\">\n",
       "      <th></th>\n",
       "      <th>sigma_$\\log_{10} b$</th>\n",
       "      <th>sigma_$\\log_{10} \\beta$</th>\n",
       "      <th>sigma_$\\log_{10} \\gamma$</th>\n",
       "    </tr>\n",
       "    <tr>\n",
       "      <th>gene_name</th>\n",
       "      <th></th>\n",
       "      <th></th>\n",
       "      <th></th>\n",
       "    </tr>\n",
       "  </thead>\n",
       "  <tbody>\n",
       "    <tr>\n",
       "      <th>Eif5b</th>\n",
       "      <td>1.730189</td>\n",
       "      <td>-0.242407</td>\n",
       "      <td>-0.478450</td>\n",
       "    </tr>\n",
       "    <tr>\n",
       "      <th>Xrcc5</th>\n",
       "      <td>1.497127</td>\n",
       "      <td>-0.032500</td>\n",
       "      <td>0.551582</td>\n",
       "    </tr>\n",
       "    <tr>\n",
       "      <th>Klhl12</th>\n",
       "      <td>1.583067</td>\n",
       "      <td>-0.386410</td>\n",
       "      <td>0.345884</td>\n",
       "    </tr>\n",
       "    <tr>\n",
       "      <th>Rgs7</th>\n",
       "      <td>2.176267</td>\n",
       "      <td>-0.369628</td>\n",
       "      <td>0.179967</td>\n",
       "    </tr>\n",
       "    <tr>\n",
       "      <th>Thsd7b</th>\n",
       "      <td>1.780409</td>\n",
       "      <td>0.412709</td>\n",
       "      <td>1.124741</td>\n",
       "    </tr>\n",
       "  </tbody>\n",
       "</table>\n",
       "</div>"
      ],
      "text/plain": [
       "           sigma_$\\log_{10} b$  sigma_$\\log_{10} \\beta$  \\\n",
       "gene_name                                                 \n",
       "Eif5b                 1.730189                -0.242407   \n",
       "Xrcc5                 1.497127                -0.032500   \n",
       "Klhl12                1.583067                -0.386410   \n",
       "Rgs7                  2.176267                -0.369628   \n",
       "Thsd7b                1.780409                 0.412709   \n",
       "\n",
       "           sigma_$\\log_{10} \\gamma$  \n",
       "gene_name                            \n",
       "Eif5b                     -0.478450  \n",
       "Xrcc5                      0.551582  \n",
       "Klhl12                     0.345884  \n",
       "Rgs7                       0.179967  \n",
       "Thsd7b                     1.124741  "
      ]
     },
     "metadata": {},
     "output_type": "display_data"
    }
   ],
   "source": [
    "# AIC.\n",
    "display(glu_adata.var[['AIC']])\n",
    "\n",
    "# Optimum biological parameters.\n",
    "display(glu_adata.var[[i for i in glu_adata.var.keys() if 'param' in i]])\n",
    "\n",
    "# Uncertainties from Hessian.\n",
    "display(glu_adata.var[[i for i in glu_adata.var.keys() if 'sigma' in i]])"
   ]
  },
  {
   "cell_type": "markdown",
   "metadata": {
    "id": "gzCkJYD0Jyiy"
   },
   "source": [
    "## Plot parameter distributions."
   ]
  },
  {
   "cell_type": "code",
   "execution_count": 82,
   "metadata": {},
   "outputs": [
    {
     "data": {
      "image/png": "[encoded data removed]",
      "text/plain": [
       "<Figure size 640x480 with 1 Axes>"
      ]
     },
     "metadata": {},
     "output_type": "display_data"
    },
    {
     "data": {
      "image/png": "[encoded data removed]",
      "text/plain": [
       "<Figure size 640x480 with 1 Axes>"
      ]
     },
     "metadata": {},
     "output_type": "display_data"
    },
    {
     "data": {
      "image/png": "[encoded data removed]",
      "text/plain": [
       "<Figure size 640x480 with 1 Axes>"
      ]
     },
     "metadata": {},
     "output_type": "display_data"
    }
   ],
   "source": [
    "param_names = [i for i in glu_adata.var.keys() if 'param' in i]\n",
    "for name in param_names:\n",
    "    plt.hist(glu_adata.var[name], bins=20)\n",
    "    plt.title('Parameter ' + name[6:])\n",
    "    plt.xlabel('Parameter Value')\n",
    "    plt.ylabel('Frequency')\n",
    "    # plt.savefig(search_result.inference_string + '/parameter_dist_'+ str(i))#'/parameter_dist_{}'.format(\n",
    "    plt.show()"
   ]
  },
  {
   "cell_type": "code",
   "execution_count": 83,
   "metadata": {},
   "outputs": [
    {
     "data": {
      "image/png": "[encoded data removed]",
      "text/plain": [
       "<Figure size 640x480 with 1 Axes>"
      ]
     },
     "metadata": {},
     "output_type": "display_data"
    },
    {
     "data": {
      "image/png": "[encoded data removed]",
      "text/plain": [
       "<Figure size 640x480 with 1 Axes>"
      ]
     },
     "metadata": {},
     "output_type": "display_data"
    },
    {
     "data": {
      "image/png": "[encoded data removed]",
      "text/plain": [
       "<Figure size 640x480 with 1 Axes>"
      ]
     },
     "metadata": {},
     "output_type": "display_data"
    }
   ],
   "source": [
    "param_names = [i for i in gaba_adata.var.keys() if 'param' in i]\n",
    "for name in param_names:\n",
    "    plt.hist(gaba_adata.var[name], bins=20)\n",
    "    plt.title('Parameter ' + name[6:])\n",
    "    plt.xlabel('Parameter Value')\n",
    "    plt.ylabel('Frequency')\n",
    "    # plt.savefig(search_result.inference_string + '/parameter_dist_'+ str(i))#'/parameter_dist_{}'.format(\n",
    "    plt.show()"
   ]
  },
  {
   "cell_type": "markdown",
   "metadata": {},
   "source": [
    "## Plot parameter values against gene length."
   ]
  },
  {
   "cell_type": "code",
   "execution_count": 84,
   "metadata": {},
   "outputs": [
    {
     "name": "stdout",
     "output_type": "stream",
     "text": [
      "INFO:root:No rejection statistics have been computed.\n",
      "INFO:root:Figure stored to gaba_example/Bursty_Poisson_1x1/analysis_figures/length_dependence.png.\n"
     ]
    },
    {
     "data": {
      "image/png": "[encoded data removed]",
      "text/plain": [
       "<Figure size 1200x400 with 3 Axes>"
      ]
     },
     "metadata": {},
     "output_type": "display_data"
    }
   ],
   "source": [
    "sampling_optimum = gaba_adata.uns['search_result'].samp_optimum\n",
    "gaba_adata.uns['search_result'].plot_param_L_dep(plot_fit=True, plot_errorbars=True)"
   ]
  },
  {
   "cell_type": "markdown",
   "metadata": {
    "id": "vI_ciNys-_8y"
   },
   "source": [
    "# Analysis (to be implemented)"
   ]
  },
  {
   "cell_type": "markdown",
   "metadata": {
    "id": "f_zh41Ob_Bmu"
   },
   "source": [
    "## Reject genes."
   ]
  },
  {
   "cell_type": "code",
   "execution_count": 85,
   "metadata": {},
   "outputs": [
    {
     "name": "stdout",
     "output_type": "stream",
     "text": [
      "INFO:root:P-value threshold: 0.05, Adjusted P-value threshold:0.05, Hellinger Threshold:0.05\n",
      "INFO:root:Chi-square computation complete. Rejected 2 genes out of 5. Runtime: 0.0 seconds.\n",
      "INFO:root:P-value threshold: 0.05, Adjusted P-value threshold:0.05, Hellinger Threshold:0.05\n",
      "INFO:root:Chi-square computation complete. Rejected 1 genes out of 5. Runtime: 0.0 seconds.\n"
     ]
    },
    {
     "data": {
      "text/html": [
       "<div>\n",
       "<style scoped>\n",
       "    .dataframe tbody tr th:only-of-type {\n",
       "        vertical-align: middle;\n",
       "    }\n",
       "\n",
       "    .dataframe tbody tr th {\n",
       "        vertical-align: top;\n",
       "    }\n",
       "\n",
       "    .dataframe thead th {\n",
       "        text-align: right;\n",
       "    }\n",
       "</style>\n",
       "<table border=\"1\" class=\"dataframe\">\n",
       "  <thead>\n",
       "    <tr style=\"text-align: right;\">\n",
       "      <th></th>\n",
       "      <th>rejected_genes</th>\n",
       "      <th>csq</th>\n",
       "      <th>pval</th>\n",
       "      <th>hellinger</th>\n",
       "    </tr>\n",
       "    <tr>\n",
       "      <th>gene_name</th>\n",
       "      <th></th>\n",
       "      <th></th>\n",
       "      <th></th>\n",
       "      <th></th>\n",
       "    </tr>\n",
       "  </thead>\n",
       "  <tbody>\n",
       "    <tr>\n",
       "      <th>Eif5b</th>\n",
       "      <td>False</td>\n",
       "      <td>147.938515</td>\n",
       "      <td>1.534659e-05</td>\n",
       "      <td>0.008651</td>\n",
       "    </tr>\n",
       "    <tr>\n",
       "      <th>Xrcc5</th>\n",
       "      <td>False</td>\n",
       "      <td>142.122741</td>\n",
       "      <td>8.768604e-23</td>\n",
       "      <td>0.006128</td>\n",
       "    </tr>\n",
       "    <tr>\n",
       "      <th>Klhl12</th>\n",
       "      <td>False</td>\n",
       "      <td>174.529526</td>\n",
       "      <td>1.158261e-27</td>\n",
       "      <td>0.006821</td>\n",
       "    </tr>\n",
       "    <tr>\n",
       "      <th>Rgs7</th>\n",
       "      <td>True</td>\n",
       "      <td>1039.974859</td>\n",
       "      <td>1.189539e-61</td>\n",
       "      <td>0.056915</td>\n",
       "    </tr>\n",
       "    <tr>\n",
       "      <th>Thsd7b</th>\n",
       "      <td>False</td>\n",
       "      <td>484.975454</td>\n",
       "      <td>8.658373e-64</td>\n",
       "      <td>0.018474</td>\n",
       "    </tr>\n",
       "  </tbody>\n",
       "</table>\n",
       "</div>"
      ],
      "text/plain": [
       "           rejected_genes          csq          pval  hellinger\n",
       "gene_name                                                      \n",
       "Eif5b               False   147.938515  1.534659e-05   0.008651\n",
       "Xrcc5               False   142.122741  8.768604e-23   0.006128\n",
       "Klhl12              False   174.529526  1.158261e-27   0.006821\n",
       "Rgs7                 True  1039.974859  1.189539e-61   0.056915\n",
       "Thsd7b              False   484.975454  8.658373e-64   0.018474"
      ]
     },
     "metadata": {},
     "output_type": "display_data"
    },
    {
     "data": {
      "text/html": [
       "<div>\n",
       "<style scoped>\n",
       "    .dataframe tbody tr th:only-of-type {\n",
       "        vertical-align: middle;\n",
       "    }\n",
       "\n",
       "    .dataframe tbody tr th {\n",
       "        vertical-align: top;\n",
       "    }\n",
       "\n",
       "    .dataframe thead th {\n",
       "        text-align: right;\n",
       "    }\n",
       "</style>\n",
       "<table border=\"1\" class=\"dataframe\">\n",
       "  <thead>\n",
       "    <tr style=\"text-align: right;\">\n",
       "      <th></th>\n",
       "      <th>rejected_genes</th>\n",
       "      <th>csq</th>\n",
       "      <th>pval</th>\n",
       "      <th>hellinger</th>\n",
       "    </tr>\n",
       "    <tr>\n",
       "      <th>gene_name</th>\n",
       "      <th></th>\n",
       "      <th></th>\n",
       "      <th></th>\n",
       "      <th></th>\n",
       "    </tr>\n",
       "  </thead>\n",
       "  <tbody>\n",
       "    <tr>\n",
       "      <th>Eif5b</th>\n",
       "      <td>False</td>\n",
       "      <td>64.981475</td>\n",
       "      <td>5.019640e-04</td>\n",
       "      <td>0.035304</td>\n",
       "    </tr>\n",
       "    <tr>\n",
       "      <th>Xrcc5</th>\n",
       "      <td>False</td>\n",
       "      <td>25.160229</td>\n",
       "      <td>1.408159e-02</td>\n",
       "      <td>0.025363</td>\n",
       "    </tr>\n",
       "    <tr>\n",
       "      <th>Klhl12</th>\n",
       "      <td>False</td>\n",
       "      <td>28.627287</td>\n",
       "      <td>1.431363e-03</td>\n",
       "      <td>0.019003</td>\n",
       "    </tr>\n",
       "    <tr>\n",
       "      <th>Rgs7</th>\n",
       "      <td>True</td>\n",
       "      <td>250.794125</td>\n",
       "      <td>6.745188e-22</td>\n",
       "      <td>0.224925</td>\n",
       "    </tr>\n",
       "    <tr>\n",
       "      <th>Thsd7b</th>\n",
       "      <td>True</td>\n",
       "      <td>66.604483</td>\n",
       "      <td>1.681456e-07</td>\n",
       "      <td>0.080078</td>\n",
       "    </tr>\n",
       "  </tbody>\n",
       "</table>\n",
       "</div>"
      ],
      "text/plain": [
       "           rejected_genes         csq          pval  hellinger\n",
       "gene_name                                                     \n",
       "Eif5b               False   64.981475  5.019640e-04   0.035304\n",
       "Xrcc5               False   25.160229  1.408159e-02   0.025363\n",
       "Klhl12              False   28.627287  1.431363e-03   0.019003\n",
       "Rgs7                 True  250.794125  6.745188e-22   0.224925\n",
       "Thsd7b               True   66.604483  1.681456e-07   0.080078"
      ]
     },
     "metadata": {},
     "output_type": "display_data"
    }
   ],
   "source": [
    "# # Add rejection filter to adata.\n",
    "gaba_adata = inference.reject_genes(gaba_adata, reject_at_bounds=False)#, threshold=-1, use_hellinger=False, reject_at_bounds=False)\n",
    "glu_adata = inference.reject_genes(glu_adata, reject_at_bounds=False)#, threshold=-1, use_hellinger=False, reject_at_bounds=False)\n",
    "\n",
    "# Show rejected genes.\n",
    "display(glu_adata.var[['rejected_genes', 'csq', 'pval', 'hellinger']])\n",
    "display(gaba_adata.var[['rejected_genes', 'csq', 'pval', 'hellinger']])\n",
    "\n",
    "# # Save chi-square values.\n",
    "chi_squareds_glu,  chi_squareds_gaba = glu_adata.var['csq'], gaba_adata.var['csq']"
   ]
  },
  {
   "cell_type": "markdown",
   "metadata": {},
   "source": [
    "## Execute differential expression analysis."
   ]
  },
  {
   "cell_type": "code",
   "execution_count": 86,
   "metadata": {},
   "outputs": [
    {
     "name": "stderr",
     "output_type": "stream",
     "text": [
      "/home/cat/.conda/envs/myenv/lib/python3.12/site-packages/numpy/lib/histograms.py:885: RuntimeWarning: invalid value encountered in divide\n",
      "  return n/db/n.sum(), bin_edges\n"
     ]
    },
    {
     "name": "stdout",
     "output_type": "stream",
     "text": [
      "[]\n",
      "[]\n",
      "[]\n"
     ]
    },
    {
     "data": {
      "image/png": "[encoded data removed]",
      "text/plain": [
       "<Figure size 1200x400 with 3 Axes>"
      ]
     },
     "metadata": {},
     "output_type": "display_data"
    }
   ],
   "source": [
    "DE_genes, DE_filter, offs, residuals = analysis.DE_parameters(glu_adata, gaba_adata, viz=True, use_sigma=True)#, pval_thr=0.1)\n",
    "\n",
    "for i in (DE_genes):\n",
    "    print([j for j in i.index])\n",
    "\n",
    "# FCs, p_values = analysis.DE(adata)"
   ]
  },
  {
   "cell_type": "code",
   "execution_count": 87,
   "metadata": {},
   "outputs": [],
   "source": [
    "# # NB changing loom to h5ad.\n",
    "# adata_gaba = anndata.read_loom('monod_examples/sample_data/allen_C01_gaba.loom')\n",
    "# adata_gaba.var_names = adata_gaba.var['gene_name']\n",
    "# adata_gaba.obs_names = adata_gaba.obs['barcode']\n",
    "# adata_gaba.obs = adata_gaba.obs.drop(columns=['barcode'])\n",
    "# adata_gaba.var = adata_gaba.var.drop(columns=['gene_name'])\n",
    "# adata_gaba.write('gaba_example.h5ad')"
   ]
  },
  {
   "cell_type": "markdown",
   "metadata": {},
   "source": [
    "### Show some gene distributions."
   ]
  },
  {
   "cell_type": "code",
   "execution_count": 88,
   "metadata": {},
   "outputs": [
    {
     "name": "stdout",
     "output_type": "stream",
     "text": [
      "[0 1 2]\n",
      "Eif5b\n",
      "Xrcc5\n",
      "Klhl12\n"
     ]
    },
    {
     "data": {
      "image/png": "[encoded data removed]",
      "text/plain": [
       "<Figure size 640x480 with 3 Axes>"
      ]
     },
     "metadata": {},
     "output_type": "display_data"
    }
   ],
   "source": [
    "fitted_adata = glu_adata\n",
    "\n",
    "search_result, search_data = fitted_adata.uns['search_result'], fitted_adata.uns['search_data']\n",
    "logscale = True\n",
    "\n",
    "sz =(1,3)\n",
    "(nrows, ncols) = sz\n",
    "fig1, ax1 = plt.subplots(nrows=nrows, ncols=ncols)\n",
    "\n",
    "nax = np.prod(sz)\n",
    "\n",
    "genes_to_plot = np.arange(nax)\n",
    "\n",
    "genes_to_plot = np.asarray(genes_to_plot)\n",
    "if genes_to_plot.dtype == bool:\n",
    "    gtp_temp = np.arange(self.n_genes)\n",
    "    genes_to_plot = gtp_temp[genes_to_plot]\n",
    "\n",
    "number_of_genes_to_plot = len(genes_to_plot)\n",
    "if number_of_genes_to_plot > 5:\n",
    "    number_of_genes_to_plot = 5\n",
    "    genes_to_plot = genes_to_plot[: 5]\n",
    "if number_of_genes_to_plot > nax:  # This should no longer break...\n",
    "    number_of_genes_to_plot = nax\n",
    "    genes_to_plot = genes_to_plot[:nax]\n",
    "\n",
    "j_ = 0\n",
    "marg = 'joint'\n",
    "modalities = ['spliced', 'unspliced']\n",
    "\n",
    "print(genes_to_plot)\n",
    "for i_ in genes_to_plot:\n",
    "    lm = np.copy(search_data.M[:, i_])\n",
    "    \n",
    "    # TODO: generalize by adding attribute names as attribute of e.g. CMEModel\n",
    "    # attributes = ['unspliced', 'spliced', 'protein']\n",
    "    \n",
    "    num_modalities = 2\n",
    "    for i in range(num_modalities):\n",
    "        if marg == modalities[i]:\n",
    "            lm[:i] = 1\n",
    "            lm[i+1:]=1\n",
    "            \n",
    "    axloc = np.unravel_index(j_, sz) if (sz[0] > 1 and sz[1] > 1) else j_\n",
    "\n",
    "    samp = search_result.regressor_optimum[i_]\n",
    "    Pa = np.squeeze(search_result.model.eval_model_pss(search_result.phys_optimum[i_], lm, samp))\n",
    "    layers = np.array([i.copy() for i in search_data.layers])\n",
    "    \n",
    "    marg = 'joint'\n",
    "    if marg == \"joint\":\n",
    "        if logscale:\n",
    "            Pa[Pa < 1e-10] = 1e-10\n",
    "            Pa = np.log10(Pa)\n",
    "\n",
    "        if num_modalities==2:\n",
    "            ax1[axloc].imshow(Pa.T, aspect=\"auto\", cmap=\"summer\")\n",
    "        elif num_modalities==3:\n",
    "            ax1[axloc].imshow(Pa.sum(axis=2).T, aspect=\"auto\", cmap=\"summer\")\n",
    "        else:\n",
    "            log.error('Joint distribution plot only implemented for 2 or 3 modalities')\n",
    "            \n",
    "        ax1[axloc].invert_yaxis()\n",
    "\n",
    "        jitter_magn = 0.1\n",
    "        jitter = np.random.randn(2, search_result.n_cells) * jitter_magn\n",
    "        ax1[axloc].scatter(\n",
    "            *layers[:2, :,i_] + jitter, c=\"k\", s=1, alpha=0.1\n",
    "        )\n",
    "\n",
    "        ax1[axloc].set_xlim([-0.5, search_data.M[0, i_] - 1.5])\n",
    "        ax1[axloc].set_ylim([-0.5, search_data.M[1, i_] - 1.5])\n",
    "    else:\n",
    "        plot_hist_and_fit(ax1[axloc], search_data, i_, Pa, marg)\n",
    "        if logscale:\n",
    "            ax1[axloc].set_yscale(\"log\")\n",
    "\n",
    "    print(search_result.gene_names.index[i_])\n",
    "    # if title:\n",
    "    #     titlestr = search_result.gene_names[i_]\n",
    "    #     if hasattr(search_result, \"rejected_genes\") and search_result.rejected_genes[i_]:\n",
    "    #         titlestr += \" (rej.)\"\n",
    "    #     ax1[axloc].set_title(titlestr, fontdict={\"fontsize\": 9})\n",
    "    ax1[axloc].set_xticks([])\n",
    "    ax1[axloc].set_yticks([])\n",
    "    j_ += 1\n",
    "fig1.tight_layout(pad=0.02)\n"
   ]
  },
  {
   "cell_type": "code",
   "execution_count": null,
   "metadata": {},
   "outputs": [],
   "source": []
  }
 ],
 "metadata": {
  "colab": {
   "include_colab_link": true,
   "name": "Monod demo",
   "provenance": []
  },
  "kernelspec": {
   "display_name": "Python 3 (ipykernel)",
   "language": "python",
   "name": "python3"
  },
  "language_info": {
   "codemirror_mode": {
    "name": "ipython",
    "version": 3
   },
   "file_extension": ".py",
   "mimetype": "text/x-python",
   "name": "python",
   "nbconvert_exporter": "python",
   "pygments_lexer": "ipython3",
   "version": "3.12.2"
  }
 },
 "nbformat": 4,
 "nbformat_minor": 4
}
