{
 "cells": [
  {
   "cell_type": "markdown",
   "metadata": {
    "colab_type": "text",
    "id": "view-in-github"
   },
   "source": [
    "<a href=\"https://colab.research.google.com/github/pachterlab/monod/blob/anndata/Monod_demo_new.ipynb?short_path=e568791\" target=\"_parent\"><img src=\"https://colab.research.google.com/assets/colab-badge.svg\" alt=\"Open In Colab\"/></a>"
   ]
  },
  {
   "cell_type": "markdown",
   "metadata": {
    "id": "t0jj305u1LB0"
   },
   "source": [
    "# *Monod* on Colab"
   ]
  },
  {
   "cell_type": "markdown",
   "metadata": {
    "id": "clys0amiJQ4V"
   },
   "source": [
    "In the current notebook, we apply *Monod* to identify differentially regulated genes between GABAergic and glutamatergic cell types in a single Allen dataset. "
   ]
  },
  {
   "cell_type": "markdown",
   "metadata": {
    "id": "A_tyjLWZJMT9"
   },
   "source": [
    "# Inference pipeline"
   ]
  },
  {
   "cell_type": "markdown",
   "metadata": {
    "id": "fbqxrHZX1PIB"
   },
   "source": [
    "## Install prerequisites"
   ]
  },
  {
   "cell_type": "code",
   "execution_count": 153,
   "metadata": {
    "colab": {
     "base_uri": "https://localhost:8080/"
    },
    "id": "1AQA8mxjqbvX",
    "outputId": "eff6e961-b5b6-460a-a494-2c1a34679da4"
   },
   "outputs": [],
   "source": [
    "# # %%capture\n",
    "# # !pip install -i https://test.pypi.org/simple/ -U --extra-index-url https://pypi.org/simple   monod  \n",
    "# # !pip install -i https://pypi.org/simple/  monod  \n",
    "# !pip install monod"
   ]
  },
  {
   "cell_type": "markdown",
   "metadata": {
    "id": "q1XTsobSlp--"
   },
   "source": [
    "Let's make sure that the version is correct."
   ]
  },
  {
   "cell_type": "code",
   "execution_count": 154,
   "metadata": {
    "colab": {
     "base_uri": "https://localhost:8080/"
    },
    "id": "Ea8T9j62lo7D",
    "outputId": "7bf50f59-ea00-44cf-ffbc-697dd1d09145"
   },
   "outputs": [],
   "source": [
    "# !pip show monod"
   ]
  },
  {
   "cell_type": "markdown",
   "metadata": {
    "id": "lTXr7lE21S2z"
   },
   "source": [
    "## Import data"
   ]
  },
  {
   "cell_type": "code",
   "execution_count": 155,
   "metadata": {
    "colab": {
     "base_uri": "https://localhost:8080/"
    },
    "id": "_Es6dkf3YNof",
    "outputId": "8c897032-1bb6-41ac-91ee-7888e7d2591d"
   },
   "outputs": [],
   "source": [
    "# ! git clone https://github.com/pachterlab/monod_examples.git"
   ]
  },
  {
   "cell_type": "code",
   "execution_count": 156,
   "metadata": {
    "id": "XLckDGwtYWkf"
   },
   "outputs": [],
   "source": [
    "# !rm -r sample_data"
   ]
  },
  {
   "cell_type": "code",
   "execution_count": 157,
   "metadata": {
    "id": "iLdPbyL3YST0"
   },
   "outputs": [],
   "source": [
    "# !mv monod_examples/* ."
   ]
  },
  {
   "cell_type": "code",
   "execution_count": 158,
   "metadata": {
    "id": "vDBCR9yRX3Vw"
   },
   "outputs": [],
   "source": [
    "# !rm -r monod_examples"
   ]
  },
  {
   "cell_type": "code",
   "execution_count": 159,
   "metadata": {
    "id": "ctgV1Bw_zFBl"
   },
   "outputs": [],
   "source": [
    "# !mv sample_data/* ."
   ]
  },
  {
   "cell_type": "code",
   "execution_count": 160,
   "metadata": {
    "id": "fJZon2F8X89h"
   },
   "outputs": [],
   "source": [
    "# !rmdir sample_data"
   ]
  },
  {
   "cell_type": "code",
   "execution_count": 161,
   "metadata": {
    "colab": {
     "base_uri": "https://localhost:8080/"
    },
    "id": "UeCQkeQdJNmE",
    "outputId": "db485cf3-eec2-46b6-b6d9-2736f881df53"
   },
   "outputs": [],
   "source": [
    "# !cat allen_C01_gaba.tar.gz.* | tar xzvf -"
   ]
  },
  {
   "cell_type": "code",
   "execution_count": 162,
   "metadata": {
    "id": "RQZKgCjmYAuF"
   },
   "outputs": [],
   "source": [
    "# !mv home/ggorin/projects/monod_examples/sample_data/allen_C01_gaba.loom ."
   ]
  },
  {
   "cell_type": "code",
   "execution_count": 163,
   "metadata": {
    "colab": {
     "base_uri": "https://localhost:8080/"
    },
    "id": "hLXTb03AXoNl",
    "outputId": "16cf48dd-e0b8-4410-f799-4d3a115d1a51"
   },
   "outputs": [],
   "source": [
    "# !cat allen_C01_glu.tar.gz.* | tar xzvf -"
   ]
  },
  {
   "cell_type": "code",
   "execution_count": 164,
   "metadata": {
    "id": "u2WkM_hDYN4-"
   },
   "outputs": [],
   "source": [
    "# !mv home/ggorin/projects/monod_examples/sample_data/allen_C01_glu.loom ."
   ]
  },
  {
   "cell_type": "code",
   "execution_count": 165,
   "metadata": {
    "id": "vDI0QGHHJ6so"
   },
   "outputs": [],
   "source": [
    "# !rm -r  ./home"
   ]
  },
  {
   "cell_type": "code",
   "execution_count": 166,
   "metadata": {
    "id": "efkK6_EQDcB3"
   },
   "outputs": [],
   "source": [
    "# !rm *.tar.*"
   ]
  },
  {
   "cell_type": "markdown",
   "metadata": {
    "id": "hfprorcN13LY"
   },
   "source": [
    "## Import package components"
   ]
  },
  {
   "cell_type": "code",
   "execution_count": 554,
   "metadata": {
    "id": "L8Ax0d2vrdwY"
   },
   "outputs": [],
   "source": [
    "# import monod\n",
    "# from monod import preprocess, extract_data, cme_toolbox, inference, analysis\n",
    "\n",
    "import matplotlib.pyplot as plt\n",
    "import numpy as np"
   ]
  },
  {
   "cell_type": "code",
   "execution_count": 555,
   "metadata": {},
   "outputs": [],
   "source": [
    "import logging, sys\n",
    "logging.basicConfig(stream=sys.stdout)\n",
    "log = logging.getLogger()\n",
    "log.setLevel(logging.INFO)\n",
    "import warnings\n",
    "warnings.filterwarnings(\"ignore\") #warning suppression within script is not respected by colab\n",
    "warnings.simplefilter('ignore')"
   ]
  },
  {
   "cell_type": "code",
   "execution_count": 631,
   "metadata": {},
   "outputs": [
    {
     "data": {
      "text/plain": [
       "<module 'analysis' from '/home/cat/monod/src/monod/analysis.py'>"
      ]
     },
     "execution_count": 631,
     "metadata": {},
     "output_type": "execute_result"
    }
   ],
   "source": [
    "# execfile(\"src/monod/preprocess.py\")\n",
    "import sys\n",
    "sys.path.insert(0, '/home/cat/monod/src/monod')\n",
    "\n",
    "import extract_data, cme_toolbox, inference, analysis\n",
    "import importlib\n",
    "\n",
    "importlib.reload(extract_data)\n",
    "importlib.reload(inference)\n",
    "importlib.reload(cme_toolbox)\n",
    "importlib.reload(analysis)"
   ]
  },
  {
   "cell_type": "markdown",
   "metadata": {},
   "source": [
    "## Set up model and perform inference."
   ]
  },
  {
   "cell_type": "code",
   "execution_count": 619,
   "metadata": {},
   "outputs": [
    {
     "name": "stderr",
     "output_type": "stream",
     "text": [
      "/home/cat/.conda/envs/myenv/lib/python3.12/site-packages/anndata/__init__.py:55: FutureWarning: `anndata.read` is deprecated, use `anndata.read_h5ad` instead. `ad.read` will be removed in mid 2024.\n",
      "  warnings.warn(\n",
      "/home/cat/.conda/envs/myenv/lib/python3.12/site-packages/anndata/_core/anndata.py:1820: UserWarning: Variable names are not unique. To make them unique, call `.var_names_make_unique`.\n",
      "  utils.warn_names_duplicates(\"var\")\n"
     ]
    },
    {
     "data": {
      "text/plain": [
       "(<6629x32285 sparse matrix of type '<class 'numpy.float32'>'\n",
       " \twith 32029310 stored elements in Compressed Sparse Row format>,\n",
       " <6629x32285 sparse matrix of type '<class 'numpy.float32'>'\n",
       " \twith 26413033 stored elements in Compressed Sparse Row format>)"
      ]
     },
     "execution_count": 619,
     "metadata": {},
     "output_type": "execute_result"
    }
   ],
   "source": [
    "gladata = anndata.read('./glu_example.h5ad')\n",
    "gladata.layers['spliced'], gladata.layers['unspliced']"
   ]
  },
  {
   "cell_type": "code",
   "execution_count": null,
   "metadata": {},
   "outputs": [],
   "source": [
    "Layer: , Non-Zero Entries: 0\n",
    "Layer: spliced, Non-Zero Entries: 32029310\n",
    "Layer: unspliced, Non-Zero Entries: 26413033"
   ]
  },
  {
   "cell_type": "code",
   "execution_count": 597,
   "metadata": {},
   "outputs": [
    {
     "name": "stderr",
     "output_type": "stream",
     "text": [
      "/home/cat/.conda/envs/myenv/lib/python3.12/site-packages/anndata/__init__.py:55: FutureWarning: `anndata.read` is deprecated, use `anndata.read_h5ad` instead. `ad.read` will be removed in mid 2024.\n",
      "  warnings.warn(\n",
      "/home/cat/.conda/envs/myenv/lib/python3.12/site-packages/anndata/_core/anndata.py:1820: UserWarning: Variable names are not unique. To make them unique, call `.var_names_make_unique`.\n",
      "  utils.warn_names_duplicates(\"var\")\n"
     ]
    }
   ],
   "source": [
    "gadata = anndata.read('./gaba_example.h5ad')"
   ]
  },
  {
   "cell_type": "code",
   "execution_count": null,
   "metadata": {},
   "outputs": [],
   "source": [
    "10893422.0\n",
    "Layer: unspliced, Total Counts: 13226045.0"
   ]
  },
  {
   "cell_type": "code",
   "execution_count": 622,
   "metadata": {},
   "outputs": [
    {
     "name": "stdout",
     "output_type": "stream",
     "text": [
      "INFO:root:Directory gaba_example already exists.\n",
      "INFO:root:Beginning data extraction.\n",
      "INFO:root:Dataset: gaba_example\n",
      "is sparse\n"
     ]
    },
    {
     "name": "stderr",
     "output_type": "stream",
     "text": [
      "/home/cat/.conda/envs/myenv/lib/python3.12/site-packages/anndata/_core/anndata.py:1820: UserWarning: Variable names are not unique. To make them unique, call `.var_names_make_unique`.\n",
      "  utils.warn_names_duplicates(\"var\")\n",
      "/home/cat/.conda/envs/myenv/lib/python3.12/site-packages/anndata/_core/anndata.py:1820: UserWarning: Variable names are not unique. To make them unique, call `.var_names_make_unique`.\n",
      "  utils.warn_names_duplicates(\"var\")\n",
      "/home/cat/.conda/envs/myenv/lib/python3.12/site-packages/anndata/_core/anndata.py:1820: UserWarning: Variable names are not unique. To make them unique, call `.var_names_make_unique`.\n",
      "  utils.warn_names_duplicates(\"var\")\n",
      "/home/cat/.conda/envs/myenv/lib/python3.12/site-packages/anndata/_core/anndata.py:1820: UserWarning: Variable names are not unique. To make them unique, call `.var_names_make_unique`.\n",
      "  utils.warn_names_duplicates(\"var\")\n"
     ]
    },
    {
     "name": "stdout",
     "output_type": "stream",
     "text": [
      "INFO:root:728 cells detected.\n"
     ]
    },
    {
     "name": "stderr",
     "output_type": "stream",
     "text": [
      "/home/cat/.conda/envs/myenv/lib/python3.12/site-packages/anndata/_core/anndata.py:1820: UserWarning: Variable names are not unique. To make them unique, call `.var_names_make_unique`.\n",
      "  utils.warn_names_duplicates(\"var\")\n"
     ]
    },
    {
     "name": "stdout",
     "output_type": "stream",
     "text": [
      "3591 genes retained after expression filter.\n",
      "INFO:root:0 random genes selected.\n",
      "INFO:root:Total of 5 genes selected.\n",
      "['spliced', 'unspliced'] previous ordering\n",
      "['spliced', 'unspliced'] ordered for histogram\n",
      "INFO:root:Data extracted\n",
      "LayersView with keys: spliced, unspliced\n",
      "['spliced', 'unspliced']\n",
      "INFO:root:Search data created.\n",
      "INFO:root:Directory gaba_example/Bursty_Poisson_6x7 already exists.\n",
      "INFO:root:Global inference parameters stored to gaba_example/Bursty_Poisson_6x7/parameters.pr.\n",
      "INFO:root:Global inference parameters set.\n",
      "INFO:root:Starting non-parallelized grid scan.\n",
      "INFO:root:Non-parallelized grid scan complete.\n",
      "INFO:root:All grid point data cleaned from disk.\n",
      "INFO:root:Directory gaba_example/Bursty_Poisson_6x7/analysis_figures already exists.\n",
      "INFO:root:Grid scan results stored to gaba_example/Bursty_Poisson_6x7/grid_scan_results.res.\n",
      "INFO:root:Runtime: 40.3 seconds.\n",
      "INFO:root:Grid points fit.\n",
      "INFO:root:Optimal parameters found.\n",
      "INFO:root:Optimal parameters saved.\n",
      "Layers with keys: spliced, unspliced\n",
      "['spliced', 'unspliced']\n",
      "INFO:root:AIC values calculated.\n",
      "INFO:root:Computing local Hessian.\n",
      "INFO:root:Starting non-parallelized Hessian computation.\n"
     ]
    },
    {
     "name": "stderr",
     "output_type": "stream",
     "text": [
      "/home/cat/monod/src/monod/inference.py:110: ImplicitModificationWarning: Trying to modify attribute `.var` of view, initializing view as actual.\n",
      "  monod_adata.var['param_' + param_name] = param_values\n"
     ]
    },
    {
     "name": "stdout",
     "output_type": "stream",
     "text": [
      "INFO:root:Non-parallelized Hessian computation complete.\n",
      "INFO:root:Gene 0 gives negative stdev; replaced with mean. (Search converged to local minimum?)\n",
      "INFO:root:Gene 1 gives negative stdev; replaced with mean. (Search converged to local minimum?)\n",
      "INFO:root:Gene 3 gives negative stdev; replaced with mean. (Search converged to local minimum?)\n",
      "INFO:root:Gene 4 gives negative stdev; replaced with mean. (Search converged to local minimum?)\n",
      "INFO:root:Standard error of the MLE computation complete. Runtime: 1.6 seconds.\n",
      "INFO:root:Uncertainties per gene calculated.\n"
     ]
    },
    {
     "name": "stderr",
     "output_type": "stream",
     "text": [
      "/home/cat/monod/src/monod/inference.py:1753: RuntimeWarning: invalid value encountered in sqrt\n",
      "  sigma[gene_index, :] = np.sqrt(np.diag(hess_inv)) / np.sqrt(\n"
     ]
    }
   ],
   "source": [
    "# Define model.\n",
    "fitmodel = cme_toolbox.CMEModel('Bursty','Poisson')\n",
    "\n",
    "DE_genes = ['Rspo3', 'Erbin','Rcan3' ,'Clic4', 'Vrk1']#, 'Lrp12', 'Gatm' ,'Rims3', '1110004F10Rik', 'Tcerg1l', 'Hcrtr2' ]\n",
    "demo_genes = ['Eif5b','Xrcc5',\t'Klhl12','Rgs7','Thsd7b']\n",
    "# Perform inference. (don't need to give these bounds, here for debugging but can use defaults.)\n",
    "lb = [-1.0, -1.8, -1.8 ]\n",
    "ub = [4.2, 2.5, 3.5]\n",
    "samp_lb, samp_ub = [-8, -3],[-5, 0]\n",
    "grid = [6,7]\n",
    "back_gaba_adata = inference.perform_inference('./gaba_example.h5ad', fitmodel, n_genes=5, seed=4, genes_to_fit=demo_genes,\n",
    "                                       phys_lb=lb, phys_ub=ub, gridsize=grid, samp_lb=samp_lb, samp_ub=samp_ub, gradient_params = {'max_iterations':5,'init_pattern':'moments','num_restarts':1}#,#),\n",
    "                                        , modality_name_dict={'spliced':'unspliced', 'unspliced': 'spliced'}) #['Eif5b', 'Thsd7b', 'Fbxw2', 'Otud7a', 'Asah1'])glu_adata = inference.perform_inference('./glu_example.h5ad', fitmodel, n_genes=5, seed=4, genes_to_fit=DE_genes,"
   ]
  },
  {
   "cell_type": "code",
   "execution_count": 632,
   "metadata": {},
   "outputs": [
    {
     "name": "stdout",
     "output_type": "stream",
     "text": [
      "INFO:root:Directory gaba_example already exists.\n",
      "INFO:root:Beginning data extraction.\n",
      "INFO:root:Dataset: gaba_example\n",
      "is sparse\n"
     ]
    },
    {
     "name": "stderr",
     "output_type": "stream",
     "text": [
      "/home/cat/.conda/envs/myenv/lib/python3.12/site-packages/anndata/_core/anndata.py:1820: UserWarning: Variable names are not unique. To make them unique, call `.var_names_make_unique`.\n",
      "  utils.warn_names_duplicates(\"var\")\n",
      "/home/cat/.conda/envs/myenv/lib/python3.12/site-packages/anndata/_core/anndata.py:1820: UserWarning: Variable names are not unique. To make them unique, call `.var_names_make_unique`.\n",
      "  utils.warn_names_duplicates(\"var\")\n",
      "/home/cat/.conda/envs/myenv/lib/python3.12/site-packages/anndata/_core/anndata.py:1820: UserWarning: Variable names are not unique. To make them unique, call `.var_names_make_unique`.\n",
      "  utils.warn_names_duplicates(\"var\")\n",
      "/home/cat/.conda/envs/myenv/lib/python3.12/site-packages/anndata/_core/anndata.py:1820: UserWarning: Variable names are not unique. To make them unique, call `.var_names_make_unique`.\n",
      "  utils.warn_names_duplicates(\"var\")\n"
     ]
    },
    {
     "name": "stdout",
     "output_type": "stream",
     "text": [
      "INFO:root:728 cells detected.\n"
     ]
    },
    {
     "name": "stderr",
     "output_type": "stream",
     "text": [
      "/home/cat/.conda/envs/myenv/lib/python3.12/site-packages/anndata/_core/anndata.py:1820: UserWarning: Variable names are not unique. To make them unique, call `.var_names_make_unique`.\n",
      "  utils.warn_names_duplicates(\"var\")\n"
     ]
    },
    {
     "name": "stdout",
     "output_type": "stream",
     "text": [
      "3591 genes retained after expression filter.\n",
      "INFO:root:0 random genes selected.\n",
      "INFO:root:Total of 5 genes selected.\n",
      "['unspliced', 'spliced'] previous ordering\n",
      "['unspliced', 'spliced'] ordered for histogram\n",
      "INFO:root:Data extracted\n",
      "LayersView with keys: unspliced, spliced\n",
      "['unspliced', 'spliced']\n",
      "INFO:root:Search data created.\n",
      "INFO:root:Directory gaba_example/Bursty_Poisson_6x7 already exists.\n",
      "ERROR:root:Global inference parameters could not be stored to gaba_example/Bursty_Poisson_6x7/parameters.pr.\n",
      "INFO:root:Global inference parameters set.\n",
      "INFO:root:Starting non-parallelized grid scan.\n",
      "INFO:root:Non-parallelized grid scan complete.\n",
      "INFO:root:All grid point data cleaned from disk.\n",
      "INFO:root:Directory gaba_example/Bursty_Poisson_6x7/analysis_figures already exists.\n",
      "ERROR:root:Grid scan results could not be stored to gaba_example/Bursty_Poisson_6x7/grid_scan_results.res.\n",
      "INFO:root:Runtime: 42.5 seconds.\n",
      "INFO:root:Grid points fit.\n",
      "INFO:root:Optimal parameters found.\n",
      "INFO:root:Optimal parameters saved.\n",
      "Layers with keys: unspliced, spliced\n",
      "['unspliced', 'spliced']\n",
      "INFO:root:AIC values calculated.\n",
      "INFO:root:Computing local Hessian.\n",
      "INFO:root:Starting non-parallelized Hessian computation.\n"
     ]
    },
    {
     "name": "stderr",
     "output_type": "stream",
     "text": [
      "/home/cat/monod/src/monod/inference.py:110: ImplicitModificationWarning: Trying to modify attribute `.var` of view, initializing view as actual.\n",
      "  monod_adata.var['param_' + param_name] = param_values\n"
     ]
    },
    {
     "name": "stdout",
     "output_type": "stream",
     "text": [
      "INFO:root:Non-parallelized Hessian computation complete.\n",
      "INFO:root:Gene 1 gives negative stdev; replaced with mean. (Search converged to local minimum?)\n",
      "INFO:root:Gene 3 gives negative stdev; replaced with mean. (Search converged to local minimum?)\n",
      "INFO:root:Gene 4 gives negative stdev; replaced with mean. (Search converged to local minimum?)\n",
      "INFO:root:Standard error of the MLE computation complete. Runtime: 1.7 seconds.\n",
      "INFO:root:Uncertainties per gene calculated.\n"
     ]
    },
    {
     "name": "stderr",
     "output_type": "stream",
     "text": [
      "/home/cat/monod/src/monod/inference.py:1753: RuntimeWarning: invalid value encountered in sqrt\n",
      "  sigma[gene_index, :] = np.sqrt(np.diag(hess_inv)) / np.sqrt(\n"
     ]
    }
   ],
   "source": [
    "gaba_adata = inference.perform_inference('./gaba_example.h5ad', fitmodel, n_genes=5, seed=4, genes_to_fit=demo_genes,\n",
    "                                       phys_lb=lb, phys_ub=ub, gridsize=grid, samp_lb=samp_lb, samp_ub=samp_ub, gradient_params = {'max_iterations':5,'init_pattern':'moments','num_restarts':1})"
   ]
  },
  {
   "cell_type": "code",
   "execution_count": 634,
   "metadata": {},
   "outputs": [
    {
     "name": "stdout",
     "output_type": "stream",
     "text": [
      "INFO:root:Directory gaba_example already exists.\n",
      "INFO:root:Beginning data extraction.\n",
      "INFO:root:Dataset: gaba_example\n",
      "is sparse\n"
     ]
    },
    {
     "name": "stderr",
     "output_type": "stream",
     "text": [
      "/home/cat/.conda/envs/myenv/lib/python3.12/site-packages/anndata/_core/anndata.py:1820: UserWarning: Variable names are not unique. To make them unique, call `.var_names_make_unique`.\n",
      "  utils.warn_names_duplicates(\"var\")\n",
      "/home/cat/.conda/envs/myenv/lib/python3.12/site-packages/anndata/_core/anndata.py:1820: UserWarning: Variable names are not unique. To make them unique, call `.var_names_make_unique`.\n",
      "  utils.warn_names_duplicates(\"var\")\n",
      "/home/cat/.conda/envs/myenv/lib/python3.12/site-packages/anndata/_core/anndata.py:1820: UserWarning: Variable names are not unique. To make them unique, call `.var_names_make_unique`.\n",
      "  utils.warn_names_duplicates(\"var\")\n",
      "/home/cat/.conda/envs/myenv/lib/python3.12/site-packages/anndata/_core/anndata.py:1820: UserWarning: Variable names are not unique. To make them unique, call `.var_names_make_unique`.\n",
      "  utils.warn_names_duplicates(\"var\")\n"
     ]
    },
    {
     "name": "stdout",
     "output_type": "stream",
     "text": [
      "INFO:root:728 cells detected.\n"
     ]
    },
    {
     "name": "stderr",
     "output_type": "stream",
     "text": [
      "/home/cat/.conda/envs/myenv/lib/python3.12/site-packages/anndata/_core/anndata.py:1820: UserWarning: Variable names are not unique. To make them unique, call `.var_names_make_unique`.\n",
      "  utils.warn_names_duplicates(\"var\")\n"
     ]
    },
    {
     "name": "stdout",
     "output_type": "stream",
     "text": [
      "3591 genes retained after expression filter.\n",
      "INFO:root:0 random genes selected.\n",
      "INFO:root:Total of 5 genes selected.\n",
      "['spliced', 'unspliced'] previous ordering\n",
      "['spliced', 'unspliced'] ordered for histogram\n",
      "INFO:root:Data extracted\n",
      "LayersView with keys: spliced, unspliced\n",
      "['spliced', 'unspliced']\n",
      "INFO:root:Search data created.\n",
      "INFO:root:Directory gaba_example/Bursty_Poisson_6x7 already exists.\n",
      "ERROR:root:Global inference parameters could not be stored to gaba_example/Bursty_Poisson_6x7/parameters.pr.\n",
      "INFO:root:Global inference parameters set.\n",
      "INFO:root:Starting non-parallelized grid scan.\n",
      "INFO:root:Non-parallelized grid scan complete.\n",
      "INFO:root:All grid point data cleaned from disk.\n",
      "INFO:root:Directory gaba_example/Bursty_Poisson_6x7/analysis_figures already exists.\n",
      "ERROR:root:Grid scan results could not be stored to gaba_example/Bursty_Poisson_6x7/grid_scan_results.res.\n",
      "INFO:root:Runtime: 43.7 seconds.\n",
      "INFO:root:Grid points fit.\n",
      "INFO:root:Optimal parameters found.\n",
      "INFO:root:Optimal parameters saved.\n",
      "Layers with keys: spliced, unspliced\n",
      "['spliced', 'unspliced']\n",
      "INFO:root:AIC values calculated.\n",
      "INFO:root:Computing local Hessian.\n",
      "INFO:root:Starting non-parallelized Hessian computation.\n"
     ]
    },
    {
     "name": "stderr",
     "output_type": "stream",
     "text": [
      "/home/cat/monod/src/monod/inference.py:110: ImplicitModificationWarning: Trying to modify attribute `.var` of view, initializing view as actual.\n",
      "  monod_adata.var['param_' + param_name] = param_values\n"
     ]
    },
    {
     "name": "stdout",
     "output_type": "stream",
     "text": [
      "INFO:root:Non-parallelized Hessian computation complete.\n",
      "INFO:root:Gene 0 gives negative stdev; replaced with mean. (Search converged to local minimum?)\n",
      "INFO:root:Gene 1 gives negative stdev; replaced with mean. (Search converged to local minimum?)\n",
      "INFO:root:Gene 3 gives negative stdev; replaced with mean. (Search converged to local minimum?)\n",
      "INFO:root:Gene 4 gives negative stdev; replaced with mean. (Search converged to local minimum?)\n",
      "INFO:root:Standard error of the MLE computation complete. Runtime: 2.9 seconds.\n",
      "INFO:root:Uncertainties per gene calculated.\n"
     ]
    },
    {
     "name": "stderr",
     "output_type": "stream",
     "text": [
      "/home/cat/monod/src/monod/inference.py:1753: RuntimeWarning: invalid value encountered in sqrt\n",
      "  sigma[gene_index, :] = np.sqrt(np.diag(hess_inv)) / np.sqrt(\n"
     ]
    }
   ],
   "source": [
    "back_gaba_adata = inference.perform_inference('./gaba_example.h5ad', fitmodel, n_genes=5, seed=4, genes_to_fit=demo_genes,\n",
    "                                       phys_lb=lb, phys_ub=ub, gridsize=grid, samp_lb=samp_lb, samp_ub=samp_ub, gradient_params = {'max_iterations':5,'init_pattern':'moments','num_restarts':1}#,#),\n",
    "                                        , modality_name_dict={'spliced':'unspliced', 'unspliced': 'spliced'}) #['Eif5b', 'Thsd7b', 'Fbxw2', 'Otud7a', 'Asah1'])glu_adata = inference.perform_inference('./glu_example.h5ad', fitmodel, n_genes=5, seed=4, genes_to_fit=DE_genes,"
   ]
  },
  {
   "cell_type": "code",
   "execution_count": 636,
   "metadata": {},
   "outputs": [
    {
     "name": "stdout",
     "output_type": "stream",
     "text": [
      "INFO:root:Directory glu_example already exists.\n",
      "INFO:root:Beginning data extraction.\n",
      "INFO:root:Dataset: glu_example\n"
     ]
    },
    {
     "name": "stderr",
     "output_type": "stream",
     "text": [
      "/home/cat/.conda/envs/myenv/lib/python3.12/site-packages/anndata/_core/anndata.py:1820: UserWarning: Variable names are not unique. To make them unique, call `.var_names_make_unique`.\n",
      "  utils.warn_names_duplicates(\"var\")\n",
      "/home/cat/.conda/envs/myenv/lib/python3.12/site-packages/anndata/_core/anndata.py:1820: UserWarning: Variable names are not unique. To make them unique, call `.var_names_make_unique`.\n",
      "  utils.warn_names_duplicates(\"var\")\n"
     ]
    },
    {
     "name": "stdout",
     "output_type": "stream",
     "text": [
      "is sparse\n"
     ]
    },
    {
     "name": "stderr",
     "output_type": "stream",
     "text": [
      "/home/cat/.conda/envs/myenv/lib/python3.12/site-packages/anndata/_core/anndata.py:1820: UserWarning: Variable names are not unique. To make them unique, call `.var_names_make_unique`.\n",
      "  utils.warn_names_duplicates(\"var\")\n",
      "/home/cat/.conda/envs/myenv/lib/python3.12/site-packages/anndata/_core/anndata.py:1820: UserWarning: Variable names are not unique. To make them unique, call `.var_names_make_unique`.\n",
      "  utils.warn_names_duplicates(\"var\")\n"
     ]
    },
    {
     "name": "stdout",
     "output_type": "stream",
     "text": [
      "INFO:root:6629 cells detected.\n"
     ]
    },
    {
     "name": "stderr",
     "output_type": "stream",
     "text": [
      "/home/cat/.conda/envs/myenv/lib/python3.12/site-packages/anndata/_core/anndata.py:1820: UserWarning: Variable names are not unique. To make them unique, call `.var_names_make_unique`.\n",
      "  utils.warn_names_duplicates(\"var\")\n"
     ]
    },
    {
     "name": "stdout",
     "output_type": "stream",
     "text": [
      "5545 genes retained after expression filter.\n",
      "INFO:root:0 random genes selected.\n",
      "INFO:root:Total of 5 genes selected.\n",
      "['unspliced', 'spliced'] previous ordering\n",
      "['unspliced', 'spliced'] ordered for histogram\n",
      "INFO:root:Data extracted\n",
      "LayersView with keys: unspliced, spliced\n",
      "['unspliced', 'spliced']\n",
      "INFO:root:Search data created.\n",
      "INFO:root:Directory glu_example/Bursty_Poisson_6x7 already exists.\n",
      "ERROR:root:Global inference parameters could not be stored to glu_example/Bursty_Poisson_6x7/parameters.pr.\n",
      "INFO:root:Global inference parameters set.\n",
      "INFO:root:Starting non-parallelized grid scan.\n",
      "INFO:root:Non-parallelized grid scan complete.\n",
      "INFO:root:All grid point data cleaned from disk.\n",
      "INFO:root:Directory glu_example/Bursty_Poisson_6x7/analysis_figures already exists.\n",
      "ERROR:root:Grid scan results could not be stored to glu_example/Bursty_Poisson_6x7/grid_scan_results.res.\n",
      "INFO:root:Runtime: 27.8 seconds.\n",
      "INFO:root:Grid points fit.\n",
      "INFO:root:Optimal parameters found.\n",
      "INFO:root:Optimal parameters saved.\n",
      "Layers with keys: unspliced, spliced\n",
      "['unspliced', 'spliced']\n",
      "INFO:root:AIC values calculated.\n",
      "INFO:root:Computing local Hessian.\n",
      "INFO:root:Starting non-parallelized Hessian computation.\n"
     ]
    },
    {
     "name": "stderr",
     "output_type": "stream",
     "text": [
      "/home/cat/monod/src/monod/inference.py:110: ImplicitModificationWarning: Trying to modify attribute `.var` of view, initializing view as actual.\n",
      "  monod_adata.var['param_' + param_name] = param_values\n"
     ]
    },
    {
     "name": "stdout",
     "output_type": "stream",
     "text": [
      "INFO:root:Non-parallelized Hessian computation complete.\n",
      "INFO:root:Gene 0 gives negative stdev; replaced with mean. (Search converged to local minimum?)\n",
      "INFO:root:Gene 2 gives negative stdev; replaced with mean. (Search converged to local minimum?)\n",
      "INFO:root:Standard error of the MLE computation complete. Runtime: 1.1 seconds.\n",
      "INFO:root:Uncertainties per gene calculated.\n"
     ]
    },
    {
     "name": "stderr",
     "output_type": "stream",
     "text": [
      "/home/cat/monod/src/monod/inference.py:1753: RuntimeWarning: invalid value encountered in sqrt\n",
      "  sigma[gene_index, :] = np.sqrt(np.diag(hess_inv)) / np.sqrt(\n"
     ]
    }
   ],
   "source": [
    "glu_adata = inference.perform_inference('./glu_example.h5ad', fitmodel, n_genes=5, seed=4, genes_to_fit=DE_genes,\n",
    "                                       phys_lb=lb, phys_ub=ub, gridsize=grid, samp_lb=samp_lb, samp_ub=samp_ub, gradient_params = {'max_iterations':5,'init_pattern':'moments','num_restarts':1}) #['Eif5b', 'Thsd7b', 'Fbxw2', 'Otud7a', 'Asah1'])glu_adata = inference.perform_inference('./glu_example.h5ad', fitmodel, n_genes=5, seed=4, genes_to_fit=DE_genes,"
   ]
  },
  {
   "cell_type": "code",
   "execution_count": 637,
   "metadata": {},
   "outputs": [
    {
     "name": "stdout",
     "output_type": "stream",
     "text": [
      "INFO:root:Directory glu_example already exists.\n",
      "INFO:root:Beginning data extraction.\n",
      "INFO:root:Dataset: glu_example\n"
     ]
    },
    {
     "name": "stderr",
     "output_type": "stream",
     "text": [
      "/home/cat/.conda/envs/myenv/lib/python3.12/site-packages/anndata/_core/anndata.py:1820: UserWarning: Variable names are not unique. To make them unique, call `.var_names_make_unique`.\n",
      "  utils.warn_names_duplicates(\"var\")\n",
      "/home/cat/.conda/envs/myenv/lib/python3.12/site-packages/anndata/_core/anndata.py:1820: UserWarning: Variable names are not unique. To make them unique, call `.var_names_make_unique`.\n",
      "  utils.warn_names_duplicates(\"var\")\n"
     ]
    },
    {
     "name": "stdout",
     "output_type": "stream",
     "text": [
      "is sparse\n"
     ]
    },
    {
     "name": "stderr",
     "output_type": "stream",
     "text": [
      "/home/cat/.conda/envs/myenv/lib/python3.12/site-packages/anndata/_core/anndata.py:1820: UserWarning: Variable names are not unique. To make them unique, call `.var_names_make_unique`.\n",
      "  utils.warn_names_duplicates(\"var\")\n",
      "/home/cat/.conda/envs/myenv/lib/python3.12/site-packages/anndata/_core/anndata.py:1820: UserWarning: Variable names are not unique. To make them unique, call `.var_names_make_unique`.\n",
      "  utils.warn_names_duplicates(\"var\")\n"
     ]
    },
    {
     "name": "stdout",
     "output_type": "stream",
     "text": [
      "INFO:root:6629 cells detected.\n"
     ]
    },
    {
     "name": "stderr",
     "output_type": "stream",
     "text": [
      "/home/cat/.conda/envs/myenv/lib/python3.12/site-packages/anndata/_core/anndata.py:1820: UserWarning: Variable names are not unique. To make them unique, call `.var_names_make_unique`.\n",
      "  utils.warn_names_duplicates(\"var\")\n"
     ]
    },
    {
     "name": "stdout",
     "output_type": "stream",
     "text": [
      "5545 genes retained after expression filter.\n",
      "INFO:root:0 random genes selected.\n",
      "INFO:root:Total of 5 genes selected.\n",
      "['spliced', 'unspliced'] previous ordering\n",
      "['spliced', 'unspliced'] ordered for histogram\n",
      "INFO:root:Data extracted\n",
      "LayersView with keys: spliced, unspliced\n",
      "['spliced', 'unspliced']\n",
      "INFO:root:Search data created.\n",
      "INFO:root:Directory glu_example/Bursty_Poisson_6x7 already exists.\n",
      "ERROR:root:Global inference parameters could not be stored to glu_example/Bursty_Poisson_6x7/parameters.pr.\n",
      "INFO:root:Global inference parameters set.\n",
      "INFO:root:Starting non-parallelized grid scan.\n",
      "INFO:root:Non-parallelized grid scan complete.\n",
      "INFO:root:All grid point data cleaned from disk.\n",
      "INFO:root:Directory glu_example/Bursty_Poisson_6x7/analysis_figures already exists.\n",
      "ERROR:root:Grid scan results could not be stored to glu_example/Bursty_Poisson_6x7/grid_scan_results.res.\n",
      "INFO:root:Runtime: 25.7 seconds.\n",
      "INFO:root:Grid points fit.\n",
      "INFO:root:Optimal parameters found.\n",
      "INFO:root:Optimal parameters saved.\n",
      "Layers with keys: spliced, unspliced\n",
      "['spliced', 'unspliced']\n",
      "INFO:root:AIC values calculated.\n",
      "INFO:root:Computing local Hessian.\n",
      "INFO:root:Starting non-parallelized Hessian computation.\n"
     ]
    },
    {
     "name": "stderr",
     "output_type": "stream",
     "text": [
      "/home/cat/monod/src/monod/inference.py:110: ImplicitModificationWarning: Trying to modify attribute `.var` of view, initializing view as actual.\n",
      "  monod_adata.var['param_' + param_name] = param_values\n"
     ]
    },
    {
     "name": "stdout",
     "output_type": "stream",
     "text": [
      "INFO:root:Non-parallelized Hessian computation complete.\n",
      "INFO:root:Gene 4 gives negative stdev; replaced with mean. (Search converged to local minimum?)\n",
      "INFO:root:Standard error of the MLE computation complete. Runtime: 1.1 seconds.\n",
      "INFO:root:Uncertainties per gene calculated.\n"
     ]
    },
    {
     "name": "stderr",
     "output_type": "stream",
     "text": [
      "/home/cat/monod/src/monod/inference.py:1753: RuntimeWarning: invalid value encountered in sqrt\n",
      "  sigma[gene_index, :] = np.sqrt(np.diag(hess_inv)) / np.sqrt(\n"
     ]
    }
   ],
   "source": [
    "back_glu_adata = inference.perform_inference('./glu_example.h5ad', fitmodel, n_genes=5, seed=4, genes_to_fit=DE_genes,\n",
    "                                       phys_lb=lb, phys_ub=ub, gridsize=grid, samp_lb=samp_lb, samp_ub=samp_ub, gradient_params = {'max_iterations':5,'init_pattern':'moments','num_restarts':1}#,#),\n",
    "                                        ,modality_name_dict={'spliced':'unspliced', 'unspliced': 'spliced'})"
   ]
  },
  {
   "cell_type": "code",
   "execution_count": 638,
   "metadata": {},
   "outputs": [
    {
     "data": {
      "text/html": [
       "<div>\n",
       "<style scoped>\n",
       "    .dataframe tbody tr th:only-of-type {\n",
       "        vertical-align: middle;\n",
       "    }\n",
       "\n",
       "    .dataframe tbody tr th {\n",
       "        vertical-align: top;\n",
       "    }\n",
       "\n",
       "    .dataframe thead th {\n",
       "        text-align: right;\n",
       "    }\n",
       "</style>\n",
       "<table border=\"1\" class=\"dataframe\">\n",
       "  <thead>\n",
       "    <tr style=\"text-align: right;\">\n",
       "      <th></th>\n",
       "      <th>param_$\\log_{10} b$</th>\n",
       "      <th>param_$\\log_{10} \\beta$</th>\n",
       "      <th>param_$\\log_{10} \\gamma$</th>\n",
       "    </tr>\n",
       "    <tr>\n",
       "      <th>gene_name</th>\n",
       "      <th></th>\n",
       "      <th></th>\n",
       "      <th></th>\n",
       "    </tr>\n",
       "  </thead>\n",
       "  <tbody>\n",
       "    <tr>\n",
       "      <th>Rspo3</th>\n",
       "      <td>4.181864</td>\n",
       "      <td>-0.088779</td>\n",
       "      <td>1.946648</td>\n",
       "    </tr>\n",
       "    <tr>\n",
       "      <th>Vrk1</th>\n",
       "      <td>4.163138</td>\n",
       "      <td>0.026476</td>\n",
       "      <td>2.113753</td>\n",
       "    </tr>\n",
       "    <tr>\n",
       "      <th>Erbin</th>\n",
       "      <td>4.200000</td>\n",
       "      <td>0.347422</td>\n",
       "      <td>2.290103</td>\n",
       "    </tr>\n",
       "    <tr>\n",
       "      <th>Rcan3</th>\n",
       "      <td>4.200000</td>\n",
       "      <td>0.608347</td>\n",
       "      <td>3.119962</td>\n",
       "    </tr>\n",
       "    <tr>\n",
       "      <th>Clic4</th>\n",
       "      <td>4.200000</td>\n",
       "      <td>0.720419</td>\n",
       "      <td>3.028685</td>\n",
       "    </tr>\n",
       "  </tbody>\n",
       "</table>\n",
       "</div>"
      ],
      "text/plain": [
       "           param_$\\log_{10} b$  param_$\\log_{10} \\beta$  \\\n",
       "gene_name                                                 \n",
       "Rspo3                 4.181864                -0.088779   \n",
       "Vrk1                  4.163138                 0.026476   \n",
       "Erbin                 4.200000                 0.347422   \n",
       "Rcan3                 4.200000                 0.608347   \n",
       "Clic4                 4.200000                 0.720419   \n",
       "\n",
       "           param_$\\log_{10} \\gamma$  \n",
       "gene_name                            \n",
       "Rspo3                      1.946648  \n",
       "Vrk1                       2.113753  \n",
       "Erbin                      2.290103  \n",
       "Rcan3                      3.119962  \n",
       "Clic4                      3.028685  "
      ]
     },
     "metadata": {},
     "output_type": "display_data"
    },
    {
     "data": {
      "text/html": [
       "<div>\n",
       "<style scoped>\n",
       "    .dataframe tbody tr th:only-of-type {\n",
       "        vertical-align: middle;\n",
       "    }\n",
       "\n",
       "    .dataframe tbody tr th {\n",
       "        vertical-align: top;\n",
       "    }\n",
       "\n",
       "    .dataframe thead th {\n",
       "        text-align: right;\n",
       "    }\n",
       "</style>\n",
       "<table border=\"1\" class=\"dataframe\">\n",
       "  <thead>\n",
       "    <tr style=\"text-align: right;\">\n",
       "      <th></th>\n",
       "      <th>param_$\\log_{10} b$</th>\n",
       "      <th>param_$\\log_{10} \\beta$</th>\n",
       "      <th>param_$\\log_{10} \\gamma$</th>\n",
       "    </tr>\n",
       "    <tr>\n",
       "      <th>gene_name</th>\n",
       "      <th></th>\n",
       "      <th></th>\n",
       "      <th></th>\n",
       "    </tr>\n",
       "  </thead>\n",
       "  <tbody>\n",
       "    <tr>\n",
       "      <th>Rspo3</th>\n",
       "      <td>4.200000</td>\n",
       "      <td>-0.483785</td>\n",
       "      <td>2.288926</td>\n",
       "    </tr>\n",
       "    <tr>\n",
       "      <th>Vrk1</th>\n",
       "      <td>4.200000</td>\n",
       "      <td>-0.340463</td>\n",
       "      <td>2.569986</td>\n",
       "    </tr>\n",
       "    <tr>\n",
       "      <th>Erbin</th>\n",
       "      <td>4.179988</td>\n",
       "      <td>-0.227989</td>\n",
       "      <td>2.554428</td>\n",
       "    </tr>\n",
       "    <tr>\n",
       "      <th>Rcan3</th>\n",
       "      <td>4.200000</td>\n",
       "      <td>0.660918</td>\n",
       "      <td>3.062265</td>\n",
       "    </tr>\n",
       "    <tr>\n",
       "      <th>Clic4</th>\n",
       "      <td>4.056131</td>\n",
       "      <td>0.931859</td>\n",
       "      <td>3.302492</td>\n",
       "    </tr>\n",
       "  </tbody>\n",
       "</table>\n",
       "</div>"
      ],
      "text/plain": [
       "           param_$\\log_{10} b$  param_$\\log_{10} \\beta$  \\\n",
       "gene_name                                                 \n",
       "Rspo3                 4.200000                -0.483785   \n",
       "Vrk1                  4.200000                -0.340463   \n",
       "Erbin                 4.179988                -0.227989   \n",
       "Rcan3                 4.200000                 0.660918   \n",
       "Clic4                 4.056131                 0.931859   \n",
       "\n",
       "           param_$\\log_{10} \\gamma$  \n",
       "gene_name                            \n",
       "Rspo3                      2.288926  \n",
       "Vrk1                       2.569986  \n",
       "Erbin                      2.554428  \n",
       "Rcan3                      3.062265  \n",
       "Clic4                      3.302492  "
      ]
     },
     "metadata": {},
     "output_type": "display_data"
    }
   ],
   "source": [
    "display(back_glu_adata.var[[i for i in new_adata.var.keys() if 'param' in i]])\n",
    "display(glu_adata.var[[i for i in new_adata.var.keys() if 'param' in i]])"
   ]
  },
  {
   "cell_type": "code",
   "execution_count": 639,
   "metadata": {},
   "outputs": [
    {
     "data": {
      "text/html": [
       "<div>\n",
       "<style scoped>\n",
       "    .dataframe tbody tr th:only-of-type {\n",
       "        vertical-align: middle;\n",
       "    }\n",
       "\n",
       "    .dataframe tbody tr th {\n",
       "        vertical-align: top;\n",
       "    }\n",
       "\n",
       "    .dataframe thead th {\n",
       "        text-align: right;\n",
       "    }\n",
       "</style>\n",
       "<table border=\"1\" class=\"dataframe\">\n",
       "  <thead>\n",
       "    <tr style=\"text-align: right;\">\n",
       "      <th></th>\n",
       "      <th>param_$\\log_{10} b$</th>\n",
       "      <th>param_$\\log_{10} \\beta$</th>\n",
       "      <th>param_$\\log_{10} \\gamma$</th>\n",
       "    </tr>\n",
       "    <tr>\n",
       "      <th>gene_name</th>\n",
       "      <th></th>\n",
       "      <th></th>\n",
       "      <th></th>\n",
       "    </tr>\n",
       "  </thead>\n",
       "  <tbody>\n",
       "    <tr>\n",
       "      <th>Eif5b</th>\n",
       "      <td>4.200000</td>\n",
       "      <td>-0.683932</td>\n",
       "      <td>1.689995</td>\n",
       "    </tr>\n",
       "    <tr>\n",
       "      <th>Xrcc5</th>\n",
       "      <td>4.200000</td>\n",
       "      <td>-0.648089</td>\n",
       "      <td>2.652908</td>\n",
       "    </tr>\n",
       "    <tr>\n",
       "      <th>Klhl12</th>\n",
       "      <td>4.200000</td>\n",
       "      <td>-0.555310</td>\n",
       "      <td>2.568250</td>\n",
       "    </tr>\n",
       "    <tr>\n",
       "      <th>Rgs7</th>\n",
       "      <td>4.200000</td>\n",
       "      <td>-1.800000</td>\n",
       "      <td>1.924777</td>\n",
       "    </tr>\n",
       "    <tr>\n",
       "      <th>Thsd7b</th>\n",
       "      <td>4.064239</td>\n",
       "      <td>-1.433109</td>\n",
       "      <td>3.003605</td>\n",
       "    </tr>\n",
       "  </tbody>\n",
       "</table>\n",
       "</div>"
      ],
      "text/plain": [
       "           param_$\\log_{10} b$  param_$\\log_{10} \\beta$  \\\n",
       "gene_name                                                 \n",
       "Eif5b                 4.200000                -0.683932   \n",
       "Xrcc5                 4.200000                -0.648089   \n",
       "Klhl12                4.200000                -0.555310   \n",
       "Rgs7                  4.200000                -1.800000   \n",
       "Thsd7b                4.064239                -1.433109   \n",
       "\n",
       "           param_$\\log_{10} \\gamma$  \n",
       "gene_name                            \n",
       "Eif5b                      1.689995  \n",
       "Xrcc5                      2.652908  \n",
       "Klhl12                     2.568250  \n",
       "Rgs7                       1.924777  \n",
       "Thsd7b                     3.003605  "
      ]
     },
     "metadata": {},
     "output_type": "display_data"
    },
    {
     "data": {
      "text/html": [
       "<div>\n",
       "<style scoped>\n",
       "    .dataframe tbody tr th:only-of-type {\n",
       "        vertical-align: middle;\n",
       "    }\n",
       "\n",
       "    .dataframe tbody tr th {\n",
       "        vertical-align: top;\n",
       "    }\n",
       "\n",
       "    .dataframe thead th {\n",
       "        text-align: right;\n",
       "    }\n",
       "</style>\n",
       "<table border=\"1\" class=\"dataframe\">\n",
       "  <thead>\n",
       "    <tr style=\"text-align: right;\">\n",
       "      <th></th>\n",
       "      <th>param_$\\log_{10} b$</th>\n",
       "      <th>param_$\\log_{10} \\beta$</th>\n",
       "      <th>param_$\\log_{10} \\gamma$</th>\n",
       "    </tr>\n",
       "    <tr>\n",
       "      <th>gene_name</th>\n",
       "      <th></th>\n",
       "      <th></th>\n",
       "      <th></th>\n",
       "    </tr>\n",
       "  </thead>\n",
       "  <tbody>\n",
       "    <tr>\n",
       "      <th>Eif5b</th>\n",
       "      <td>4.200000</td>\n",
       "      <td>-1.304080</td>\n",
       "      <td>1.790092</td>\n",
       "    </tr>\n",
       "    <tr>\n",
       "      <th>Xrcc5</th>\n",
       "      <td>4.199995</td>\n",
       "      <td>-0.716017</td>\n",
       "      <td>2.148833</td>\n",
       "    </tr>\n",
       "    <tr>\n",
       "      <th>Klhl12</th>\n",
       "      <td>4.200000</td>\n",
       "      <td>-0.419430</td>\n",
       "      <td>1.931197</td>\n",
       "    </tr>\n",
       "    <tr>\n",
       "      <th>Rgs7</th>\n",
       "      <td>4.200000</td>\n",
       "      <td>-1.058574</td>\n",
       "      <td>-1.800000</td>\n",
       "    </tr>\n",
       "    <tr>\n",
       "      <th>Thsd7b</th>\n",
       "      <td>2.178580</td>\n",
       "      <td>-1.727157</td>\n",
       "      <td>-0.604352</td>\n",
       "    </tr>\n",
       "  </tbody>\n",
       "</table>\n",
       "</div>"
      ],
      "text/plain": [
       "           param_$\\log_{10} b$  param_$\\log_{10} \\beta$  \\\n",
       "gene_name                                                 \n",
       "Eif5b                 4.200000                -1.304080   \n",
       "Xrcc5                 4.199995                -0.716017   \n",
       "Klhl12                4.200000                -0.419430   \n",
       "Rgs7                  4.200000                -1.058574   \n",
       "Thsd7b                2.178580                -1.727157   \n",
       "\n",
       "           param_$\\log_{10} \\gamma$  \n",
       "gene_name                            \n",
       "Eif5b                      1.790092  \n",
       "Xrcc5                      2.148833  \n",
       "Klhl12                     1.931197  \n",
       "Rgs7                      -1.800000  \n",
       "Thsd7b                    -0.604352  "
      ]
     },
     "metadata": {},
     "output_type": "display_data"
    }
   ],
   "source": [
    "display(gaba_adata.var[[i for i in new_adata.var.keys() if 'param' in i]])\n",
    "display(back_gaba_adata.var[[i for i in new_adata.var.keys() if 'param' in i]])\n"
   ]
  },
  {
   "cell_type": "code",
   "execution_count": 624,
   "metadata": {},
   "outputs": [
    {
     "data": {
      "text/html": [
       "<div>\n",
       "<style scoped>\n",
       "    .dataframe tbody tr th:only-of-type {\n",
       "        vertical-align: middle;\n",
       "    }\n",
       "\n",
       "    .dataframe tbody tr th {\n",
       "        vertical-align: top;\n",
       "    }\n",
       "\n",
       "    .dataframe thead th {\n",
       "        text-align: right;\n",
       "    }\n",
       "</style>\n",
       "<table border=\"1\" class=\"dataframe\">\n",
       "  <thead>\n",
       "    <tr style=\"text-align: right;\">\n",
       "      <th></th>\n",
       "      <th>param_$\\log_{10} b$</th>\n",
       "      <th>param_$\\log_{10} \\beta$</th>\n",
       "      <th>param_$\\log_{10} \\gamma$</th>\n",
       "    </tr>\n",
       "    <tr>\n",
       "      <th>gene_name</th>\n",
       "      <th></th>\n",
       "      <th></th>\n",
       "      <th></th>\n",
       "    </tr>\n",
       "  </thead>\n",
       "  <tbody>\n",
       "    <tr>\n",
       "      <th>Eif5b</th>\n",
       "      <td>4.200000</td>\n",
       "      <td>-0.683932</td>\n",
       "      <td>1.689995</td>\n",
       "    </tr>\n",
       "    <tr>\n",
       "      <th>Xrcc5</th>\n",
       "      <td>4.200000</td>\n",
       "      <td>-0.648089</td>\n",
       "      <td>2.652908</td>\n",
       "    </tr>\n",
       "    <tr>\n",
       "      <th>Klhl12</th>\n",
       "      <td>4.200000</td>\n",
       "      <td>-0.555310</td>\n",
       "      <td>2.568250</td>\n",
       "    </tr>\n",
       "    <tr>\n",
       "      <th>Rgs7</th>\n",
       "      <td>4.200000</td>\n",
       "      <td>-1.800000</td>\n",
       "      <td>1.924777</td>\n",
       "    </tr>\n",
       "    <tr>\n",
       "      <th>Thsd7b</th>\n",
       "      <td>4.064239</td>\n",
       "      <td>-1.433109</td>\n",
       "      <td>3.003605</td>\n",
       "    </tr>\n",
       "  </tbody>\n",
       "</table>\n",
       "</div>"
      ],
      "text/plain": [
       "           param_$\\log_{10} b$  param_$\\log_{10} \\beta$  \\\n",
       "gene_name                                                 \n",
       "Eif5b                 4.200000                -0.683932   \n",
       "Xrcc5                 4.200000                -0.648089   \n",
       "Klhl12                4.200000                -0.555310   \n",
       "Rgs7                  4.200000                -1.800000   \n",
       "Thsd7b                4.064239                -1.433109   \n",
       "\n",
       "           param_$\\log_{10} \\gamma$  \n",
       "gene_name                            \n",
       "Eif5b                      1.689995  \n",
       "Xrcc5                      2.652908  \n",
       "Klhl12                     2.568250  \n",
       "Rgs7                       1.924777  \n",
       "Thsd7b                     3.003605  "
      ]
     },
     "metadata": {},
     "output_type": "display_data"
    },
    {
     "data": {
      "text/html": [
       "<div>\n",
       "<style scoped>\n",
       "    .dataframe tbody tr th:only-of-type {\n",
       "        vertical-align: middle;\n",
       "    }\n",
       "\n",
       "    .dataframe tbody tr th {\n",
       "        vertical-align: top;\n",
       "    }\n",
       "\n",
       "    .dataframe thead th {\n",
       "        text-align: right;\n",
       "    }\n",
       "</style>\n",
       "<table border=\"1\" class=\"dataframe\">\n",
       "  <thead>\n",
       "    <tr style=\"text-align: right;\">\n",
       "      <th></th>\n",
       "      <th>param_$\\log_{10} b$</th>\n",
       "      <th>param_$\\log_{10} \\beta$</th>\n",
       "      <th>param_$\\log_{10} \\gamma$</th>\n",
       "    </tr>\n",
       "    <tr>\n",
       "      <th>gene_name</th>\n",
       "      <th></th>\n",
       "      <th></th>\n",
       "      <th></th>\n",
       "    </tr>\n",
       "  </thead>\n",
       "  <tbody>\n",
       "    <tr>\n",
       "      <th>Eif5b</th>\n",
       "      <td>4.200000</td>\n",
       "      <td>-1.304080</td>\n",
       "      <td>1.790092</td>\n",
       "    </tr>\n",
       "    <tr>\n",
       "      <th>Xrcc5</th>\n",
       "      <td>4.199995</td>\n",
       "      <td>-0.716017</td>\n",
       "      <td>2.148833</td>\n",
       "    </tr>\n",
       "    <tr>\n",
       "      <th>Klhl12</th>\n",
       "      <td>4.200000</td>\n",
       "      <td>-0.419430</td>\n",
       "      <td>1.931197</td>\n",
       "    </tr>\n",
       "    <tr>\n",
       "      <th>Rgs7</th>\n",
       "      <td>4.200000</td>\n",
       "      <td>-1.058574</td>\n",
       "      <td>-1.800000</td>\n",
       "    </tr>\n",
       "    <tr>\n",
       "      <th>Thsd7b</th>\n",
       "      <td>2.178580</td>\n",
       "      <td>-1.727157</td>\n",
       "      <td>-0.604352</td>\n",
       "    </tr>\n",
       "  </tbody>\n",
       "</table>\n",
       "</div>"
      ],
      "text/plain": [
       "           param_$\\log_{10} b$  param_$\\log_{10} \\beta$  \\\n",
       "gene_name                                                 \n",
       "Eif5b                 4.200000                -1.304080   \n",
       "Xrcc5                 4.199995                -0.716017   \n",
       "Klhl12                4.200000                -0.419430   \n",
       "Rgs7                  4.200000                -1.058574   \n",
       "Thsd7b                2.178580                -1.727157   \n",
       "\n",
       "           param_$\\log_{10} \\gamma$  \n",
       "gene_name                            \n",
       "Eif5b                      1.790092  \n",
       "Xrcc5                      2.148833  \n",
       "Klhl12                     1.931197  \n",
       "Rgs7                      -1.800000  \n",
       "Thsd7b                    -0.604352  "
      ]
     },
     "metadata": {},
     "output_type": "display_data"
    }
   ],
   "source": [
    "display(gaba_adata.var[[i for i in new_adata.var.keys() if 'param' in i]])\n",
    "display(back_gaba_adata.var[[i for i in new_adata.var.keys() if 'param' in i]])\n"
   ]
  },
  {
   "cell_type": "code",
   "execution_count": 489,
   "metadata": {},
   "outputs": [],
   "source": [
    "# # NB currently can't save whole object to file since some .uns attributes cannot be pickled.\n",
    "# gaba_adata.write('gaba_fit.h5ad')\n",
    "# gaba_adata.write('glu_fit.h5ad')"
   ]
  },
  {
   "cell_type": "markdown",
   "metadata": {},
   "source": [
    "## Access gene info."
   ]
  },
  {
   "cell_type": "code",
   "execution_count": 606,
   "metadata": {},
   "outputs": [
    {
     "data": {
      "text/html": [
       "<div>\n",
       "<style scoped>\n",
       "    .dataframe tbody tr th:only-of-type {\n",
       "        vertical-align: middle;\n",
       "    }\n",
       "\n",
       "    .dataframe tbody tr th {\n",
       "        vertical-align: top;\n",
       "    }\n",
       "\n",
       "    .dataframe thead th {\n",
       "        text-align: right;\n",
       "    }\n",
       "</style>\n",
       "<table border=\"1\" class=\"dataframe\">\n",
       "  <thead>\n",
       "    <tr style=\"text-align: right;\">\n",
       "      <th></th>\n",
       "      <th>AIC</th>\n",
       "    </tr>\n",
       "    <tr>\n",
       "      <th>gene_name</th>\n",
       "      <th></th>\n",
       "    </tr>\n",
       "  </thead>\n",
       "  <tbody>\n",
       "    <tr>\n",
       "      <th>Rspo3</th>\n",
       "      <td>22303.067618</td>\n",
       "    </tr>\n",
       "    <tr>\n",
       "      <th>Vrk1</th>\n",
       "      <td>15973.499341</td>\n",
       "    </tr>\n",
       "    <tr>\n",
       "      <th>Erbin</th>\n",
       "      <td>14245.800285</td>\n",
       "    </tr>\n",
       "    <tr>\n",
       "      <th>Rcan3</th>\n",
       "      <td>4456.918682</td>\n",
       "    </tr>\n",
       "    <tr>\n",
       "      <th>Clic4</th>\n",
       "      <td>2970.230804</td>\n",
       "    </tr>\n",
       "  </tbody>\n",
       "</table>\n",
       "</div>"
      ],
      "text/plain": [
       "                    AIC\n",
       "gene_name              \n",
       "Rspo3      22303.067618\n",
       "Vrk1       15973.499341\n",
       "Erbin      14245.800285\n",
       "Rcan3       4456.918682\n",
       "Clic4       2970.230804"
      ]
     },
     "metadata": {},
     "output_type": "display_data"
    },
    {
     "data": {
      "text/html": [
       "<div>\n",
       "<style scoped>\n",
       "    .dataframe tbody tr th:only-of-type {\n",
       "        vertical-align: middle;\n",
       "    }\n",
       "\n",
       "    .dataframe tbody tr th {\n",
       "        vertical-align: top;\n",
       "    }\n",
       "\n",
       "    .dataframe thead th {\n",
       "        text-align: right;\n",
       "    }\n",
       "</style>\n",
       "<table border=\"1\" class=\"dataframe\">\n",
       "  <thead>\n",
       "    <tr style=\"text-align: right;\">\n",
       "      <th></th>\n",
       "      <th>param_$\\log_{10} b$</th>\n",
       "      <th>param_$\\log_{10} \\beta$</th>\n",
       "      <th>param_$\\log_{10} \\gamma$</th>\n",
       "    </tr>\n",
       "    <tr>\n",
       "      <th>gene_name</th>\n",
       "      <th></th>\n",
       "      <th></th>\n",
       "      <th></th>\n",
       "    </tr>\n",
       "  </thead>\n",
       "  <tbody>\n",
       "    <tr>\n",
       "      <th>Rspo3</th>\n",
       "      <td>4.200000</td>\n",
       "      <td>-0.483785</td>\n",
       "      <td>2.288926</td>\n",
       "    </tr>\n",
       "    <tr>\n",
       "      <th>Vrk1</th>\n",
       "      <td>4.200000</td>\n",
       "      <td>-0.340463</td>\n",
       "      <td>2.569986</td>\n",
       "    </tr>\n",
       "    <tr>\n",
       "      <th>Erbin</th>\n",
       "      <td>4.179988</td>\n",
       "      <td>-0.227989</td>\n",
       "      <td>2.554428</td>\n",
       "    </tr>\n",
       "    <tr>\n",
       "      <th>Rcan3</th>\n",
       "      <td>4.200000</td>\n",
       "      <td>0.660918</td>\n",
       "      <td>3.062265</td>\n",
       "    </tr>\n",
       "    <tr>\n",
       "      <th>Clic4</th>\n",
       "      <td>4.056131</td>\n",
       "      <td>0.931859</td>\n",
       "      <td>3.302492</td>\n",
       "    </tr>\n",
       "  </tbody>\n",
       "</table>\n",
       "</div>"
      ],
      "text/plain": [
       "           param_$\\log_{10} b$  param_$\\log_{10} \\beta$  \\\n",
       "gene_name                                                 \n",
       "Rspo3                 4.200000                -0.483785   \n",
       "Vrk1                  4.200000                -0.340463   \n",
       "Erbin                 4.179988                -0.227989   \n",
       "Rcan3                 4.200000                 0.660918   \n",
       "Clic4                 4.056131                 0.931859   \n",
       "\n",
       "           param_$\\log_{10} \\gamma$  \n",
       "gene_name                            \n",
       "Rspo3                      2.288926  \n",
       "Vrk1                       2.569986  \n",
       "Erbin                      2.554428  \n",
       "Rcan3                      3.062265  \n",
       "Clic4                      3.302492  "
      ]
     },
     "metadata": {},
     "output_type": "display_data"
    },
    {
     "data": {
      "text/html": [
       "<div>\n",
       "<style scoped>\n",
       "    .dataframe tbody tr th:only-of-type {\n",
       "        vertical-align: middle;\n",
       "    }\n",
       "\n",
       "    .dataframe tbody tr th {\n",
       "        vertical-align: top;\n",
       "    }\n",
       "\n",
       "    .dataframe thead th {\n",
       "        text-align: right;\n",
       "    }\n",
       "</style>\n",
       "<table border=\"1\" class=\"dataframe\">\n",
       "  <thead>\n",
       "    <tr style=\"text-align: right;\">\n",
       "      <th></th>\n",
       "      <th>sigma_$\\log_{10} b$</th>\n",
       "      <th>sigma_$\\log_{10} \\beta$</th>\n",
       "      <th>sigma_$\\log_{10} \\gamma$</th>\n",
       "    </tr>\n",
       "    <tr>\n",
       "      <th>gene_name</th>\n",
       "      <th></th>\n",
       "      <th></th>\n",
       "      <th></th>\n",
       "    </tr>\n",
       "  </thead>\n",
       "  <tbody>\n",
       "    <tr>\n",
       "      <th>Rspo3</th>\n",
       "      <td>4.200000</td>\n",
       "      <td>-0.483785</td>\n",
       "      <td>2.288926</td>\n",
       "    </tr>\n",
       "    <tr>\n",
       "      <th>Vrk1</th>\n",
       "      <td>4.200000</td>\n",
       "      <td>-0.340463</td>\n",
       "      <td>2.569986</td>\n",
       "    </tr>\n",
       "    <tr>\n",
       "      <th>Erbin</th>\n",
       "      <td>4.179988</td>\n",
       "      <td>-0.227989</td>\n",
       "      <td>2.554428</td>\n",
       "    </tr>\n",
       "    <tr>\n",
       "      <th>Rcan3</th>\n",
       "      <td>4.200000</td>\n",
       "      <td>0.660918</td>\n",
       "      <td>3.062265</td>\n",
       "    </tr>\n",
       "    <tr>\n",
       "      <th>Clic4</th>\n",
       "      <td>4.056131</td>\n",
       "      <td>0.931859</td>\n",
       "      <td>3.302492</td>\n",
       "    </tr>\n",
       "  </tbody>\n",
       "</table>\n",
       "</div>"
      ],
      "text/plain": [
       "           sigma_$\\log_{10} b$  sigma_$\\log_{10} \\beta$  \\\n",
       "gene_name                                                 \n",
       "Rspo3                 4.200000                -0.483785   \n",
       "Vrk1                  4.200000                -0.340463   \n",
       "Erbin                 4.179988                -0.227989   \n",
       "Rcan3                 4.200000                 0.660918   \n",
       "Clic4                 4.056131                 0.931859   \n",
       "\n",
       "           sigma_$\\log_{10} \\gamma$  \n",
       "gene_name                            \n",
       "Rspo3                      2.288926  \n",
       "Vrk1                       2.569986  \n",
       "Erbin                      2.554428  \n",
       "Rcan3                      3.062265  \n",
       "Clic4                      3.302492  "
      ]
     },
     "metadata": {},
     "output_type": "display_data"
    }
   ],
   "source": [
    "# AIC.\n",
    "display(glu_adata.var[['AIC']])\n",
    "\n",
    "# Optimum biological parameters.\n",
    "display(glu_adata.var[[i for i in new_adata.var.keys() if 'param' in i]])\n",
    "\n",
    "# Uncertainties from Hessian.\n",
    "display(glu_adata.var[[i for i in new_adata.var.keys() if 'sigma' in i]])"
   ]
  },
  {
   "cell_type": "code",
   "execution_count": 610,
   "metadata": {},
   "outputs": [
    {
     "data": {
      "text/html": [
       "<div>\n",
       "<style scoped>\n",
       "    .dataframe tbody tr th:only-of-type {\n",
       "        vertical-align: middle;\n",
       "    }\n",
       "\n",
       "    .dataframe tbody tr th {\n",
       "        vertical-align: top;\n",
       "    }\n",
       "\n",
       "    .dataframe thead th {\n",
       "        text-align: right;\n",
       "    }\n",
       "</style>\n",
       "<table border=\"1\" class=\"dataframe\">\n",
       "  <thead>\n",
       "    <tr style=\"text-align: right;\">\n",
       "      <th></th>\n",
       "      <th>AIC</th>\n",
       "    </tr>\n",
       "    <tr>\n",
       "      <th>gene_name</th>\n",
       "      <th></th>\n",
       "    </tr>\n",
       "  </thead>\n",
       "  <tbody>\n",
       "    <tr>\n",
       "      <th>Rspo3</th>\n",
       "      <td>1176.232493</td>\n",
       "    </tr>\n",
       "    <tr>\n",
       "      <th>Vrk1</th>\n",
       "      <td>2947.318850</td>\n",
       "    </tr>\n",
       "    <tr>\n",
       "      <th>Erbin</th>\n",
       "      <td>5697.243341</td>\n",
       "    </tr>\n",
       "    <tr>\n",
       "      <th>Rcan3</th>\n",
       "      <td>2709.057468</td>\n",
       "    </tr>\n",
       "    <tr>\n",
       "      <th>Clic4</th>\n",
       "      <td>1920.020728</td>\n",
       "    </tr>\n",
       "  </tbody>\n",
       "</table>\n",
       "</div>"
      ],
      "text/plain": [
       "                   AIC\n",
       "gene_name             \n",
       "Rspo3      1176.232493\n",
       "Vrk1       2947.318850\n",
       "Erbin      5697.243341\n",
       "Rcan3      2709.057468\n",
       "Clic4      1920.020728"
      ]
     },
     "metadata": {},
     "output_type": "display_data"
    },
    {
     "data": {
      "text/html": [
       "<div>\n",
       "<style scoped>\n",
       "    .dataframe tbody tr th:only-of-type {\n",
       "        vertical-align: middle;\n",
       "    }\n",
       "\n",
       "    .dataframe tbody tr th {\n",
       "        vertical-align: top;\n",
       "    }\n",
       "\n",
       "    .dataframe thead th {\n",
       "        text-align: right;\n",
       "    }\n",
       "</style>\n",
       "<table border=\"1\" class=\"dataframe\">\n",
       "  <thead>\n",
       "    <tr style=\"text-align: right;\">\n",
       "      <th></th>\n",
       "      <th>param_$\\log_{10} b$</th>\n",
       "      <th>param_$\\log_{10} \\beta$</th>\n",
       "      <th>param_$\\log_{10} \\gamma$</th>\n",
       "    </tr>\n",
       "    <tr>\n",
       "      <th>gene_name</th>\n",
       "      <th></th>\n",
       "      <th></th>\n",
       "      <th></th>\n",
       "    </tr>\n",
       "  </thead>\n",
       "  <tbody>\n",
       "    <tr>\n",
       "      <th>Rspo3</th>\n",
       "      <td>4.2</td>\n",
       "      <td>-0.071408</td>\n",
       "      <td>3.262791</td>\n",
       "    </tr>\n",
       "    <tr>\n",
       "      <th>Vrk1</th>\n",
       "      <td>4.2</td>\n",
       "      <td>-0.538264</td>\n",
       "      <td>2.613994</td>\n",
       "    </tr>\n",
       "    <tr>\n",
       "      <th>Erbin</th>\n",
       "      <td>4.2</td>\n",
       "      <td>-1.313732</td>\n",
       "      <td>2.224259</td>\n",
       "    </tr>\n",
       "    <tr>\n",
       "      <th>Rcan3</th>\n",
       "      <td>4.2</td>\n",
       "      <td>-0.421463</td>\n",
       "      <td>2.473926</td>\n",
       "    </tr>\n",
       "    <tr>\n",
       "      <th>Clic4</th>\n",
       "      <td>4.2</td>\n",
       "      <td>0.348681</td>\n",
       "      <td>2.662354</td>\n",
       "    </tr>\n",
       "  </tbody>\n",
       "</table>\n",
       "</div>"
      ],
      "text/plain": [
       "           param_$\\log_{10} b$  param_$\\log_{10} \\beta$  \\\n",
       "gene_name                                                 \n",
       "Rspo3                      4.2                -0.071408   \n",
       "Vrk1                       4.2                -0.538264   \n",
       "Erbin                      4.2                -1.313732   \n",
       "Rcan3                      4.2                -0.421463   \n",
       "Clic4                      4.2                 0.348681   \n",
       "\n",
       "           param_$\\log_{10} \\gamma$  \n",
       "gene_name                            \n",
       "Rspo3                      3.262791  \n",
       "Vrk1                       2.613994  \n",
       "Erbin                      2.224259  \n",
       "Rcan3                      2.473926  \n",
       "Clic4                      2.662354  "
      ]
     },
     "metadata": {},
     "output_type": "display_data"
    },
    {
     "data": {
      "text/html": [
       "<div>\n",
       "<style scoped>\n",
       "    .dataframe tbody tr th:only-of-type {\n",
       "        vertical-align: middle;\n",
       "    }\n",
       "\n",
       "    .dataframe tbody tr th {\n",
       "        vertical-align: top;\n",
       "    }\n",
       "\n",
       "    .dataframe thead th {\n",
       "        text-align: right;\n",
       "    }\n",
       "</style>\n",
       "<table border=\"1\" class=\"dataframe\">\n",
       "  <thead>\n",
       "    <tr style=\"text-align: right;\">\n",
       "      <th></th>\n",
       "      <th>sigma_$\\log_{10} b$</th>\n",
       "      <th>sigma_$\\log_{10} \\beta$</th>\n",
       "      <th>sigma_$\\log_{10} \\gamma$</th>\n",
       "    </tr>\n",
       "    <tr>\n",
       "      <th>gene_name</th>\n",
       "      <th></th>\n",
       "      <th></th>\n",
       "      <th></th>\n",
       "    </tr>\n",
       "  </thead>\n",
       "  <tbody>\n",
       "    <tr>\n",
       "      <th>Rspo3</th>\n",
       "      <td>4.2</td>\n",
       "      <td>-0.071408</td>\n",
       "      <td>3.262791</td>\n",
       "    </tr>\n",
       "    <tr>\n",
       "      <th>Vrk1</th>\n",
       "      <td>4.2</td>\n",
       "      <td>-0.538264</td>\n",
       "      <td>2.613994</td>\n",
       "    </tr>\n",
       "    <tr>\n",
       "      <th>Erbin</th>\n",
       "      <td>4.2</td>\n",
       "      <td>-1.313732</td>\n",
       "      <td>2.224259</td>\n",
       "    </tr>\n",
       "    <tr>\n",
       "      <th>Rcan3</th>\n",
       "      <td>4.2</td>\n",
       "      <td>-0.421463</td>\n",
       "      <td>2.473926</td>\n",
       "    </tr>\n",
       "    <tr>\n",
       "      <th>Clic4</th>\n",
       "      <td>4.2</td>\n",
       "      <td>0.348681</td>\n",
       "      <td>2.662354</td>\n",
       "    </tr>\n",
       "  </tbody>\n",
       "</table>\n",
       "</div>"
      ],
      "text/plain": [
       "           sigma_$\\log_{10} b$  sigma_$\\log_{10} \\beta$  \\\n",
       "gene_name                                                 \n",
       "Rspo3                      4.2                -0.071408   \n",
       "Vrk1                       4.2                -0.538264   \n",
       "Erbin                      4.2                -1.313732   \n",
       "Rcan3                      4.2                -0.421463   \n",
       "Clic4                      4.2                 0.348681   \n",
       "\n",
       "           sigma_$\\log_{10} \\gamma$  \n",
       "gene_name                            \n",
       "Rspo3                      3.262791  \n",
       "Vrk1                       2.613994  \n",
       "Erbin                      2.224259  \n",
       "Rcan3                      2.473926  \n",
       "Clic4                      2.662354  "
      ]
     },
     "metadata": {},
     "output_type": "display_data"
    }
   ],
   "source": [
    "# AIC.\n",
    "display(gaba_adata.var[['AIC']])\n",
    "\n",
    "# Optimum biological parameters.\n",
    "display(gaba_adata.var[[i for i in new_adata.var.keys() if 'param' in i]])\n",
    "\n",
    "# Uncertainties from Hessian.\n",
    "display(gaba_adata.var[[i for i in new_adata.var.keys() if 'sigma' in i]])"
   ]
  },
  {
   "cell_type": "markdown",
   "metadata": {
    "id": "gzCkJYD0Jyiy"
   },
   "source": [
    "Plot parameter distributions."
   ]
  },
  {
   "cell_type": "code",
   "execution_count": 540,
   "metadata": {},
   "outputs": [
    {
     "data": {
      "image/png": "[encoded data removed]",
      "text/plain": [
       "<Figure size 640x480 with 1 Axes>"
      ]
     },
     "metadata": {},
     "output_type": "display_data"
    },
    {
     "data": {
      "image/png": "[encoded data removed]",
      "text/plain": [
       "<Figure size 640x480 with 1 Axes>"
      ]
     },
     "metadata": {},
     "output_type": "display_data"
    },
    {
     "data": {
      "image/png": "[encoded data removed]",
      "text/plain": [
       "<Figure size 640x480 with 1 Axes>"
      ]
     },
     "metadata": {},
     "output_type": "display_data"
    }
   ],
   "source": [
    "param_names = [i for i in new_adata.var.keys() if 'param' in i]\n",
    "for name in param_names:\n",
    "    plt.hist(glu_adata.var[name], bins=20)\n",
    "    plt.title('Parameter ' + name[6:])\n",
    "    plt.xlabel('Parameter Value')\n",
    "    plt.ylabel('Frequency')\n",
    "    # plt.savefig(search_result.inference_string + '/parameter_dist_'+ str(i))#'/parameter_dist_{}'.format(\n",
    "    plt.show()"
   ]
  },
  {
   "cell_type": "markdown",
   "metadata": {
    "id": "vI_ciNys-_8y"
   },
   "source": [
    "# Analysis (to be implemented)"
   ]
  },
  {
   "cell_type": "markdown",
   "metadata": {
    "id": "f_zh41Ob_Bmu"
   },
   "source": [
    "## Reject genes."
   ]
  },
  {
   "cell_type": "code",
   "execution_count": null,
   "metadata": {},
   "outputs": [],
   "source": [
    "# # Add rejection filter to adata.\n",
    "gaba_adata = inference.reject_genes(gaba_adata, reject_at_bounds=False)#, threshold=-1, use_hellinger=False, reject_at_bounds=False)\n",
    "glu_adata = inference.reject_genes(glu_adata, reject_at_bounds=False)#, threshold=-1, use_hellinger=False, reject_at_bounds=False)\n",
    "\n",
    "# Show rejected genes.\n",
    "display(glu_adata.var[['rejected_genes', 'csq', 'pval']])\n",
    "display(gaba_adata.var[['rejected_genes', 'csq', 'pval']])\n",
    "\n",
    "# # Save chi-square values.\n",
    "chi_squareds_glu,  chi_squareds_gaba = glu_adata.var['csq'], gaba_adata.var['csq']"
   ]
  },
  {
   "cell_type": "markdown",
   "metadata": {},
   "source": [
    "## Execute differential expression analysis."
   ]
  },
  {
   "cell_type": "code",
   "execution_count": 543,
   "metadata": {},
   "outputs": [
    {
     "name": "stderr",
     "output_type": "stream",
     "text": [
      "/home/cat/.conda/envs/myenv/lib/python3.12/site-packages/scipy/stats/_distn_infrastructure.py:1986: RuntimeWarning: divide by zero encountered in divide\n",
      "  x = np.asarray((x - loc)/scale, dtype=dtyp)\n",
      "/home/cat/monod/src/monod/analysis.py:758: RuntimeWarning: divide by zero encountered in divide\n",
      "  z = (resid - fitparams[0]) / fitparams[1]\n",
      "/home/cat/monod/src/monod/analysis.py:758: RuntimeWarning: invalid value encountered in divide\n",
      "  z = (resid - fitparams[0]) / fitparams[1]\n"
     ]
    },
    {
     "data": {
      "image/png": "[encoded data removed]",
      "text/plain": [
       "<Figure size 1200x400 with 3 Axes>"
      ]
     },
     "metadata": {},
     "output_type": "display_data"
    }
   ],
   "source": [
    "# Compute FCs and p-values between groups in adata.\n",
    "# This function should also store this information as .uns matrices in adata.\n",
    "\n",
    "DE_genes, DE_filter, offs, residuals = analysis.DE_parameters(glu_adata, gaba_adata, viz=True, pval_thr=0.1)\n",
    "\n",
    "# # For two different objects, this is implemented in Monod.\n",
    "# gn: list of lists of str\n",
    "#         list of size n_phys_pars. each entry contains names of genes identified as DE with respect\n",
    "#         to each parameter.\n",
    "#     gf: bool np.ndarray\n",
    "#         an n_phys_pars x n_genes array. if True, the gene has been identified as DE with respect to\n",
    "#         the parameter.\n",
    "#     offs: float np.ndarray\n",
    "#         an n_phys_pars x n_model_pars array. contains (b) or (b,a) for each physical parameter.\n",
    "#         b should typically be fairly small (under 0.5).\n",
    "#     resid: float np.ndarray\n",
    "#         an n_phys_pars x n_genes array. contains residuals for each parameter under the final\n",
    "#         fit statistical model.\n",
    "\n",
    "print(DE_genes)\n",
    "# FCs, p_values = analysis.DE(adata)"
   ]
  },
  {
   "cell_type": "code",
   "execution_count": 553,
   "metadata": {},
   "outputs": [],
   "source": [
    "# # NB changing loom to h5ad.\n",
    "# adata_gaba = anndata.read_loom('monod_examples/sample_data/allen_C01_gaba.loom')\n",
    "# adata_gaba.var_names = adata_gaba.var['gene_name']\n",
    "# adata_gaba.obs_names = adata_gaba.obs['barcode']\n",
    "# adata_gaba.obs = adata_gaba.obs.drop(columns=['barcode'])\n",
    "# adata_gaba.var = adata_gaba.var.drop(columns=['gene_name'])\n",
    "# adata_gaba.write('gaba_example.h5ad')"
   ]
  },
  {
   "cell_type": "markdown",
   "metadata": {},
   "source": [
    "### Show some gene distributions."
   ]
  },
  {
   "cell_type": "code",
   "execution_count": 517,
   "metadata": {},
   "outputs": [
    {
     "name": "stdout",
     "output_type": "stream",
     "text": [
      "[0 1 2]\n",
      "Rspo3\n",
      "Erbin\n",
      "Gatm\n"
     ]
    },
    {
     "data": {
      "image/png": "[encoded data removed]",
      "text/plain": [
       "<Figure size 640x480 with 3 Axes>"
      ]
     },
     "metadata": {},
     "output_type": "display_data"
    }
   ],
   "source": [
    "fitted_adata = glu_adata\n",
    "\n",
    "search_result, search_data = fitted_adata.uns['search_result'], fitted_adata.uns['search_data']\n",
    "logscale = True\n",
    "\n",
    "sz =(1,3)\n",
    "(nrows, ncols) = sz\n",
    "fig1, ax1 = plt.subplots(nrows=nrows, ncols=ncols)\n",
    "\n",
    "nax = np.prod(sz)\n",
    "\n",
    "genes_to_plot = np.arange(nax)\n",
    "\n",
    "genes_to_plot = np.asarray(genes_to_plot)\n",
    "if genes_to_plot.dtype == bool:\n",
    "    gtp_temp = np.arange(self.n_genes)\n",
    "    genes_to_plot = gtp_temp[genes_to_plot]\n",
    "\n",
    "number_of_genes_to_plot = len(genes_to_plot)\n",
    "if number_of_genes_to_plot > 5:\n",
    "    number_of_genes_to_plot = 5\n",
    "    genes_to_plot = genes_to_plot[: 5]\n",
    "if number_of_genes_to_plot > nax:  # This should no longer break...\n",
    "    number_of_genes_to_plot = nax\n",
    "    genes_to_plot = genes_to_plot[:nax]\n",
    "\n",
    "j_ = 0\n",
    "marg = 'joint'\n",
    "modalities = ['spliced', 'unspliced']\n",
    "\n",
    "print(genes_to_plot)\n",
    "for i_ in genes_to_plot:\n",
    "    lm = np.copy(search_data.M[:, i_])\n",
    "    \n",
    "    # TODO: generalize by adding attribute names as attribute of e.g. CMEModel\n",
    "    # attributes = ['unspliced', 'spliced', 'protein']\n",
    "    \n",
    "    num_modalities = 2\n",
    "    for i in range(num_modalities):\n",
    "        if marg == modalities[i]:\n",
    "            lm[:i] = 1\n",
    "            lm[i+1:]=1\n",
    "            \n",
    "    axloc = np.unravel_index(j_, sz) if (sz[0] > 1 and sz[1] > 1) else j_\n",
    "\n",
    "    samp = search_result.regressor_optimum[i_]\n",
    "    Pa = np.squeeze(search_result.model.eval_model_pss(search_result.phys_optimum[i_], lm, samp))\n",
    "    layers = np.array([i.copy() for i in search_data.layers])\n",
    "    \n",
    "    marg = 'joint'\n",
    "    if marg == \"joint\":\n",
    "        if logscale:\n",
    "            Pa[Pa < 1e-10] = 1e-10\n",
    "            Pa = np.log10(Pa)\n",
    "\n",
    "        if num_modalities==2:\n",
    "            ax1[axloc].imshow(Pa.T, aspect=\"auto\", cmap=\"summer\")\n",
    "        elif num_modalities==3:\n",
    "            ax1[axloc].imshow(Pa.sum(axis=2).T, aspect=\"auto\", cmap=\"summer\")\n",
    "        else:\n",
    "            log.error('Joint distribution plot only implemented for 2 or 3 modalities')\n",
    "            \n",
    "        ax1[axloc].invert_yaxis()\n",
    "\n",
    "        jitter_magn = 0.1\n",
    "        jitter = np.random.randn(2, search_result.n_cells) * jitter_magn\n",
    "        ax1[axloc].scatter(\n",
    "            *layers[:2, :,i_] + jitter, c=\"k\", s=1, alpha=0.1\n",
    "        )\n",
    "\n",
    "        ax1[axloc].set_xlim([-0.5, search_data.M[0, i_] - 1.5])\n",
    "        ax1[axloc].set_ylim([-0.5, search_data.M[1, i_] - 1.5])\n",
    "    else:\n",
    "        plot_hist_and_fit(ax1[axloc], search_data, i_, Pa, marg)\n",
    "        if logscale:\n",
    "            ax1[axloc].set_yscale(\"log\")\n",
    "\n",
    "    print(search_result.gene_names.index[i_])\n",
    "    # if title:\n",
    "    #     titlestr = search_result.gene_names[i_]\n",
    "    #     if hasattr(search_result, \"rejected_genes\") and search_result.rejected_genes[i_]:\n",
    "    #         titlestr += \" (rej.)\"\n",
    "    #     ax1[axloc].set_title(titlestr, fontdict={\"fontsize\": 9})\n",
    "    ax1[axloc].set_xticks([])\n",
    "    ax1[axloc].set_yticks([])\n",
    "    j_ += 1\n",
    "fig1.tight_layout(pad=0.02)\n"
   ]
  }
 ],
 "metadata": {
  "colab": {
   "include_colab_link": true,
   "name": "Monod demo",
   "provenance": []
  },
  "kernelspec": {
   "display_name": "Python 3 (ipykernel)",
   "language": "python",
   "name": "python3"
  },
  "language_info": {
   "codemirror_mode": {
    "name": "ipython",
    "version": 3
   },
   "file_extension": ".py",
   "mimetype": "text/x-python",
   "name": "python",
   "nbconvert_exporter": "python",
   "pygments_lexer": "ipython3",
   "version": "3.12.2"
  }
 },
 "nbformat": 4,
 "nbformat_minor": 4
}
