{
  "nbformat": 4,
  "nbformat_minor": 0,
  "metadata": {
    "colab": {
      "provenance": [],
      "authorship_tag": "ABX9TyPQvPe20bjlfEUccGjLOXDq",
      "include_colab_link": true
    },
    "kernelspec": {
      "name": "python3",
      "display_name": "Python 3"
    },
    "language_info": {
      "name": "python"
    }
  },
  "cells": [
    {
      "cell_type": "markdown",
      "metadata": {
        "id": "view-in-github",
        "colab_type": "text"
      },
      "source": [
        "<a href=\"https://colab.research.google.com/github/pachterlab/monod/blob/nn-integration/Inference_Timing.ipynb\" target=\"_parent\"><img src=\"https://colab.research.google.com/assets/colab-badge.svg\" alt=\"Open In Colab\"/></a>"
      ]
    },
    {
      "cell_type": "code",
      "execution_count": 1,
      "metadata": {
        "colab": {
          "base_uri": "https://localhost:8080/"
        },
        "id": "uCt9FPZcf7XX",
        "outputId": "c59ba982-a5a8-4e2a-ec82-9b3757a33ac6"
      },
      "outputs": [
        {
          "output_type": "stream",
          "name": "stdout",
          "text": [
            "Cloning into 'monod'...\n",
            "remote: Enumerating objects: 753, done.\u001b[K\n",
            "remote: Counting objects: 100% (410/410), done.\u001b[K\n",
            "remote: Compressing objects: 100% (277/277), done.\u001b[K\n",
            "remote: Total 753 (delta 222), reused 242 (delta 132), pack-reused 343\u001b[K\n",
            "Receiving objects: 100% (753/753), 2.25 MiB | 16.69 MiB/s, done.\n",
            "Resolving deltas: 100% (408/408), done.\n"
          ]
        }
      ],
      "source": [
        "!git clone -b nn-integration https://github.com/pachterlab/monod.git"
      ]
    },
    {
      "cell_type": "code",
      "source": [
        "# dependencies\n",
        "!pip install -q loompy\n",
        "!pip install -q anndata"
      ],
      "metadata": {
        "colab": {
          "base_uri": "https://localhost:8080/"
        },
        "id": "ePk3yQ0igbaF",
        "outputId": "e9a84eb6-0313-4138-c95b-7f3f98bd7a3e"
      },
      "execution_count": 5,
      "outputs": [
        {
          "output_type": "stream",
          "name": "stdout",
          "text": [
            "\u001b[?25l     \u001b[90m━━━━━━━━━━━━━━━━━━━━━━━━━━━━━━━━━━━━━━━━\u001b[0m \u001b[32m0.0/4.8 MB\u001b[0m \u001b[31m?\u001b[0m eta \u001b[36m-:--:--\u001b[0m\r\u001b[2K     \u001b[91m━━━\u001b[0m\u001b[91m╸\u001b[0m\u001b[90m━━━━━━━━━━━━━━━━━━━━━━━━━━━━━━━━━━━━\u001b[0m \u001b[32m0.4/4.8 MB\u001b[0m \u001b[31m13.0 MB/s\u001b[0m eta \u001b[36m0:00:01\u001b[0m\r\u001b[2K     \u001b[91m━━━━━━━━━━━━━━━━━━━━━━━━━━━━\u001b[0m\u001b[91m╸\u001b[0m\u001b[90m━━━━━━━━━━━\u001b[0m \u001b[32m3.5/4.8 MB\u001b[0m \u001b[31m50.4 MB/s\u001b[0m eta \u001b[36m0:00:01\u001b[0m\r\u001b[2K     \u001b[91m━━━━━━━━━━━━━━━━━━━━━━━━━━━━━━━━━━━━━━━\u001b[0m\u001b[91m╸\u001b[0m \u001b[32m4.8/4.8 MB\u001b[0m \u001b[31m61.8 MB/s\u001b[0m eta \u001b[36m0:00:01\u001b[0m\r\u001b[2K     \u001b[90m━━━━━━━━━━━━━━━━━━━━━━━━━━━━━━━━━━━━━━━━\u001b[0m \u001b[32m4.8/4.8 MB\u001b[0m \u001b[31m43.9 MB/s\u001b[0m eta \u001b[36m0:00:00\u001b[0m\n",
            "\u001b[?25h  Preparing metadata (setup.py) ... \u001b[?25l\u001b[?25hdone\n",
            "  Building wheel for loompy (setup.py) ... \u001b[?25l\u001b[?25hdone\n",
            "\u001b[2K     \u001b[90m━━━━━━━━━━━━━━━━━━━━━━━━━━━━━━━━━━━━━━━━\u001b[0m \u001b[32m96.1/96.1 KB\u001b[0m \u001b[31m3.7 MB/s\u001b[0m eta \u001b[36m0:00:00\u001b[0m\n",
            "\u001b[?25h"
          ]
        }
      ]
    },
    {
      "cell_type": "code",
      "source": [
        "import sys\n",
        "sys.path.insert(0, '/content/monod/src')"
      ],
      "metadata": {
        "id": "NqcTkQqHgFJl"
      },
      "execution_count": 6,
      "outputs": []
    },
    {
      "cell_type": "code",
      "source": [
        "import monod\n",
        "from monod import preprocess, extract_data, cme_toolbox, inference, analysis"
      ],
      "metadata": {
        "id": "HvRlzsnCgHFm"
      },
      "execution_count": 7,
      "outputs": []
    },
    {
      "cell_type": "code",
      "source": [
        "import pandas as pd\n",
        "import numpy as np\n",
        "import loompy as lp\n",
        "import matplotlib.pyplot as plt\n",
        "import scipy"
      ],
      "metadata": {
        "id": "GgMP1bhvgJnD"
      },
      "execution_count": 8,
      "outputs": []
    },
    {
      "cell_type": "code",
      "source": [
        "!pwd"
      ],
      "metadata": {
        "colab": {
          "base_uri": "https://localhost:8080/"
        },
        "id": "Cp1RUnqlg5IE",
        "outputId": "6bd9f256-c273-46fb-9815-aa6a35701c89"
      },
      "execution_count": 9,
      "outputs": [
        {
          "output_type": "stream",
          "name": "stdout",
          "text": [
            "/content\n"
          ]
        }
      ]
    },
    {
      "cell_type": "code",
      "source": [
        "# load in data\n",
        "# data already pre-formatted to be correct format for monod\n",
        "# can import and load whatever data you want\n",
        "data_path = 'sample_data/raw.sd'\n",
        "search_data = monod.analysis.load_search_data(data_path)"
      ],
      "metadata": {
        "id": "KcmDEdoIgv86"
      },
      "execution_count": 10,
      "outputs": []
    },
    {
      "cell_type": "code",
      "source": [
        "result_strings = []\n",
        "import warnings\n",
        "warnings.filterwarnings(\"ignore\", category=RuntimeWarning) \n",
        "phys_lb = [-1.0, -1.8, -1.8 ]\n",
        "phys_ub = [4.2, 2.5, 3.5]\n",
        "samp_lb = [1,1]\n",
        "samp_ub = [1,1]\n",
        "gridsize = [1,1]"
      ],
      "metadata": {
        "id": "-Ak9R2uvgmBU"
      },
      "execution_count": 11,
      "outputs": []
    },
    {
      "cell_type": "code",
      "source": [
        "# Fit using fixed quad\n",
        "dir_path = './sample_data/'\n",
        "fitmodel_fq = monod.cme_toolbox.CMEModel('Bursty','None')\n",
        "inference_parameters_fq = monod.inference.InferenceParameters(phys_lb,phys_ub,samp_lb,samp_ub,gridsize,\\\n",
        "            dir_path,fitmodel_fq,use_lengths = False,\n",
        "            gradient_params = {'max_iterations':15,'init_pattern':'moments','num_restarts':1})\n",
        "#full_result_string = inference_parameters.fit_all_grid_points(1,search_data)\n",
        "#result_strings.append(full_result_string)"
      ],
      "metadata": {
        "id": "Ttyl-oT7hOHU"
      },
      "execution_count": 37,
      "outputs": []
    },
    {
      "cell_type": "code",
      "source": [
        "# Fit using bursty nn\n",
        "\n",
        "dir_path = './sample_data/'\n",
        "fitmodel_nn = monod.cme_toolbox.CMEModel('Bursty','None',quad_method='nn')\n",
        "inference_parameters_nn = monod.inference.InferenceParameters(phys_lb,phys_ub,samp_lb,samp_ub,gridsize,\\\n",
        "            dir_path,fitmodel_nn,use_lengths = False,\n",
        "            gradient_params = {'max_iterations':15,'init_pattern':'moments','num_restarts':1})\n",
        "#full_result_string = inference_parameters.fit_all_grid_points(1,search_data)\n",
        "#result_strings.append(full_result_string)"
      ],
      "metadata": {
        "id": "XrpQLICIhQwf"
      },
      "execution_count": 38,
      "outputs": []
    },
    {
      "cell_type": "code",
      "source": [
        "fitmodel_qv = monod.cme_toolbox.CMEModel('Bursty','None',quad_method='quad_vec')\n",
        "inference_parameters_qv = monod.inference.InferenceParameters(phys_lb,phys_ub,samp_lb,samp_ub,gridsize,\\\n",
        "            dir_path,fitmodel_qv,use_lengths = False,\n",
        "            gradient_params = {'max_iterations':15,'init_pattern':'moments','num_restarts':1})"
      ],
      "metadata": {
        "id": "wXH_iGr8h0qp"
      },
      "execution_count": 39,
      "outputs": []
    },
    {
      "cell_type": "markdown",
      "source": [
        "# Comparisons"
      ],
      "metadata": {
        "id": "PMRy9DdLiFk_"
      }
    },
    {
      "cell_type": "code",
      "source": [
        "import time"
      ],
      "metadata": {
        "id": "K27YHThCihJN"
      },
      "execution_count": 40,
      "outputs": []
    },
    {
      "cell_type": "code",
      "source": [
        "grad_inference_fq = monod.inference.GradientInference(inference_parameters_fq, fitmodel_fq, search_data, 0)\n",
        "grad_inference_qv = monod.inference.GradientInference(inference_parameters_qv, fitmodel_qv, search_data, 0)\n",
        "grad_inference_nn = monod.inference.GradientInference(inference_parameters_nn, fitmodel_nn, search_data, 0)"
      ],
      "metadata": {
        "id": "v7Auj1_oiGpn"
      },
      "execution_count": 41,
      "outputs": []
    },
    {
      "cell_type": "code",
      "source": [
        "N = 25\n",
        "\n",
        "\n",
        "t_fq = np.ones(N)\n",
        "for i in range(N):\n",
        "    t1 = time.time()\n",
        "    grad_inference_fq.optimize_gene(i,fitmodel_fq,search_data)\n",
        "    t_fq[i] = (time.time()-t1)\n",
        "\n",
        "\n",
        "t_qv = np.ones(N)\n",
        "for i in range(N):\n",
        "    t1 = time.time()\n",
        "    grad_inference_qv.optimize_gene(i,fitmodel_qv,search_data)\n",
        "    t_qv[i] = (time.time()-t1)\n",
        "\n",
        "\n",
        "\n",
        "t_nn = np.ones(N)\n",
        "for i in range(N):\n",
        "    t1 = time.time()\n",
        "    grad_inference_nn.optimize_gene(i,fitmodel_nn,search_data)\n",
        "    t_nn[i] = (time.time()-t1) \n",
        "    "
      ],
      "metadata": {
        "colab": {
          "base_uri": "https://localhost:8080/"
        },
        "id": "DGw-oWWjiIzd",
        "outputId": "38a2b4d1-833a-4107-aad6-191d1d720f74"
      },
      "execution_count": 42,
      "outputs": [
        {
          "output_type": "stream",
          "name": "stderr",
          "text": [
            "/content/monod/src/monod/nn_toolbox.py:472: RuntimeWarning: divide by zero encountered in log\n",
            "  return(np.log(P.numpy()))\n"
          ]
        }
      ]
    },
    {
      "cell_type": "code",
      "source": [
        "plt.scatter(t_fq,t_nn)\n",
        "xl = [t_fq.min(),t_fq.max()]\n",
        "plt.plot(xl,xl)\n",
        "plt.xscale('log')\n",
        "plt.yscale('log')\n",
        "plt.xlabel('fixed quad time')\n",
        "plt.ylabel('NN time')"
      ],
      "metadata": {
        "colab": {
          "base_uri": "https://localhost:8080/",
          "height": 300
        },
        "id": "ys6_ffI8jDcl",
        "outputId": "5ef3fea2-ce9f-4648-e590-7df12b123c1d"
      },
      "execution_count": 46,
      "outputs": [
        {
          "output_type": "execute_result",
          "data": {
            "text/plain": [
              "Text(0, 0.5, 'NN time')"
            ]
          },
          "metadata": {},
          "execution_count": 46
        },
        {
          "output_type": "display_data",
          "data": {
            "text/plain": [
              "<Figure size 432x288 with 1 Axes>"
            ],
            "image/png": "[encoded data removed]"
          },
          "metadata": {
            "needs_background": "light"
          }
        }
      ]
    },
    {
      "cell_type": "code",
      "source": [
        "plt.hist(t_fq);\n",
        "print(np.mean(t_fq));"
      ],
      "metadata": {
        "colab": {
          "base_uri": "https://localhost:8080/",
          "height": 282
        },
        "id": "-ImdCZzRlkqf",
        "outputId": "094900ea-0c20-4913-f6c0-5b01a494f560"
      },
      "execution_count": 52,
      "outputs": [
        {
          "output_type": "stream",
          "name": "stdout",
          "text": [
            "0.11945179939270019\n"
          ]
        },
        {
          "output_type": "display_data",
          "data": {
            "text/plain": [
              "<Figure size 432x288 with 1 Axes>"
            ],
            "image/png": "[encoded data removed]"
          },
          "metadata": {
            "needs_background": "light"
          }
        }
      ]
    },
    {
      "cell_type": "code",
      "source": [
        "plt.hist(t_nn);\n",
        "print(np.mean(t_nn));"
      ],
      "metadata": {
        "colab": {
          "base_uri": "https://localhost:8080/",
          "height": 282
        },
        "id": "ZQT264VRln_f",
        "outputId": "bc9aedf1-1c95-4f03-8edf-c4043c95b6b6"
      },
      "execution_count": 51,
      "outputs": [
        {
          "output_type": "stream",
          "name": "stdout",
          "text": [
            "0.15547703742980956\n"
          ]
        },
        {
          "output_type": "display_data",
          "data": {
            "text/plain": [
              "<Figure size 432x288 with 1 Axes>"
            ],
            "image/png": "[encoded data removed]"
          },
          "metadata": {
            "needs_background": "light"
          }
        }
      ]
    },
    {
      "cell_type": "code",
      "source": [
        "plt.scatter(t_qv,t_nn)\n",
        "xl = [t_qv.min(),t_qv.max()]\n",
        "plt.plot(xl,xl)\n",
        "plt.xlabel('qv time')\n",
        "plt.ylabel('NN time')"
      ],
      "metadata": {
        "colab": {
          "base_uri": "https://localhost:8080/",
          "height": 296
        },
        "id": "5inMsqDljI61",
        "outputId": "46d0bcf2-c0ef-40ac-e385-efec338a3ccf"
      },
      "execution_count": 47,
      "outputs": [
        {
          "output_type": "execute_result",
          "data": {
            "text/plain": [
              "Text(0, 0.5, 'NN time')"
            ]
          },
          "metadata": {},
          "execution_count": 47
        },
        {
          "output_type": "display_data",
          "data": {
            "text/plain": [
              "<Figure size 432x288 with 1 Axes>"
            ],
            "image/png": "[encoded data removed]"
          },
          "metadata": {
            "needs_background": "light"
          }
        }
      ]
    },
    {
      "cell_type": "code",
      "source": [
        "plt.scatter(t_fq,t_qv)\n",
        "xl = [t_fq.min(),t_fq.max()]\n",
        "plt.plot(xl,xl)\n",
        "plt.xlabel('fixed quad time')\n",
        "plt.ylabel('qv time')"
      ],
      "metadata": {
        "colab": {
          "base_uri": "https://localhost:8080/",
          "height": 296
        },
        "id": "4UCa7OUXjmCK",
        "outputId": "842220dc-a399-4e5f-bfd1-6a85d21f88f4"
      },
      "execution_count": 48,
      "outputs": [
        {
          "output_type": "execute_result",
          "data": {
            "text/plain": [
              "Text(0, 0.5, 'qv time')"
            ]
          },
          "metadata": {},
          "execution_count": 48
        },
        {
          "output_type": "display_data",
          "data": {
            "text/plain": [
              "<Figure size 432x288 with 1 Axes>"
            ],
            "image/png": "[encoded data removed]"
          },
          "metadata": {
            "needs_background": "light"
          }
        }
      ]
    }
  ]
}